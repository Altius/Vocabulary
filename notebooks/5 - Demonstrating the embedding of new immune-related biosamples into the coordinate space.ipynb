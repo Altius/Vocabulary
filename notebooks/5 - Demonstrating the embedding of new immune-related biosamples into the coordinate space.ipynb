{
 "cells": [
  {
   "cell_type": "markdown",
   "metadata": {},
   "source": [
    "# Demonstrating the embedding of new biosamples into the coordinate space.\n",
    "Based on 733 sample x 3.5+ million DHS presence/absence matrix"
   ]
  },
  {
   "cell_type": "markdown",
   "metadata": {},
   "source": [
    "# 1. Import libraries & load datasets"
   ]
  },
  {
   "cell_type": "code",
   "execution_count": 1,
   "metadata": {},
   "outputs": [
    {
     "name": "stdout",
     "output_type": "stream",
     "text": [
      "3.6.4\n"
     ]
    }
   ],
   "source": [
    "from platform import python_version\n",
    "print(python_version())"
   ]
  },
  {
   "cell_type": "code",
   "execution_count": 2,
   "metadata": {},
   "outputs": [],
   "source": [
    "import sys\n",
    "import numpy as np\n",
    "import pandas as pd\n",
    "import gzip\n",
    "import matplotlib.pyplot as plt\n",
    "from sklearn.decomposition import NMF, non_negative_factorization"
   ]
  },
  {
   "cell_type": "code",
   "execution_count": 3,
   "metadata": {},
   "outputs": [],
   "source": [
    "sys.path.append('..')\n",
    "import OONMFhelpers\n",
    "import OONMF"
   ]
  },
  {
   "cell_type": "markdown",
   "metadata": {},
   "source": [
    "#### Fetch the 733-biosample presence/absence Index\n",
    "This will take at least a few minutes.\n",
    "These data can be obtained from here: https://doi.org/10.5281/zenodo.3752359"
   ]
  },
  {
   "cell_type": "code",
   "execution_count": 4,
   "metadata": {},
   "outputs": [
    {
     "data": {
      "text/plain": [
       "(733, 3591898)"
      ]
     },
     "execution_count": 4,
     "metadata": {},
     "output_type": "execute_result"
    }
   ],
   "source": [
    "A = pd.read_table('../data/dat_bin_FDR01_hg38.txt.gz', header=None).T\n",
    "A.shape"
   ]
  },
  {
   "cell_type": "markdown",
   "metadata": {},
   "source": [
    "#### Fetch the new-to-be-added immune data, mapped to the 733-biosample Index\n",
    "This is done using an external script (see `../scripts/get_new_peak_data.sh`) that calls `bedmap` to determine whether hotspot2 0.1% FDR variable-width peak calls for the new-to-be-added datasets overlap the 3.5M+ DHS Index elements.\n",
    "It then pastes these results together to form a 3591898 x N matrix, where N is the number of new-to-be-added datasets.\n",
    "Alternatively, it is possible, but less straightforward, to include data this way without explicitly having peak calls. This is demonstrated elsewhere (see `../scripts/get_new_signal_data.sh`)."
   ]
  },
  {
   "cell_type": "code",
   "execution_count": 7,
   "metadata": {},
   "outputs": [
    {
     "data": {
      "text/plain": [
       "(38, 3591898)"
      ]
     },
     "execution_count": 7,
     "metadata": {},
     "output_type": "execute_result"
    }
   ],
   "source": [
    "dat_immune = pd.read_table('../data/dat_immunopedia.txt.gz', header=None).T\n",
    "dat_immune.shape"
   ]
  },
  {
   "cell_type": "markdown",
   "metadata": {},
   "source": [
    "#### Combine the two datasets"
   ]
  },
  {
   "cell_type": "code",
   "execution_count": 8,
   "metadata": {},
   "outputs": [
    {
     "data": {
      "text/plain": [
       "(771, 3591898)"
      ]
     },
     "execution_count": 8,
     "metadata": {},
     "output_type": "execute_result"
    }
   ],
   "source": [
    "A_immune = np.concatenate([A, dat_immune])\n",
    "A_immune.shape"
   ]
  },
  {
   "cell_type": "markdown",
   "metadata": {},
   "source": [
    "#### Load in NMF decomposition based on 733 biosamples\n",
    "These data can also be obtained from here: https://doi.org/10.5281/zenodo.3752359"
   ]
  },
  {
   "cell_type": "code",
   "execution_count": 9,
   "metadata": {},
   "outputs": [
    {
     "data": {
      "text/plain": [
       "(16, 3591898)"
      ]
     },
     "execution_count": 9,
     "metadata": {},
     "output_type": "execute_result"
    }
   ],
   "source": [
    "B = np.load(gzip.GzipFile('../data/2018-06-08NC16_NNDSVD_Mixture.npy.gz', \"r\"))\n",
    "B.shape"
   ]
  },
  {
   "cell_type": "markdown",
   "metadata": {},
   "source": [
    "# 2. Solve the model for a fixed matrix H\n",
    "H represents the DHS-wise decomposition of the original 733 biosamples)"
   ]
  },
  {
   "cell_type": "code",
   "execution_count": 10,
   "metadata": {},
   "outputs": [
    {
     "name": "stdout",
     "output_type": "stream",
     "text": [
      "violation: 1.0\n",
      "violation: 0.49078091705465937\n",
      "violation: 0.18456859657810026\n",
      "violation: 0.08228335564482\n",
      "violation: 0.042609737196511795\n",
      "violation: 0.025079357702181126\n",
      "violation: 0.016286164046059516\n",
      "violation: 0.010908663213629759\n",
      "violation: 0.007755537427980669\n",
      "violation: 0.005585662753447762\n",
      "violation: 0.004038211289276709\n",
      "violation: 0.002935039120549785\n",
      "violation: 0.00210858647902221\n",
      "violation: 0.0015394798110338018\n",
      "violation: 0.0011504768972838112\n",
      "violation: 0.0008592764207627129\n",
      "violation: 0.0006511876399618211\n",
      "violation: 0.0005004296659783482\n",
      "violation: 0.00038875881594693535\n",
      "violation: 0.0003028347850570793\n",
      "violation: 0.00023704594233261848\n",
      "violation: 0.0001841462970127696\n",
      "violation: 0.00014212936372233226\n",
      "violation: 0.00011053179547323599\n",
      "violation: 8.64181689412054e-05\n",
      "Converged at iteration 25\n"
     ]
    }
   ],
   "source": [
    "W, H, n_iter = non_negative_factorization(A_immune, n_components=16, init='custom', random_state=3, update_H=False, H=B, verbose=1)"
   ]
  },
  {
   "cell_type": "markdown",
   "metadata": {},
   "source": [
    "#### Save the results to disk for later use"
   ]
  },
  {
   "cell_type": "code",
   "execution_count": 11,
   "metadata": {},
   "outputs": [],
   "source": [
    "f = gzip.GzipFile('../data/2020-04-14ImmuneSpecialNC16seed20.npy.gz', \"w\")\n",
    "np.save(f, W)\n",
    "f.close()"
   ]
  }
 ],
 "metadata": {
  "kernelspec": {
   "display_name": "Python 3",
   "language": "python",
   "name": "python3"
  },
  "language_info": {
   "codemirror_mode": {
    "name": "ipython",
    "version": 3
   },
   "file_extension": ".py",
   "mimetype": "text/x-python",
   "name": "python",
   "nbconvert_exporter": "python",
   "pygments_lexer": "ipython3",
   "version": "3.6.4"
  }
 },
 "nbformat": 4,
 "nbformat_minor": 4
}
