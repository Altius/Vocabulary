{
 "cells": [
  {
   "cell_type": "code",
   "execution_count": 1,
   "metadata": {
    "collapsed": true
   },
   "outputs": [],
   "source": [
    "finname = '2017-09-25NMF_Ncomps16Basis.npy'"
   ]
  },
  {
   "cell_type": "code",
   "execution_count": 2,
   "metadata": {
    "collapsed": true
   },
   "outputs": [],
   "source": [
    "import numpy as np\n",
    "import pandas as pd\n",
    "import matplotlib.pyplot as plt"
   ]
  },
  {
   "cell_type": "code",
   "execution_count": 3,
   "metadata": {
    "collapsed": true
   },
   "outputs": [],
   "source": [
    "Basis = np.load(finname)"
   ]
  },
  {
   "cell_type": "code",
   "execution_count": 4,
   "metadata": {
    "collapsed": false
   },
   "outputs": [
    {
     "data": {
      "text/plain": [
       "(651, 16)"
      ]
     },
     "execution_count": 4,
     "metadata": {},
     "output_type": "execute_result"
    }
   ],
   "source": [
    "Basis.shape"
   ]
  },
  {
   "cell_type": "code",
   "execution_count": 5,
   "metadata": {
    "collapsed": true
   },
   "outputs": [],
   "source": [
    "normedBasis = (Basis.T / np.sum(Basis.T, axis=0)).T"
   ]
  },
  {
   "cell_type": "code",
   "execution_count": 6,
   "metadata": {
    "collapsed": false
   },
   "outputs": [
    {
     "data": {
      "text/plain": [
       "(651, 16)"
      ]
     },
     "execution_count": 6,
     "metadata": {},
     "output_type": "execute_result"
    }
   ],
   "source": [
    "normedBasis.shape"
   ]
  },
  {
   "cell_type": "code",
   "execution_count": 7,
   "metadata": {
    "collapsed": false
   },
   "outputs": [
    {
     "data": {
      "text/plain": [
       "1.0"
      ]
     },
     "execution_count": 7,
     "metadata": {},
     "output_type": "execute_result"
    }
   ],
   "source": [
    "sum(normedBasis[0])"
   ]
  },
  {
   "cell_type": "code",
   "execution_count": 16,
   "metadata": {
    "collapsed": true
   },
   "outputs": [],
   "source": [
    "from sklearn.cluster import KMeans\n"
   ]
  },
  {
   "cell_type": "code",
   "execution_count": 8,
   "metadata": {
    "collapsed": true
   },
   "outputs": [],
   "source": [
    "def make_stacked_bar_plot(Ncomps, Nrelevant, BarMatrix, bargraph_out, names = [], plotClusterMode=False, barsortorder=[], clusterTopLabels=[], colormode='Sasha'):\n",
    "    if len(barsortorder)<1:\n",
    "        barsortorder = np.arange(Nrelevant)\n",
    "        print('inventing barsortorder')\n",
    "    if len(names) < 1:\n",
    "        print('inventing names')\n",
    "        names = [str(i) for i in range(Nrelevant)]\n",
    "        names = np.array(names)\n",
    "    ttt = np.arange(Nrelevant)\n",
    "    start = 0\n",
    "    end = Nrelevant\n",
    "    ground_pSample = ttt*0\n",
    "    Comp_colors = define_colorsA(Ncomps, mode=colormode)\n",
    "    plt.clf()\n",
    "    plt.figure(figsize=(150,40))\n",
    "    plt.bar(ttt[start:end], BarMatrix[0,start:end][barsortorder], color='r',\n",
    "             bottom=ground_pSample[start:end], alpha=0.75)\n",
    "    ground_pSample = BarMatrix[0,start:end][barsortorder]\n",
    "    for i in range(1,Ncomps):\n",
    "        plt.bar(ttt[start:end],BarMatrix[i,start:end][barsortorder], bottom = ground_pSample, color=Comp_colors[i], alpha=0.75)\n",
    "        ground_pSample = np.sum(BarMatrix[0: i+1,start:end], axis=0)[barsortorder]\n",
    "    increase_axis_fontsize()\n",
    "    plt.ylabel('sum of signal in matrix',fontsize=70)\n",
    "    #plt.title('Full Sample',fontsize=70)\n",
    "    samplenamesize = 11\n",
    "    samplenamesize = (1/Nrelevant)**0.5 * 300\n",
    "    #thebottom = 0.15\n",
    "    thebottom = min([(1/Nrelevant)**0.3 * 1.2, 0.3])\n",
    "    if(plotClusterMode):\n",
    "        plt.xticks(ttt, ttt.astype(str), rotation='vertical', fontsize=samplenamesize)\n",
    "        if len(clusterTopLabels) > 0:\n",
    "            ax = plt.gca()\n",
    "            ax2 = ax.twiny()\n",
    "            ax2.set_xticks(ttt)\n",
    "            ax2.set_xticklabels(clusterTopLabels.astype(str), rotation=90, fontsize=samplenamesize)\n",
    "            #ax.xaxis.tick_top()\n",
    "            #plt.xticks(ttt, clusterTopLabels.astype(str), rotation='vertical', fontsize=samplenamesize)\n",
    "    else:\n",
    "        plt.xticks(ttt, names[barsortorder], rotation='vertical', fontsize=samplenamesize)\t\n",
    "    plot_margin = 5\n",
    "    plt.subplots_adjust(left=0.1, right=0.9, top=0.9, bottom=thebottom)\n",
    "    plt.savefig(bargraph_out)\n",
    "    plt.close()\t"
   ]
  },
  {
   "cell_type": "code",
   "execution_count": 9,
   "metadata": {
    "collapsed": true
   },
   "outputs": [],
   "source": [
    "def define_colorsA(Ncomps, mode='Sasha'):\n",
    "    if (mode=='Sasha'):\n",
    "        Comp_colors = ['red', 'tan', 'lime','blue','m','k','c', 'coral', 'indigo','darkgreen','orange','grey','gold', 'lightskyblue', 'peru', 'olive']\n",
    "    elif (mode == 'Wouter'):\n",
    "        Comp_colors = [\"#A6CEE3\", \"#438EC0\", \"#63A8A0\", \"#98D277\", \"#3BA432\", \"#B89B74\", \"#F16667\", \"#E62F27\", \"#F9A963\", \"#FE982C\", \"#ED8F47\", \"#C3AAD2\", \"#7D54A5\",\"#B9A499\", \"#EAD27A\" ,\"#B15928\"]\n",
    "    if (Ncomps>16):\n",
    "        np.random.seed(666)\n",
    "        from matplotlib import colors as mcolors\n",
    "        colornames = list(mcolors.CSS4_COLORS.keys())\n",
    "        count = 16\n",
    "        while (count < Ncomps):\n",
    "            newcolor = colornames[np.random.randint(0,len(colornames))]\n",
    "            trialcount = 0\n",
    "            while ((newcolor in Comp_colors) and (trialcount < 100)):\n",
    "                newcolor = colornames[np.random.randint(0,len(colornames))]\n",
    "                trialcount+=1\n",
    "            Comp_colors.append(newcolor)\n",
    "            count+=1\n",
    "    return Comp_colors"
   ]
  },
  {
   "cell_type": "code",
   "execution_count": 10,
   "metadata": {
    "collapsed": false
   },
   "outputs": [
    {
     "name": "stderr",
     "output_type": "stream",
     "text": [
      "/Users/amuratov/anaconda/lib/python3.5/site-packages/matplotlib/__init__.py:1405: UserWarning: \n",
      "This call to matplotlib.use() has no effect because the backend has already\n",
      "been chosen; matplotlib.use() must be called *before* pylab, matplotlib.pyplot,\n",
      "or matplotlib.backends is imported for the first time.\n",
      "\n",
      "  warnings.warn(_use_error_msg)\n"
     ]
    }
   ],
   "source": [
    "from OONMFhelpers import *"
   ]
  },
  {
   "cell_type": "code",
   "execution_count": 36,
   "metadata": {
    "collapsed": false
   },
   "outputs": [],
   "source": [
    "kmeans_normed_sample_normed = KMeans(n_clusters=16, random_state=0).fit(normedBasis)\n"
   ]
  },
  {
   "cell_type": "code",
   "execution_count": 39,
   "metadata": {
    "collapsed": false,
    "scrolled": true
   },
   "outputs": [
    {
     "data": {
      "text/plain": [
       "array([ 4, 14,  4, 14,  3,  6,  3,  0,  8,  3, 14,  3, 15, 15, 15,  3,  5,\n",
       "        5,  1,  1, 11, 11, 11, 11, 11, 11, 11, 11, 11,  3,  7,  2,  7, 14,\n",
       "        5, 11,  2, 14,  2,  8,  3,  3,  3,  4,  3,  8,  7,  7, 14, 14,  9,\n",
       "       10,  9,  6,  4,  4,  4,  4,  4,  4,  3, 14, 14, 14,  4,  4,  8,  8,\n",
       "       14,  8,  6,  2,  6,  6,  6, 14,  4,  4,  7,  7, 14,  0, 13,  8, 13,\n",
       "        0,  4, 14, 14,  4,  4, 14, 11,  3,  7,  7, 14,  4,  4,  7,  0,  4,\n",
       "        8,  6,  8, 13,  4,  8,  8,  5, 13,  6,  6,  8, 14,  4, 14, 14,  7,\n",
       "        7,  9,  0,  9,  9,  7,  3, 13, 13,  6,  5,  0,  9,  0,  6,  4,  4,\n",
       "        4,  4,  3,  9,  9,  7,  9,  9,  9,  9,  7,  7,  9,  9,  0,  9,  7,\n",
       "        3,  2,  2,  0,  9,  4,  9, 14,  0, 14, 14,  7,  7,  4,  4,  9,  0,\n",
       "        8, 11,  1, 14,  0,  9,  0,  0,  4,  4,  7,  7,  7,  0,  9,  3,  7,\n",
       "        7,  7,  7,  1,  7,  7,  7,  0,  4,  0,  0,  0,  0,  0,  0,  6, 10,\n",
       "        6, 10, 10, 10,  8,  8, 14, 14, 14, 14,  4,  4,  4,  3,  6, 10, 10,\n",
       "       10, 10,  7,  7,  0,  9, 10,  4, 10, 10, 10, 14, 10, 10,  9,  0, 10,\n",
       "       14,  0,  0, 14,  0,  4, 14, 15,  1,  0,  9,  8,  8,  9,  0, 14,  7,\n",
       "        8,  6, 14, 10,  6, 10,  4,  4, 14,  4, 14,  0,  1,  7,  4,  4,  2,\n",
       "        4,  8,  7,  0,  7,  6,  6,  6,  7,  8,  8,  9,  9,  4,  4, 15, 14,\n",
       "       14,  0,  9, 13, 15,  4,  6, 14, 14,  4,  4,  4,  4,  6,  1, 14, 14,\n",
       "        8,  8, 14,  3,  2, 13,  4, 13, 14, 11,  1, 14,  9,  0,  9, 14, 13,\n",
       "        1, 13,  1,  3, 14,  3,  0,  4,  8,  8,  9, 14,  0,  9,  3,  6,  6,\n",
       "        6,  4, 15,  1,  6,  6,  7,  8, 13,  1, 14,  9,  1,  1,  1,  3, 11,\n",
       "        6,  6,  3,  0,  3,  3,  3,  4,  3, 14,  3, 12, 13,  3, 11,  3,  3,\n",
       "        3, 12, 12,  1,  1, 11,  3,  4,  4,  3, 12,  1, 11, 11,  7, 14, 12,\n",
       "        3, 11,  3,  7,  3,  3, 12,  3,  3, 12, 12,  1,  1,  7, 11, 11, 12,\n",
       "        1, 12,  1,  3,  3,  2,  2,  2,  2,  7,  3, 11, 12, 14,  3,  3, 12,\n",
       "       11, 11,  7, 12,  3,  5,  5,  3,  3, 11, 11,  1,  3,  3,  3, 11, 11,\n",
       "       11,  3,  2,  2,  7, 15, 12, 12,  3,  5,  1,  1,  1,  3,  3,  1, 15,\n",
       "       12, 11, 11, 11, 12,  5, 12, 11, 12,  5,  5,  1,  1, 12, 12,  5,  5,\n",
       "        2, 14,  2,  7,  1,  1,  3, 12,  2,  2,  8,  8,  7,  5,  5, 11, 14,\n",
       "        5,  5,  2,  0,  0,  9,  9,  8,  8,  5,  5,  3,  5,  3,  4,  4,  1,\n",
       "        1,  4,  6,  5,  5,  5, 11,  5,  5,  5,  1,  1,  3,  6,  6, 11,  5,\n",
       "       14,  9,  9, 11, 11,  6, 14,  6,  4,  4,  4,  6,  5,  6, 11, 11,  3,\n",
       "       11, 11,  9,  9,  5,  5,  5,  5,  5,  6, 15,  5,  5,  5,  5,  0,  9,\n",
       "       11, 11, 11, 11,  5,  5,  6,  6,  6,  6, 14,  5,  5,  6,  5,  5,  5,\n",
       "        6,  5,  5, 11, 11, 15,  3,  3,  5,  5,  9,  0,  2,  2,  9,  0,  5,\n",
       "        5,  5,  9,  0,  0,  9,  8,  8,  9,  9,  0,  9, 11, 11, 11, 11,  9,\n",
       "        9,  6,  3, 13, 13, 13,  5,  5,  5, 14,  3,  2,  3,  3, 13, 11,  4,\n",
       "        4,  4,  0,  9, 13,  0,  5, 14,  0, 11, 11, 11, 14,  9,  8, 13,  5,\n",
       "        5,  4, 11,  3, 14], dtype=int32)"
      ]
     },
     "execution_count": 39,
     "metadata": {},
     "output_type": "execute_result"
    }
   ],
   "source": [
    "kmeans_normed_sample_normed.labels_"
   ]
  },
  {
   "cell_type": "code",
   "execution_count": 41,
   "metadata": {
    "collapsed": true
   },
   "outputs": [],
   "source": [
    "clusterassignments = kmeans_normed_sample_normed.labels_"
   ]
  },
  {
   "cell_type": "code",
   "execution_count": 40,
   "metadata": {
    "collapsed": false
   },
   "outputs": [
    {
     "data": {
      "text/plain": [
       "40.188547075789131"
      ]
     },
     "execution_count": 40,
     "metadata": {},
     "output_type": "execute_result"
    }
   ],
   "source": [
    "kmeans_normed_sample_normed.inertia_"
   ]
  },
  {
   "cell_type": "code",
   "execution_count": 42,
   "metadata": {
    "collapsed": false
   },
   "outputs": [
    {
     "name": "stdout",
     "output_type": "stream",
     "text": [
      "doing  0\n",
      "inventing names\n",
      "doing  1\n",
      "inventing names\n",
      "doing  2\n",
      "inventing names\n",
      "doing  3\n",
      "inventing names\n",
      "doing  4\n",
      "inventing names\n",
      "doing  5\n",
      "inventing names\n",
      "doing  6\n",
      "inventing names\n",
      "doing  7\n",
      "inventing names\n",
      "doing  8\n",
      "inventing names\n",
      "doing  9\n",
      "inventing names\n",
      "doing  10\n",
      "inventing names\n",
      "doing  11\n",
      "inventing names\n",
      "doing  12\n",
      "inventing names\n",
      "doing  13\n",
      "inventing names\n",
      "doing  14\n",
      "inventing names\n",
      "doing  15\n",
      "inventing names\n"
     ]
    }
   ],
   "source": [
    "for i in range(16):\n",
    "    print('doing ',i)\n",
    "    basiscut = clusterassignments==i\n",
    "    normedbarsortorder = get_barsortorder(normedBasis[basiscut])\n",
    "    make_stacked_bar_plot(16, len(basiscut[basiscut]), normedBasis[basiscut].T, 'normedcluster'+str(i)+'.pdf', barsortorder=normedbarsortorder)"
   ]
  },
  {
   "cell_type": "code",
   "execution_count": 57,
   "metadata": {
    "collapsed": false
   },
   "outputs": [
    {
     "name": "stdout",
     "output_type": "stream",
     "text": [
      "doing  2\n",
      "doing  3\n",
      "doing  4\n",
      "doing  5\n",
      "doing  6\n",
      "doing  7\n",
      "doing  8\n",
      "doing  9\n",
      "doing  10\n",
      "doing  11\n",
      "doing  12\n",
      "doing  13\n",
      "doing  14\n",
      "doing  15\n",
      "doing  16\n",
      "doing  17\n",
      "doing  18\n",
      "doing  19\n",
      "doing  20\n",
      "doing  21\n",
      "doing  22\n",
      "doing  23\n",
      "doing  24\n",
      "doing  25\n",
      "doing  26\n",
      "doing  27\n",
      "doing  28\n",
      "doing  29\n",
      "doing  30\n",
      "doing  31\n",
      "doing  32\n",
      "doing  33\n",
      "doing  34\n",
      "doing  35\n",
      "doing  36\n",
      "doing  37\n",
      "doing  38\n",
      "doing  39\n",
      "doing  40\n",
      "doing  41\n",
      "doing  42\n",
      "doing  43\n",
      "doing  44\n",
      "doing  45\n",
      "doing  46\n",
      "doing  47\n",
      "doing  48\n",
      "doing  49\n",
      "doing  50\n",
      "doing  51\n",
      "doing  52\n",
      "doing  53\n",
      "doing  54\n",
      "doing  55\n",
      "doing  56\n",
      "doing  57\n",
      "doing  58\n",
      "doing  59\n",
      "doing  60\n",
      "doing  61\n",
      "doing  62\n",
      "doing  63\n"
     ]
    }
   ],
   "source": [
    "clusternums = [i for i in range(2, 64)]\n",
    "inertialist = []\n",
    "for i in clusternums:\n",
    "    print('doing ',i)\n",
    "    kmeans_normed_sample_normed = KMeans(n_clusters=i, random_state=0).fit(normedBasis)\n",
    "    inertialist.append(kmeans_normed_sample_normed.inertia_)\n"
   ]
  },
  {
   "cell_type": "code",
   "execution_count": 58,
   "metadata": {
    "collapsed": false
   },
   "outputs": [
    {
     "data": {
      "image/png": "[encoded data removed]",
      "text/plain": [
       "<matplotlib.figure.Figure at 0x122ff2d68>"
      ]
     },
     "metadata": {},
     "output_type": "display_data"
    }
   ],
   "source": [
    "plt.clf()\n",
    "plt.plot(clusternums, inertialist, 'ok')\n",
    "plt.show()"
   ]
  },
  {
   "cell_type": "code",
   "execution_count": 59,
   "metadata": {
    "collapsed": false
   },
   "outputs": [
    {
     "data": {
      "text/plain": [
       "[213.31858130564609,\n",
       " 187.41847236810733,\n",
       " 163.449129915067,\n",
       " 140.37638652114447,\n",
       " 122.5460626582264,\n",
       " 111.90850822233203,\n",
       " 98.232777590203057,\n",
       " 88.709247776277977,\n",
       " 77.916099569627548,\n",
       " 69.304546940290223,\n",
       " 60.895037065287724,\n",
       " 55.153496408124255,\n",
       " 49.254473739506047,\n",
       " 43.904949416233173,\n",
       " 40.188547075789131,\n",
       " 36.917571200478733,\n",
       " 35.065566039447731,\n",
       " 33.076340605011055,\n",
       " 31.470368438679557,\n",
       " 30.201122561992364,\n",
       " 28.412683314594691,\n",
       " 27.532775625833629,\n",
       " 26.697495963126933,\n",
       " 26.044542693395776,\n",
       " 24.694595535913265,\n",
       " 23.938909995667569,\n",
       " 23.181184373580237,\n",
       " 23.170276599828188,\n",
       " 21.890007519831848,\n",
       " 21.805702597961208,\n",
       " 20.80227201903368,\n",
       " 20.319197028631166,\n",
       " 19.519145785360394,\n",
       " 19.262703860422853,\n",
       " 18.757207163687731,\n",
       " 18.310564695484064,\n",
       " 17.75344920527785,\n",
       " 17.546997272913369,\n",
       " 17.210494914626928,\n",
       " 16.654585311747145,\n",
       " 16.465854923406177,\n",
       " 16.466467806818464,\n",
       " 15.816306601067005,\n",
       " 15.493486868581446,\n",
       " 14.999211658953609,\n",
       " 14.72059893493506,\n",
       " 14.540404529557296,\n",
       " 14.330431940204312,\n",
       " 13.752369958546636,\n",
       " 13.54593388418348,\n",
       " 13.542084689587622,\n",
       " 13.319294364319417,\n",
       " 12.808610405054468,\n",
       " 12.555285153278167,\n",
       " 12.491015896035766,\n",
       " 11.93429356831718,\n",
       " 11.953400896060884,\n",
       " 11.803245109378373,\n",
       " 11.488970425281341,\n",
       " 11.411672155020305,\n",
       " 11.045433626001477,\n",
       " 11.116999013483186]"
      ]
     },
     "execution_count": 59,
     "metadata": {},
     "output_type": "execute_result"
    }
   ],
   "source": [
    "inertialist"
   ]
  },
  {
   "cell_type": "code",
   "execution_count": 60,
   "metadata": {
    "collapsed": false
   },
   "outputs": [
    {
     "data": {
      "text/plain": [
       "[2,\n",
       " 3,\n",
       " 4,\n",
       " 5,\n",
       " 6,\n",
       " 7,\n",
       " 8,\n",
       " 9,\n",
       " 10,\n",
       " 11,\n",
       " 12,\n",
       " 13,\n",
       " 14,\n",
       " 15,\n",
       " 16,\n",
       " 17,\n",
       " 18,\n",
       " 19,\n",
       " 20,\n",
       " 21,\n",
       " 22,\n",
       " 23,\n",
       " 24,\n",
       " 25,\n",
       " 26,\n",
       " 27,\n",
       " 28,\n",
       " 29,\n",
       " 30,\n",
       " 31,\n",
       " 32,\n",
       " 33,\n",
       " 34,\n",
       " 35,\n",
       " 36,\n",
       " 37,\n",
       " 38,\n",
       " 39,\n",
       " 40,\n",
       " 41,\n",
       " 42,\n",
       " 43,\n",
       " 44,\n",
       " 45,\n",
       " 46,\n",
       " 47,\n",
       " 48,\n",
       " 49,\n",
       " 50,\n",
       " 51,\n",
       " 52,\n",
       " 53,\n",
       " 54,\n",
       " 55,\n",
       " 56,\n",
       " 57,\n",
       " 58,\n",
       " 59,\n",
       " 60,\n",
       " 61,\n",
       " 62,\n",
       " 63]"
      ]
     },
     "execution_count": 60,
     "metadata": {},
     "output_type": "execute_result"
    }
   ],
   "source": [
    "clusternums"
   ]
  },
  {
   "cell_type": "code",
   "execution_count": 61,
   "metadata": {
    "collapsed": false
   },
   "outputs": [
    {
     "data": {
      "text/plain": [
       "array([-25.90010894, -24.9347257 , -23.52104292, -20.45153363,\n",
       "       -14.23393915, -12.15664253, -11.59963022, -10.15833901,\n",
       "        -9.70235042,  -8.51053125,  -7.07552527,  -5.82028166,\n",
       "        -5.6242735 ,  -4.53296333,  -3.49368911,  -2.56149052,\n",
       "        -1.9206153 ,  -1.7975988 ,  -1.43760902,  -1.52884256,\n",
       "        -1.33417347,  -0.85759368,  -0.74411647,  -1.00145021,\n",
       "        -1.05281635,  -0.75670558,  -0.3843167 ,  -0.64558843,\n",
       "        -0.682287  ,  -0.54386775,  -0.74325278,  -0.64156312,\n",
       "        -0.52824658,  -0.38096931,  -0.47606958,  -0.50187898,\n",
       "        -0.38178371,  -0.27147715,  -0.44620598,  -0.37232   ,\n",
       "        -0.09405875,  -0.32477416,  -0.48649047,  -0.40854747,\n",
       "        -0.38644397,  -0.22940356,  -0.1950835 ,  -0.39401729,\n",
       "        -0.39224903,  -0.10514263,  -0.11331976,  -0.36673714,\n",
       "        -0.38200461,  -0.15879725,  -0.31049579,  -0.2688075 ,\n",
       "        -0.06552423,  -0.23221524,  -0.19578648,  -0.2217684 ,\n",
       "        -0.14733657,   0.07156539])"
      ]
     },
     "execution_count": 61,
     "metadata": {},
     "output_type": "execute_result"
    }
   ],
   "source": [
    "np.gradient(inertialist)"
   ]
  },
  {
   "cell_type": "code",
   "execution_count": 62,
   "metadata": {
    "collapsed": false
   },
   "outputs": [
    {
     "data": {
      "text/plain": [
       "62"
      ]
     },
     "execution_count": 62,
     "metadata": {},
     "output_type": "execute_result"
    }
   ],
   "source": [
    "len(np.gradient(inertialist))"
   ]
  },
  {
   "cell_type": "code",
   "execution_count": 63,
   "metadata": {
    "collapsed": false
   },
   "outputs": [
    {
     "data": {
      "text/plain": [
       "62"
      ]
     },
     "execution_count": 63,
     "metadata": {},
     "output_type": "execute_result"
    }
   ],
   "source": [
    "len(clusternums)"
   ]
  },
  {
   "cell_type": "code",
   "execution_count": 64,
   "metadata": {
    "collapsed": false
   },
   "outputs": [
    {
     "data": {
      "image/png": "[encoded data removed]",
      "text/plain": [
       "<matplotlib.figure.Figure at 0x11654b4e0>"
      ]
     },
     "metadata": {},
     "output_type": "display_data"
    }
   ],
   "source": [
    "plt.clf()\n",
    "plt.plot(clusternums,np.gradient(inertialist),'ok' )\n",
    "plt.plot([18,18],[-25, 0], '-r')\n",
    "plt.show()"
   ]
  },
  {
   "cell_type": "code",
   "execution_count": 73,
   "metadata": {
    "collapsed": false
   },
   "outputs": [
    {
     "data": {
      "image/png": "[encoded data removed]",
      "text/plain": [
       "<matplotlib.figure.Figure at 0x1228c3358>"
      ]
     },
     "metadata": {},
     "output_type": "display_data"
    }
   ],
   "source": [
    "plt.clf()\n",
    "plt.plot(clusternums,np.gradient(inertialist),'ok' )\n",
    "plt.plot([18,18],[-25, 0], '-r')\n",
    "plt.xlim([0,25])\n",
    "plt.show()"
   ]
  },
  {
   "cell_type": "code",
   "execution_count": 70,
   "metadata": {
    "collapsed": false
   },
   "outputs": [
    {
     "data": {
      "image/png": "[encoded data removed]",
      "text/plain": [
       "<matplotlib.figure.Figure at 0x12068e128>"
      ]
     },
     "metadata": {},
     "output_type": "display_data"
    }
   ],
   "source": [
    "plt.clf()\n",
    "plt.plot(clusternums,np.gradient(inertialist),'ok' )\n",
    "plt.plot([18,18],[-25, 0], '-r')\n",
    "plt.xlim(10, 25)\n",
    "plt.ylim(-10, 0)\n",
    "plt.show()"
   ]
  },
  {
   "cell_type": "code",
   "execution_count": 72,
   "metadata": {
    "collapsed": false
   },
   "outputs": [
    {
     "data": {
      "image/png": "[encoded data removed]",
      "text/plain": [
       "<matplotlib.figure.Figure at 0x1228e3f98>"
      ]
     },
     "metadata": {},
     "output_type": "display_data"
    }
   ],
   "source": [
    "plt.clf()\n",
    "plt.plot(clusternums,np.gradient(inertialist),'ok' )\n",
    "#plt.plot([18,18],[-25, 0], '-r')\n",
    "plt.xlim(18,30)\n",
    "plt.ylim(-5, 0)\n",
    "plt.show()"
   ]
  },
  {
   "cell_type": "code",
   "execution_count": 76,
   "metadata": {
    "collapsed": false
   },
   "outputs": [
    {
     "data": {
      "image/png": "[encoded data removed]",
      "text/plain": [
       "<matplotlib.figure.Figure at 0x122ffccc0>"
      ]
     },
     "metadata": {},
     "output_type": "display_data"
    }
   ],
   "source": [
    "plt.clf()\n",
    "plt.plot(clusternums,np.gradient(inertialist),'ok' )\n",
    "#plt.plot([18,18],[-25, 0], '-r')\n",
    "plt.xlim(25,35)\n",
    "plt.ylim(-1.5, 0)\n",
    "plt.show()"
   ]
  },
  {
   "cell_type": "code",
   "execution_count": 81,
   "metadata": {
    "collapsed": false
   },
   "outputs": [
    {
     "name": "stdout",
     "output_type": "stream",
     "text": [
      "doing  0\n",
      "inventing names\n",
      "doing  1\n",
      "inventing names\n",
      "doing  2\n",
      "inventing names\n",
      "doing  3\n",
      "inventing names\n",
      "doing  4\n",
      "inventing names\n",
      "doing  5\n",
      "inventing names\n",
      "doing  6\n",
      "inventing names\n",
      "doing  7\n",
      "inventing names\n",
      "doing  8\n",
      "inventing names\n",
      "doing  9\n",
      "inventing names\n",
      "doing  10\n",
      "inventing names\n",
      "doing  11\n",
      "inventing names\n",
      "doing  12\n",
      "inventing names\n",
      "doing  13\n",
      "inventing names\n",
      "doing  14\n",
      "inventing names\n",
      "doing  15\n",
      "inventing names\n",
      "doing  16\n",
      "inventing names\n",
      "doing  17\n",
      "inventing names\n"
     ]
    }
   ],
   "source": [
    "kmeans_normed_sample_normed = KMeans(n_clusters=18, random_state=0).fit(normedBasis)\n",
    "clusterassignments = kmeans_normed_sample_normed.labels_\n",
    "for i in range(18):\n",
    "    print('doing ',i)\n",
    "    basiscut = clusterassignments==i\n",
    "    normedbarsortorder = get_barsortorder(normedBasis[basiscut])\n",
    "    make_stacked_bar_plot(16, len(basiscut[basiscut]), normedBasis[basiscut].T, 'normedcluster'+str(i)+'outof18.pdf', barsortorder=normedbarsortorder)"
   ]
  },
  {
   "cell_type": "code",
   "execution_count": 83,
   "metadata": {
    "collapsed": false
   },
   "outputs": [
    {
     "name": "stdout",
     "output_type": "stream",
     "text": [
      "doing  0\n",
      "inventing names\n",
      "doing  1\n",
      "inventing names\n",
      "doing  2\n",
      "inventing names\n",
      "doing  3\n",
      "inventing names\n",
      "doing  4\n",
      "inventing names\n",
      "doing  5\n",
      "inventing names\n",
      "doing  6\n",
      "inventing names\n",
      "doing  7\n",
      "inventing names\n",
      "doing  8\n",
      "inventing names\n",
      "doing  9\n",
      "inventing names\n",
      "doing  10\n",
      "inventing names\n",
      "doing  11\n",
      "inventing names\n",
      "doing  12\n",
      "inventing names\n",
      "doing  13\n",
      "inventing names\n",
      "doing  14\n",
      "inventing names\n",
      "doing  15\n",
      "inventing names\n",
      "doing  16\n",
      "inventing names\n",
      "doing  17\n",
      "inventing names\n",
      "doing  18\n",
      "inventing names\n",
      "doing  19\n",
      "inventing names\n",
      "doing  20\n",
      "inventing names\n",
      "doing  21\n",
      "inventing names\n",
      "doing  22\n",
      "inventing names\n",
      "doing  23\n",
      "inventing names\n",
      "doing  24\n",
      "inventing names\n",
      "doing  25\n",
      "inventing names\n",
      "doing  26\n",
      "inventing names\n",
      "doing  27\n",
      "inventing names\n",
      "doing  28\n",
      "inventing names\n",
      "doing  29\n",
      "inventing names\n",
      "doing  30\n",
      "inventing names\n",
      "doing  31\n",
      "inventing names\n"
     ]
    }
   ],
   "source": [
    "kmeans_normed_sample_normed = KMeans(n_clusters=32, random_state=0).fit(normedBasis)\n",
    "clusterassignments = kmeans_normed_sample_normed.labels_\n",
    "for i in range(32):\n",
    "    print('doing ',i)\n",
    "    basiscut = clusterassignments==i\n",
    "    normedbarsortorder = get_barsortorder(normedBasis[basiscut])\n",
    "    make_stacked_bar_plot(16, len(basiscut[basiscut]), normedBasis[basiscut].T, 'normedcluster'+str(i)+'outof32.pdf', barsortorder=normedbarsortorder)"
   ]
  },
  {
   "cell_type": "code",
   "execution_count": 84,
   "metadata": {
    "collapsed": false
   },
   "outputs": [
    {
     "name": "stdout",
     "output_type": "stream",
     "text": [
      "doing  2\n",
      "doing  3\n",
      "doing  4\n",
      "doing  5\n",
      "doing  6\n",
      "doing  7\n",
      "doing  8\n",
      "doing  9\n",
      "doing  10\n",
      "doing  11\n",
      "doing  12\n",
      "doing  13\n",
      "doing  14\n",
      "doing  15\n",
      "doing  16\n",
      "doing  17\n",
      "doing  18\n",
      "doing  19\n",
      "doing  20\n",
      "doing  21\n",
      "doing  22\n",
      "doing  23\n",
      "doing  24\n",
      "doing  25\n",
      "doing  26\n",
      "doing  27\n",
      "doing  28\n",
      "doing  29\n",
      "doing  30\n",
      "doing  31\n",
      "doing  32\n",
      "doing  33\n",
      "doing  34\n",
      "doing  35\n",
      "doing  36\n",
      "doing  37\n",
      "doing  38\n",
      "doing  39\n",
      "doing  40\n",
      "doing  41\n",
      "doing  42\n",
      "doing  43\n",
      "doing  44\n",
      "doing  45\n",
      "doing  46\n",
      "doing  47\n",
      "doing  48\n",
      "doing  49\n",
      "doing  50\n",
      "doing  51\n",
      "doing  52\n",
      "doing  53\n",
      "doing  54\n",
      "doing  55\n",
      "doing  56\n",
      "doing  57\n",
      "doing  58\n",
      "doing  59\n",
      "doing  60\n",
      "doing  61\n",
      "doing  62\n",
      "doing  63\n"
     ]
    }
   ],
   "source": [
    "unnormed_inertialist = []\n",
    "for i in clusternums:\n",
    "    print('doing ',i)\n",
    "    kmeans_normed_sample_unnormed = KMeans(n_clusters=i, random_state=0).fit(Basis)\n",
    "    unnormed_inertialist.append(kmeans_normed_sample_unnormed.inertia_)\n"
   ]
  },
  {
   "cell_type": "code",
   "execution_count": 86,
   "metadata": {
    "collapsed": false
   },
   "outputs": [
    {
     "data": {
      "image/png": "[encoded data removed]",
      "text/plain": [
       "<matplotlib.figure.Figure at 0x1230d05c0>"
      ]
     },
     "metadata": {},
     "output_type": "display_data"
    }
   ],
   "source": [
    "plt.clf()\n",
    "plt.plot(clusternums,np.gradient(unnormed_inertialist),'ok' )\n",
    "plt.plot([18,18],[-25, 0], '-r')\n",
    "plt.show()"
   ]
  },
  {
   "cell_type": "code",
   "execution_count": 106,
   "metadata": {
    "collapsed": false
   },
   "outputs": [
    {
     "data": {
      "image/png": "[encoded data removed]",
      "text/plain": [
       "<matplotlib.figure.Figure at 0x121c3a940>"
      ]
     },
     "metadata": {},
     "output_type": "display_data"
    }
   ],
   "source": [
    "plt.clf()\n",
    "plt.plot(clusternums,unnormed_inertialist,'ok' )\n",
    "#plt.plot([18,18],[-25, 0], '-r')\n",
    "plt.show()"
   ]
  },
  {
   "cell_type": "code",
   "execution_count": 87,
   "metadata": {
    "collapsed": false
   },
   "outputs": [
    {
     "data": {
      "image/png": "[encoded data removed]",
      "text/plain": [
       "<matplotlib.figure.Figure at 0x1230aaf28>"
      ]
     },
     "metadata": {},
     "output_type": "display_data"
    }
   ],
   "source": [
    "plt.clf()\n",
    "plt.plot(clusternums,np.gradient(unnormed_inertialist),'ok' )\n",
    "plt.plot([18,18],[-25, 0], '-r')\n",
    "plt.xlim([0,32])\n",
    "plt.show()"
   ]
  },
  {
   "cell_type": "code",
   "execution_count": 90,
   "metadata": {
    "collapsed": false
   },
   "outputs": [
    {
     "name": "stdout",
     "output_type": "stream",
     "text": [
      "doing  0\n",
      "inventing names\n",
      "doing  1\n",
      "inventing names\n",
      "doing  2\n",
      "inventing names\n",
      "doing  3\n",
      "inventing names\n",
      "doing  4\n",
      "inventing names\n",
      "doing  5\n",
      "inventing names\n",
      "doing  6\n",
      "inventing names\n",
      "doing  7\n",
      "inventing names\n",
      "doing  8\n",
      "inventing names\n",
      "doing  9\n",
      "inventing names\n",
      "doing  10\n",
      "inventing names\n",
      "doing  11\n",
      "inventing names\n",
      "doing  12\n",
      "inventing names\n",
      "doing  13\n",
      "inventing names\n",
      "doing  14\n",
      "inventing names\n",
      "doing  15\n",
      "inventing names\n"
     ]
    }
   ],
   "source": [
    "kmeans_normed_sample = KMeans(n_clusters=16, random_state=0).fit(Basis)\n",
    "clusterassignments = kmeans_normed_sample.labels_\n",
    "for i in range(16):\n",
    "    print('doing ',i)\n",
    "    basiscut = clusterassignments==i\n",
    "    UNnormedbarsortorder = get_barsortorder(Basis[basiscut])\n",
    "    make_stacked_bar_plot(16, len(basiscut[basiscut]), Basis[basiscut].T, 'UNnormedcluster'+str(i)+'outof16.pdf', barsortorder=UNnormedbarsortorder)"
   ]
  },
  {
   "cell_type": "code",
   "execution_count": 92,
   "metadata": {
    "collapsed": false
   },
   "outputs": [
    {
     "data": {
      "image/png": "[encoded data removed]",
      "text/plain": [
       "<matplotlib.figure.Figure at 0x119c05518>"
      ]
     },
     "metadata": {},
     "output_type": "display_data"
    }
   ],
   "source": [
    "plt.clf()\n",
    "plt.plot(clusternums,np.gradient(unnormed_inertialist),'ok' )\n",
    "plt.xlim([20,50])\n",
    "plt.ylim([-10,0])\n",
    "plt.show()"
   ]
  },
  {
   "cell_type": "code",
   "execution_count": 105,
   "metadata": {
    "collapsed": false
   },
   "outputs": [
    {
     "data": {
      "image/png": "[encoded data removed]",
      "text/plain": [
       "<matplotlib.figure.Figure at 0x1229176d8>"
      ]
     },
     "metadata": {},
     "output_type": "display_data"
    }
   ],
   "source": [
    "plt.clf()\n",
    "plt.plot(clusternums,np.gradient(unnormed_inertialist),'ok' )\n",
    "plt.xlim([20,63])\n",
    "plt.plot([47,47],[-10, 0], '-r')\n",
    "plt.ylim([-10,0])\n",
    "plt.show()"
   ]
  },
  {
   "cell_type": "code",
   "execution_count": 93,
   "metadata": {
    "collapsed": false
   },
   "outputs": [
    {
     "name": "stdout",
     "output_type": "stream",
     "text": [
      "doing  0\n",
      "inventing names\n",
      "doing  1\n",
      "inventing names\n",
      "doing  2\n",
      "inventing names\n",
      "doing  3\n",
      "inventing names\n",
      "doing  4\n",
      "inventing names\n",
      "doing  5\n",
      "inventing names\n",
      "doing  6\n",
      "inventing names\n",
      "doing  7\n",
      "inventing names\n",
      "doing  8\n",
      "inventing names\n",
      "doing  9\n",
      "inventing names\n",
      "doing  10\n",
      "inventing names\n",
      "doing  11\n",
      "inventing names\n",
      "doing  12\n",
      "inventing names\n",
      "doing  13\n",
      "inventing names\n",
      "doing  14\n",
      "inventing names\n",
      "doing  15\n",
      "inventing names\n",
      "doing  16\n",
      "inventing names\n",
      "doing  17\n",
      "inventing names\n",
      "doing  18\n",
      "inventing names\n",
      "doing  19\n",
      "inventing names\n",
      "doing  20\n",
      "inventing names\n",
      "doing  21\n",
      "inventing names\n",
      "doing  22\n",
      "inventing names\n",
      "doing  23\n",
      "inventing names\n",
      "doing  24\n",
      "inventing names\n",
      "doing  25\n",
      "inventing names\n",
      "doing  26\n",
      "inventing names\n",
      "doing  27\n",
      "inventing names\n",
      "doing  28\n",
      "inventing names\n",
      "doing  29\n",
      "inventing names\n",
      "doing  30\n",
      "inventing names\n",
      "doing  31\n",
      "inventing names\n"
     ]
    }
   ],
   "source": [
    "kmeans_normed_sample = KMeans(n_clusters=32, random_state=0).fit(Basis)\n",
    "clusterassignments = kmeans_normed_sample.labels_\n",
    "for i in range(32):\n",
    "    print('doing ',i)\n",
    "    basiscut = clusterassignments==i\n",
    "    print('basiscut length ',len(basiscut[basiscut]))\n",
    "    UNnormedbarsortorder = get_barsortorder(Basis[basiscut])\n",
    "    make_stacked_bar_plot(16, len(basiscut[basiscut]), Basis[basiscut].T, 'UNnormedcluster'+str(i)+'outof32.pdf', barsortorder=UNnormedbarsortorder)"
   ]
  },
  {
   "cell_type": "code",
   "execution_count": 100,
   "metadata": {
    "collapsed": false
   },
   "outputs": [
    {
     "name": "stdout",
     "output_type": "stream",
     "text": [
      "doing  0\n",
      "46\n",
      "inventing names\n",
      "doing  1\n",
      "2\n",
      "inventing names\n",
      "doing  2\n",
      "6\n",
      "inventing names\n",
      "doing  3\n",
      "4\n",
      "inventing names\n",
      "doing  4\n",
      "5\n",
      "inventing names\n",
      "doing  5\n",
      "6\n",
      "inventing names\n",
      "doing  6\n",
      "18\n",
      "inventing names\n",
      "doing  7\n",
      "8\n",
      "inventing names\n",
      "doing  8\n",
      "26\n",
      "inventing names\n",
      "doing  9\n",
      "6\n",
      "inventing names\n",
      "doing  10\n",
      "9\n",
      "inventing names\n",
      "doing  11\n",
      "8\n",
      "inventing names\n",
      "doing  12\n",
      "100\n",
      "inventing names\n",
      "doing  13\n",
      "23\n",
      "inventing names\n",
      "doing  14\n",
      "12\n",
      "inventing names\n",
      "doing  15\n",
      "4\n",
      "inventing names\n",
      "doing  16\n",
      "3\n",
      "inventing names\n",
      "doing  17\n",
      "15\n",
      "inventing names\n",
      "doing  18\n",
      "5\n",
      "inventing names\n",
      "doing  19\n",
      "8\n",
      "inventing names\n",
      "doing  20\n",
      "2\n",
      "inventing names\n",
      "doing  21\n",
      "20\n",
      "inventing names\n",
      "doing  22\n",
      "13\n",
      "inventing names\n",
      "doing  23\n",
      "3\n",
      "inventing names\n",
      "doing  24\n",
      "16\n",
      "inventing names\n",
      "doing  25\n",
      "38\n",
      "inventing names\n",
      "doing  26\n",
      "71\n",
      "inventing names\n",
      "doing  27\n",
      "5\n",
      "inventing names\n",
      "doing  28\n",
      "4\n",
      "inventing names\n",
      "doing  29\n",
      "12\n",
      "inventing names\n",
      "doing  30\n",
      "16\n",
      "inventing names\n",
      "doing  31\n",
      "3\n",
      "inventing names\n",
      "doing  32\n",
      "5\n",
      "inventing names\n",
      "doing  33\n",
      "14\n",
      "inventing names\n",
      "doing  34\n",
      "2\n",
      "inventing names\n",
      "doing  35\n",
      "6\n",
      "inventing names\n",
      "doing  36\n",
      "7\n",
      "inventing names\n",
      "doing  37\n",
      "6\n",
      "inventing names\n",
      "doing  38\n",
      "16\n",
      "inventing names\n",
      "doing  39\n",
      "9\n",
      "inventing names\n",
      "doing  40\n",
      "9\n",
      "inventing names\n",
      "doing  41\n",
      "5\n",
      "inventing names\n",
      "doing  42\n",
      "3\n",
      "inventing names\n",
      "doing  43\n",
      "23\n",
      "inventing names\n",
      "doing  44\n",
      "24\n",
      "inventing names\n",
      "doing  45\n",
      "5\n",
      "inventing names\n"
     ]
    }
   ],
   "source": [
    "kmeans_normed_sample = KMeans(n_clusters=46, random_state=666).fit(Basis)\n",
    "clusterassignments = kmeans_normed_sample.labels_\n",
    "for i in range(46):\n",
    "    print('doing ',i)\n",
    "    basiscut = clusterassignments==i\n",
    "    UNnormedbarsortorder = get_barsortorder(Basis[basiscut])\n",
    "    print(len(basiscut[basiscut]))\n",
    "    make_stacked_bar_plot(16, len(basiscut[basiscut]), Basis[basiscut].T, 'UNnormedcluster'+str(i)+'outof46.pdf', barsortorder=UNnormedbarsortorder)"
   ]
  },
  {
   "cell_type": "code",
   "execution_count": 101,
   "metadata": {
    "collapsed": false
   },
   "outputs": [
    {
     "name": "stdout",
     "output_type": "stream",
     "text": [
      "doing  0\n",
      "37\n",
      "inventing names\n",
      "doing  1\n",
      "4\n",
      "inventing names\n",
      "doing  2\n",
      "9\n",
      "inventing names\n",
      "doing  3\n",
      "4\n",
      "inventing names\n",
      "doing  4\n",
      "6\n",
      "inventing names\n",
      "doing  5\n",
      "25\n",
      "inventing names\n",
      "doing  6\n",
      "3\n",
      "inventing names\n",
      "doing  7\n",
      "9\n",
      "inventing names\n",
      "doing  8\n",
      "8\n",
      "inventing names\n",
      "doing  9\n",
      "1\n",
      "inventing names\n",
      "doing  10\n",
      "8\n",
      "inventing names\n",
      "doing  11\n",
      "3\n",
      "inventing names\n",
      "doing  12\n",
      "6\n",
      "inventing names\n",
      "doing  13\n",
      "7\n",
      "inventing names\n",
      "doing  14\n",
      "3\n",
      "inventing names\n",
      "doing  15\n",
      "19\n",
      "inventing names\n",
      "doing  16\n",
      "7\n",
      "inventing names\n",
      "doing  17\n",
      "1\n",
      "inventing names\n",
      "doing  18\n",
      "3\n",
      "inventing names\n",
      "doing  19\n",
      "54\n",
      "inventing names\n",
      "doing  20\n",
      "35\n",
      "inventing names\n",
      "doing  21\n",
      "5\n",
      "inventing names\n",
      "doing  22\n",
      "2\n",
      "inventing names\n",
      "doing  23\n",
      "58\n",
      "inventing names\n",
      "doing  24\n",
      "2\n",
      "inventing names\n",
      "doing  25\n",
      "15\n",
      "inventing names\n",
      "doing  26\n",
      "9\n",
      "inventing names\n",
      "doing  27\n",
      "11\n",
      "inventing names\n",
      "doing  28\n",
      "3\n",
      "inventing names\n",
      "doing  29\n",
      "3\n",
      "inventing names\n",
      "doing  30\n",
      "5\n",
      "inventing names\n",
      "doing  31\n",
      "11\n",
      "inventing names\n",
      "doing  32\n",
      "6\n",
      "inventing names\n",
      "doing  33\n",
      "7\n",
      "inventing names\n",
      "doing  34\n",
      "38\n",
      "inventing names\n",
      "doing  35\n",
      "5\n",
      "inventing names\n",
      "doing  36\n",
      "9\n",
      "inventing names\n",
      "doing  37\n",
      "20\n",
      "inventing names\n",
      "doing  38\n",
      "4\n",
      "inventing names\n",
      "doing  39\n",
      "2\n",
      "inventing names\n",
      "doing  40\n",
      "1\n",
      "inventing names\n",
      "doing  41\n",
      "13\n",
      "inventing names\n",
      "doing  42\n",
      "15\n",
      "inventing names\n",
      "doing  43\n",
      "5\n",
      "inventing names\n",
      "doing  44\n",
      "10\n",
      "inventing names\n",
      "doing  45\n",
      "10\n",
      "inventing names\n",
      "doing  46\n",
      "9\n",
      "inventing names\n",
      "doing  47\n",
      "19\n",
      "inventing names\n",
      "doing  48\n",
      "6\n",
      "inventing names\n",
      "doing  49\n",
      "13\n",
      "inventing names\n",
      "doing  50\n",
      "17\n",
      "inventing names\n",
      "doing  51\n",
      "5\n",
      "inventing names\n",
      "doing  52\n",
      "1\n",
      "inventing names\n",
      "doing  53\n",
      "3\n",
      "inventing names\n",
      "doing  54\n",
      "4\n",
      "inventing names\n",
      "doing  55\n",
      "2\n",
      "inventing names\n",
      "doing  56\n",
      "3\n",
      "inventing names\n",
      "doing  57\n",
      "5\n",
      "inventing names\n",
      "doing  58\n",
      "9\n",
      "inventing names\n",
      "doing  59\n",
      "3\n",
      "inventing names\n",
      "doing  60\n",
      "5\n",
      "inventing names\n",
      "doing  61\n",
      "16\n",
      "inventing names\n",
      "doing  62\n",
      "3\n",
      "inventing names\n",
      "doing  63\n",
      "7\n",
      "inventing names\n"
     ]
    }
   ],
   "source": [
    "kmeans_normed_sample = KMeans(n_clusters=64, random_state=666).fit(Basis)\n",
    "clusterassignments = kmeans_normed_sample.labels_\n",
    "for i in range(64):\n",
    "    print('doing ',i)\n",
    "    basiscut = clusterassignments==i\n",
    "    UNnormedbarsortorder = get_barsortorder(Basis[basiscut])\n",
    "    print(len(basiscut[basiscut]))\n",
    "    make_stacked_bar_plot(16, len(basiscut[basiscut]), Basis[basiscut].T, 'UNnormedcluster'+str(i)+'outof64.pdf', barsortorder=UNnormedbarsortorder)"
   ]
  },
  {
   "cell_type": "code",
   "execution_count": 11,
   "metadata": {
    "collapsed": true
   },
   "outputs": [],
   "source": [
    "finname = '2017-09-25NMF_Ncomps16Mixture.npy'"
   ]
  },
  {
   "cell_type": "code",
   "execution_count": 12,
   "metadata": {
    "collapsed": true
   },
   "outputs": [],
   "source": [
    "Mixture = np.load(finname)"
   ]
  },
  {
   "cell_type": "code",
   "execution_count": 13,
   "metadata": {
    "collapsed": false
   },
   "outputs": [],
   "source": [
    "NormedMixture =   Mixture / np.sum(Mixture, axis=0)"
   ]
  },
  {
   "cell_type": "code",
   "execution_count": 14,
   "metadata": {
    "collapsed": false
   },
   "outputs": [
    {
     "data": {
      "text/plain": [
       "(16, 2232744)"
      ]
     },
     "execution_count": 14,
     "metadata": {},
     "output_type": "execute_result"
    }
   ],
   "source": [
    "NormedMixture.shape"
   ]
  },
  {
   "cell_type": "code",
   "execution_count": 17,
   "metadata": {
    "collapsed": false
   },
   "outputs": [
    {
     "ename": "KeyboardInterrupt",
     "evalue": "",
     "output_type": "error",
     "traceback": [
      "\u001b[0;31m---------------------------------------------------------------------------\u001b[0m",
      "\u001b[0;31mKeyboardInterrupt\u001b[0m                         Traceback (most recent call last)",
      "\u001b[0;32m<ipython-input-17-a3f7269658f9>\u001b[0m in \u001b[0;36m<module>\u001b[0;34m()\u001b[0m\n\u001b[0;32m----> 1\u001b[0;31m \u001b[0mkmeans_normed_DHS\u001b[0m\u001b[0;34m=\u001b[0m \u001b[0mKMeans\u001b[0m\u001b[0;34m(\u001b[0m\u001b[0mn_clusters\u001b[0m\u001b[0;34m=\u001b[0m\u001b[0;36m200\u001b[0m\u001b[0;34m,\u001b[0m \u001b[0mrandom_state\u001b[0m\u001b[0;34m=\u001b[0m\u001b[0;36m0\u001b[0m\u001b[0;34m)\u001b[0m\u001b[0;34m.\u001b[0m\u001b[0mfit\u001b[0m\u001b[0;34m(\u001b[0m\u001b[0mNormedMixture\u001b[0m\u001b[0;34m.\u001b[0m\u001b[0mT\u001b[0m\u001b[0;34m)\u001b[0m\u001b[0;34m\u001b[0m\u001b[0m\n\u001b[0m",
      "\u001b[0;32m/Users/amuratov/anaconda/lib/python3.5/site-packages/sklearn/cluster/k_means_.py\u001b[0m in \u001b[0;36mfit\u001b[0;34m(self, X, y)\u001b[0m\n\u001b[1;32m    891\u001b[0m                 \u001b[0mtol\u001b[0m\u001b[0;34m=\u001b[0m\u001b[0mself\u001b[0m\u001b[0;34m.\u001b[0m\u001b[0mtol\u001b[0m\u001b[0;34m,\u001b[0m \u001b[0mrandom_state\u001b[0m\u001b[0;34m=\u001b[0m\u001b[0mrandom_state\u001b[0m\u001b[0;34m,\u001b[0m \u001b[0mcopy_x\u001b[0m\u001b[0;34m=\u001b[0m\u001b[0mself\u001b[0m\u001b[0;34m.\u001b[0m\u001b[0mcopy_x\u001b[0m\u001b[0;34m,\u001b[0m\u001b[0;34m\u001b[0m\u001b[0m\n\u001b[1;32m    892\u001b[0m                 \u001b[0mn_jobs\u001b[0m\u001b[0;34m=\u001b[0m\u001b[0mself\u001b[0m\u001b[0;34m.\u001b[0m\u001b[0mn_jobs\u001b[0m\u001b[0;34m,\u001b[0m \u001b[0malgorithm\u001b[0m\u001b[0;34m=\u001b[0m\u001b[0mself\u001b[0m\u001b[0;34m.\u001b[0m\u001b[0malgorithm\u001b[0m\u001b[0;34m,\u001b[0m\u001b[0;34m\u001b[0m\u001b[0m\n\u001b[0;32m--> 893\u001b[0;31m                 return_n_iter=True)\n\u001b[0m\u001b[1;32m    894\u001b[0m         \u001b[0;32mreturn\u001b[0m \u001b[0mself\u001b[0m\u001b[0;34m\u001b[0m\u001b[0m\n\u001b[1;32m    895\u001b[0m \u001b[0;34m\u001b[0m\u001b[0m\n",
      "\u001b[0;32m/Users/amuratov/anaconda/lib/python3.5/site-packages/sklearn/cluster/k_means_.py\u001b[0m in \u001b[0;36mk_means\u001b[0;34m(X, n_clusters, init, precompute_distances, n_init, max_iter, verbose, tol, random_state, copy_x, n_jobs, algorithm, return_n_iter)\u001b[0m\n\u001b[1;32m    344\u001b[0m                 \u001b[0mX\u001b[0m\u001b[0;34m,\u001b[0m \u001b[0mn_clusters\u001b[0m\u001b[0;34m,\u001b[0m \u001b[0mmax_iter\u001b[0m\u001b[0;34m=\u001b[0m\u001b[0mmax_iter\u001b[0m\u001b[0;34m,\u001b[0m \u001b[0minit\u001b[0m\u001b[0;34m=\u001b[0m\u001b[0minit\u001b[0m\u001b[0;34m,\u001b[0m \u001b[0mverbose\u001b[0m\u001b[0;34m=\u001b[0m\u001b[0mverbose\u001b[0m\u001b[0;34m,\u001b[0m\u001b[0;34m\u001b[0m\u001b[0m\n\u001b[1;32m    345\u001b[0m                 \u001b[0mprecompute_distances\u001b[0m\u001b[0;34m=\u001b[0m\u001b[0mprecompute_distances\u001b[0m\u001b[0;34m,\u001b[0m \u001b[0mtol\u001b[0m\u001b[0;34m=\u001b[0m\u001b[0mtol\u001b[0m\u001b[0;34m,\u001b[0m\u001b[0;34m\u001b[0m\u001b[0m\n\u001b[0;32m--> 346\u001b[0;31m                 x_squared_norms=x_squared_norms, random_state=random_state)\n\u001b[0m\u001b[1;32m    347\u001b[0m             \u001b[0;31m# determine if these results are the best so far\u001b[0m\u001b[0;34m\u001b[0m\u001b[0;34m\u001b[0m\u001b[0m\n\u001b[1;32m    348\u001b[0m             \u001b[0;32mif\u001b[0m \u001b[0mbest_inertia\u001b[0m \u001b[0;32mis\u001b[0m \u001b[0;32mNone\u001b[0m \u001b[0;32mor\u001b[0m \u001b[0minertia\u001b[0m \u001b[0;34m<\u001b[0m \u001b[0mbest_inertia\u001b[0m\u001b[0;34m:\u001b[0m\u001b[0;34m\u001b[0m\u001b[0m\n",
      "\u001b[0;32m/Users/amuratov/anaconda/lib/python3.5/site-packages/sklearn/cluster/k_means_.py\u001b[0m in \u001b[0;36m_kmeans_single_elkan\u001b[0;34m(X, n_clusters, max_iter, init, verbose, x_squared_norms, random_state, tol, precompute_distances)\u001b[0m\n\u001b[1;32m    398\u001b[0m         \u001b[0mprint\u001b[0m\u001b[0;34m(\u001b[0m\u001b[0;34m'Initialization complete'\u001b[0m\u001b[0;34m)\u001b[0m\u001b[0;34m\u001b[0m\u001b[0m\n\u001b[1;32m    399\u001b[0m     centers, labels, n_iter = k_means_elkan(X, n_clusters, centers, tol=tol,\n\u001b[0;32m--> 400\u001b[0;31m                                             max_iter=max_iter, verbose=verbose)\n\u001b[0m\u001b[1;32m    401\u001b[0m     \u001b[0minertia\u001b[0m \u001b[0;34m=\u001b[0m \u001b[0mnp\u001b[0m\u001b[0;34m.\u001b[0m\u001b[0msum\u001b[0m\u001b[0;34m(\u001b[0m\u001b[0;34m(\u001b[0m\u001b[0mX\u001b[0m \u001b[0;34m-\u001b[0m \u001b[0mcenters\u001b[0m\u001b[0;34m[\u001b[0m\u001b[0mlabels\u001b[0m\u001b[0;34m]\u001b[0m\u001b[0;34m)\u001b[0m \u001b[0;34m**\u001b[0m \u001b[0;36m2\u001b[0m\u001b[0;34m,\u001b[0m \u001b[0mdtype\u001b[0m\u001b[0;34m=\u001b[0m\u001b[0mnp\u001b[0m\u001b[0;34m.\u001b[0m\u001b[0mfloat64\u001b[0m\u001b[0;34m)\u001b[0m\u001b[0;34m\u001b[0m\u001b[0m\n\u001b[1;32m    402\u001b[0m     \u001b[0;32mreturn\u001b[0m \u001b[0mlabels\u001b[0m\u001b[0;34m,\u001b[0m \u001b[0minertia\u001b[0m\u001b[0;34m,\u001b[0m \u001b[0mcenters\u001b[0m\u001b[0;34m,\u001b[0m \u001b[0mn_iter\u001b[0m\u001b[0;34m\u001b[0m\u001b[0m\n",
      "\u001b[0;32msklearn/cluster/_k_means_elkan.pyx\u001b[0m in \u001b[0;36msklearn.cluster._k_means_elkan.k_means_elkan\u001b[0;34m()\u001b[0m\n",
      "\u001b[0;32m/Users/amuratov/anaconda/lib/python3.5/site-packages/sklearn/metrics/pairwise.py\u001b[0m in \u001b[0;36meuclidean_distances\u001b[0;34m(X, Y, Y_norm_squared, squared, X_norm_squared)\u001b[0m\n\u001b[1;32m    161\u001b[0m \u001b[0;34m\u001b[0m\u001b[0m\n\u001b[1;32m    162\u001b[0m \u001b[0;31m# Pairwise distances\u001b[0m\u001b[0;34m\u001b[0m\u001b[0;34m\u001b[0m\u001b[0m\n\u001b[0;32m--> 163\u001b[0;31m def euclidean_distances(X, Y=None, Y_norm_squared=None, squared=False,\n\u001b[0m\u001b[1;32m    164\u001b[0m                         X_norm_squared=None):\n\u001b[1;32m    165\u001b[0m     \"\"\"\n",
      "\u001b[0;31mKeyboardInterrupt\u001b[0m: "
     ]
    }
   ],
   "source": [
    "kmeans_normed_DHS= KMeans(n_clusters=200, random_state=0).fit(NormedMixture.T)\n"
   ]
  },
  {
   "cell_type": "code",
   "execution_count": 113,
   "metadata": {
    "collapsed": false
   },
   "outputs": [
    {
     "data": {
      "text/plain": [
       "KMeans(algorithm='auto', copy_x=True, init='k-means++', max_iter=300,\n",
       "    n_clusters=16, n_init=10, n_jobs=1, precompute_distances='auto',\n",
       "    random_state=0, tol=0.0001, verbose=0)"
      ]
     },
     "execution_count": 113,
     "metadata": {},
     "output_type": "execute_result"
    }
   ],
   "source": [
    "kmeans_normed_DHS"
   ]
  },
  {
   "cell_type": "code",
   "execution_count": 118,
   "metadata": {
    "collapsed": false
   },
   "outputs": [
    {
     "name": "stdout",
     "output_type": "stream",
     "text": [
      "doing  0\n",
      "basiscut length  277546\n",
      "inventing barsortorder\n",
      "inventing names\n",
      "doing  1\n",
      "basiscut length  317371\n",
      "inventing barsortorder\n",
      "inventing names\n",
      "doing  2\n",
      "basiscut length  45044\n",
      "inventing barsortorder\n",
      "inventing names\n",
      "doing  3\n",
      "basiscut length  88592\n",
      "inventing barsortorder\n",
      "inventing names\n",
      "doing  4\n",
      "basiscut length  183789\n",
      "inventing barsortorder\n",
      "inventing names\n",
      "doing  5\n",
      "basiscut length  273965\n",
      "inventing barsortorder\n",
      "inventing names\n",
      "doing  6\n",
      "basiscut length  139233\n",
      "inventing barsortorder\n",
      "inventing names\n",
      "doing  7\n",
      "basiscut length  216994\n",
      "inventing barsortorder\n",
      "inventing names\n",
      "doing  8\n",
      "basiscut length  114550\n",
      "inventing barsortorder\n",
      "inventing names\n",
      "doing  9\n",
      "basiscut length  119329\n",
      "inventing barsortorder\n",
      "inventing names\n",
      "doing  10\n",
      "basiscut length  71791\n",
      "inventing barsortorder\n",
      "inventing names\n",
      "doing  11\n",
      "basiscut length  73077\n",
      "inventing barsortorder\n",
      "inventing names\n",
      "doing  12\n",
      "basiscut length  80301\n",
      "inventing barsortorder\n",
      "inventing names\n",
      "doing  13\n",
      "basiscut length  52483\n",
      "inventing barsortorder\n",
      "inventing names\n",
      "doing  14\n",
      "basiscut length  103230\n",
      "inventing barsortorder\n",
      "inventing names\n",
      "doing  15\n",
      "basiscut length  75449\n",
      "inventing barsortorder\n",
      "inventing names\n"
     ]
    }
   ],
   "source": [
    "clusterassignments = kmeans_normed_DHS.labels_\n",
    "for i in range(16):\n",
    "    print('doing ',i)\n",
    "    mixturecut = clusterassignments==i\n",
    "    print('basiscut length ',len(mixturecut[mixturecut]))\n",
    "    \n",
    "    if len(mixturecut[mixturecut] ) > 40:\n",
    "        chosenNum = 40\n",
    "    else:\n",
    "        chosenNum = len(mixturecut[mixturecut])\n",
    "    \n",
    "    possibleDHS = np.arange(len(mixturecut))[mixturecut]\n",
    "    desiredDHS = np.random.choice(possibleDHS, chosenNum,replace=False)\n",
    "    VisualDHScut = np.in1d(np.arange(len(mixturecut)), desiredDHS)\n",
    "    desired_order = np.argsort(-NormedMixture.T[VisualDHScut][:,i])\n",
    "    #UNnormedbarsortorder = get_barsortorder(Mixture.T[mixturecut])\n",
    "    make_stacked_bar_plot(16, chosenNum, NormedMixture.T[VisualDHScut][desired_order].T, 'DHScluster'+str(i)+'outof16.pdf')"
   ]
  },
  {
   "cell_type": "code",
   "execution_count": 120,
   "metadata": {
    "collapsed": false
   },
   "outputs": [
    {
     "name": "stdout",
     "output_type": "stream",
     "text": [
      "doing  2\n",
      "doing  3\n",
      "doing  4\n",
      "doing  5\n",
      "doing  6\n",
      "doing  7\n",
      "doing  8\n",
      "doing  9\n",
      "doing  10\n",
      "doing  11\n",
      "doing  12\n",
      "doing  13\n",
      "doing  14\n",
      "doing  15\n",
      "doing  16\n",
      "doing  17\n",
      "doing  18\n",
      "doing  19\n",
      "doing  20\n",
      "doing  21\n"
     ]
    },
    {
     "ename": "KeyboardInterrupt",
     "evalue": "",
     "output_type": "error",
     "traceback": [
      "\u001b[0;31m---------------------------------------------------------------------------\u001b[0m",
      "\u001b[0;31mKeyboardInterrupt\u001b[0m                         Traceback (most recent call last)",
      "\u001b[0;32m<ipython-input-120-0460775dc0ea>\u001b[0m in \u001b[0;36m<module>\u001b[0;34m()\u001b[0m\n\u001b[1;32m      2\u001b[0m \u001b[0;32mfor\u001b[0m \u001b[0mi\u001b[0m \u001b[0;32min\u001b[0m \u001b[0mclusternums\u001b[0m\u001b[0;34m:\u001b[0m\u001b[0;34m\u001b[0m\u001b[0m\n\u001b[1;32m      3\u001b[0m     \u001b[0mprint\u001b[0m\u001b[0;34m(\u001b[0m\u001b[0;34m'doing '\u001b[0m\u001b[0;34m,\u001b[0m\u001b[0mi\u001b[0m\u001b[0;34m)\u001b[0m\u001b[0;34m\u001b[0m\u001b[0m\n\u001b[0;32m----> 4\u001b[0;31m     \u001b[0mkmeans_normed_DHS\u001b[0m \u001b[0;34m=\u001b[0m \u001b[0mKMeans\u001b[0m\u001b[0;34m(\u001b[0m\u001b[0mn_clusters\u001b[0m\u001b[0;34m=\u001b[0m\u001b[0mi\u001b[0m\u001b[0;34m,\u001b[0m \u001b[0mrandom_state\u001b[0m\u001b[0;34m=\u001b[0m\u001b[0;36m0\u001b[0m\u001b[0;34m)\u001b[0m\u001b[0;34m.\u001b[0m\u001b[0mfit\u001b[0m\u001b[0;34m(\u001b[0m\u001b[0mNormedMixture\u001b[0m\u001b[0;34m.\u001b[0m\u001b[0mT\u001b[0m\u001b[0;34m)\u001b[0m\u001b[0;34m\u001b[0m\u001b[0m\n\u001b[0m\u001b[1;32m      5\u001b[0m     \u001b[0mDHSnormed_inertialist\u001b[0m\u001b[0;34m.\u001b[0m\u001b[0mappend\u001b[0m\u001b[0;34m(\u001b[0m\u001b[0mkmeans_normed_DHS\u001b[0m\u001b[0;34m.\u001b[0m\u001b[0minertia_\u001b[0m\u001b[0;34m)\u001b[0m\u001b[0;34m\u001b[0m\u001b[0m\n",
      "\u001b[0;32m/Users/amuratov/anaconda/lib/python3.5/site-packages/sklearn/cluster/k_means_.py\u001b[0m in \u001b[0;36mfit\u001b[0;34m(self, X, y)\u001b[0m\n\u001b[1;32m    891\u001b[0m                 \u001b[0mtol\u001b[0m\u001b[0;34m=\u001b[0m\u001b[0mself\u001b[0m\u001b[0;34m.\u001b[0m\u001b[0mtol\u001b[0m\u001b[0;34m,\u001b[0m \u001b[0mrandom_state\u001b[0m\u001b[0;34m=\u001b[0m\u001b[0mrandom_state\u001b[0m\u001b[0;34m,\u001b[0m \u001b[0mcopy_x\u001b[0m\u001b[0;34m=\u001b[0m\u001b[0mself\u001b[0m\u001b[0;34m.\u001b[0m\u001b[0mcopy_x\u001b[0m\u001b[0;34m,\u001b[0m\u001b[0;34m\u001b[0m\u001b[0m\n\u001b[1;32m    892\u001b[0m                 \u001b[0mn_jobs\u001b[0m\u001b[0;34m=\u001b[0m\u001b[0mself\u001b[0m\u001b[0;34m.\u001b[0m\u001b[0mn_jobs\u001b[0m\u001b[0;34m,\u001b[0m \u001b[0malgorithm\u001b[0m\u001b[0;34m=\u001b[0m\u001b[0mself\u001b[0m\u001b[0;34m.\u001b[0m\u001b[0malgorithm\u001b[0m\u001b[0;34m,\u001b[0m\u001b[0;34m\u001b[0m\u001b[0m\n\u001b[0;32m--> 893\u001b[0;31m                 return_n_iter=True)\n\u001b[0m\u001b[1;32m    894\u001b[0m         \u001b[0;32mreturn\u001b[0m \u001b[0mself\u001b[0m\u001b[0;34m\u001b[0m\u001b[0m\n\u001b[1;32m    895\u001b[0m \u001b[0;34m\u001b[0m\u001b[0m\n",
      "\u001b[0;32m/Users/amuratov/anaconda/lib/python3.5/site-packages/sklearn/cluster/k_means_.py\u001b[0m in \u001b[0;36mk_means\u001b[0;34m(X, n_clusters, init, precompute_distances, n_init, max_iter, verbose, tol, random_state, copy_x, n_jobs, algorithm, return_n_iter)\u001b[0m\n\u001b[1;32m    344\u001b[0m                 \u001b[0mX\u001b[0m\u001b[0;34m,\u001b[0m \u001b[0mn_clusters\u001b[0m\u001b[0;34m,\u001b[0m \u001b[0mmax_iter\u001b[0m\u001b[0;34m=\u001b[0m\u001b[0mmax_iter\u001b[0m\u001b[0;34m,\u001b[0m \u001b[0minit\u001b[0m\u001b[0;34m=\u001b[0m\u001b[0minit\u001b[0m\u001b[0;34m,\u001b[0m \u001b[0mverbose\u001b[0m\u001b[0;34m=\u001b[0m\u001b[0mverbose\u001b[0m\u001b[0;34m,\u001b[0m\u001b[0;34m\u001b[0m\u001b[0m\n\u001b[1;32m    345\u001b[0m                 \u001b[0mprecompute_distances\u001b[0m\u001b[0;34m=\u001b[0m\u001b[0mprecompute_distances\u001b[0m\u001b[0;34m,\u001b[0m \u001b[0mtol\u001b[0m\u001b[0;34m=\u001b[0m\u001b[0mtol\u001b[0m\u001b[0;34m,\u001b[0m\u001b[0;34m\u001b[0m\u001b[0m\n\u001b[0;32m--> 346\u001b[0;31m                 x_squared_norms=x_squared_norms, random_state=random_state)\n\u001b[0m\u001b[1;32m    347\u001b[0m             \u001b[0;31m# determine if these results are the best so far\u001b[0m\u001b[0;34m\u001b[0m\u001b[0;34m\u001b[0m\u001b[0m\n\u001b[1;32m    348\u001b[0m             \u001b[0;32mif\u001b[0m \u001b[0mbest_inertia\u001b[0m \u001b[0;32mis\u001b[0m \u001b[0;32mNone\u001b[0m \u001b[0;32mor\u001b[0m \u001b[0minertia\u001b[0m \u001b[0;34m<\u001b[0m \u001b[0mbest_inertia\u001b[0m\u001b[0;34m:\u001b[0m\u001b[0;34m\u001b[0m\u001b[0m\n",
      "\u001b[0;32m/Users/amuratov/anaconda/lib/python3.5/site-packages/sklearn/cluster/k_means_.py\u001b[0m in \u001b[0;36m_kmeans_single_elkan\u001b[0;34m(X, n_clusters, max_iter, init, verbose, x_squared_norms, random_state, tol, precompute_distances)\u001b[0m\n\u001b[1;32m    398\u001b[0m         \u001b[0mprint\u001b[0m\u001b[0;34m(\u001b[0m\u001b[0;34m'Initialization complete'\u001b[0m\u001b[0;34m)\u001b[0m\u001b[0;34m\u001b[0m\u001b[0m\n\u001b[1;32m    399\u001b[0m     centers, labels, n_iter = k_means_elkan(X, n_clusters, centers, tol=tol,\n\u001b[0;32m--> 400\u001b[0;31m                                             max_iter=max_iter, verbose=verbose)\n\u001b[0m\u001b[1;32m    401\u001b[0m     \u001b[0minertia\u001b[0m \u001b[0;34m=\u001b[0m \u001b[0mnp\u001b[0m\u001b[0;34m.\u001b[0m\u001b[0msum\u001b[0m\u001b[0;34m(\u001b[0m\u001b[0;34m(\u001b[0m\u001b[0mX\u001b[0m \u001b[0;34m-\u001b[0m \u001b[0mcenters\u001b[0m\u001b[0;34m[\u001b[0m\u001b[0mlabels\u001b[0m\u001b[0;34m]\u001b[0m\u001b[0;34m)\u001b[0m \u001b[0;34m**\u001b[0m \u001b[0;36m2\u001b[0m\u001b[0;34m,\u001b[0m \u001b[0mdtype\u001b[0m\u001b[0;34m=\u001b[0m\u001b[0mnp\u001b[0m\u001b[0;34m.\u001b[0m\u001b[0mfloat64\u001b[0m\u001b[0;34m)\u001b[0m\u001b[0;34m\u001b[0m\u001b[0m\n\u001b[1;32m    402\u001b[0m     \u001b[0;32mreturn\u001b[0m \u001b[0mlabels\u001b[0m\u001b[0;34m,\u001b[0m \u001b[0minertia\u001b[0m\u001b[0;34m,\u001b[0m \u001b[0mcenters\u001b[0m\u001b[0;34m,\u001b[0m \u001b[0mn_iter\u001b[0m\u001b[0;34m\u001b[0m\u001b[0m\n",
      "\u001b[0;32msklearn/cluster/_k_means_elkan.pyx\u001b[0m in \u001b[0;36msklearn.cluster._k_means_elkan.k_means_elkan\u001b[0;34m()\u001b[0m\n",
      "\u001b[0;32m/Users/amuratov/anaconda/lib/python3.5/site-packages/numpy/core/fromnumeric.py\u001b[0m in \u001b[0;36msum\u001b[0;34m(a, axis, dtype, out, keepdims)\u001b[0m\n\u001b[1;32m   1728\u001b[0m \u001b[0;34m\u001b[0m\u001b[0m\n\u001b[1;32m   1729\u001b[0m \u001b[0;34m\u001b[0m\u001b[0m\n\u001b[0;32m-> 1730\u001b[0;31m \u001b[0;32mdef\u001b[0m \u001b[0msum\u001b[0m\u001b[0;34m(\u001b[0m\u001b[0ma\u001b[0m\u001b[0;34m,\u001b[0m \u001b[0maxis\u001b[0m\u001b[0;34m=\u001b[0m\u001b[0;32mNone\u001b[0m\u001b[0;34m,\u001b[0m \u001b[0mdtype\u001b[0m\u001b[0;34m=\u001b[0m\u001b[0;32mNone\u001b[0m\u001b[0;34m,\u001b[0m \u001b[0mout\u001b[0m\u001b[0;34m=\u001b[0m\u001b[0;32mNone\u001b[0m\u001b[0;34m,\u001b[0m \u001b[0mkeepdims\u001b[0m\u001b[0;34m=\u001b[0m\u001b[0mnp\u001b[0m\u001b[0;34m.\u001b[0m\u001b[0m_NoValue\u001b[0m\u001b[0;34m)\u001b[0m\u001b[0;34m:\u001b[0m\u001b[0;34m\u001b[0m\u001b[0m\n\u001b[0m\u001b[1;32m   1731\u001b[0m     \"\"\"\n\u001b[1;32m   1732\u001b[0m     \u001b[0mSum\u001b[0m \u001b[0mof\u001b[0m \u001b[0marray\u001b[0m \u001b[0melements\u001b[0m \u001b[0mover\u001b[0m \u001b[0ma\u001b[0m \u001b[0mgiven\u001b[0m \u001b[0maxis\u001b[0m\u001b[0;34m.\u001b[0m\u001b[0;34m\u001b[0m\u001b[0m\n",
      "\u001b[0;31mKeyboardInterrupt\u001b[0m: "
     ]
    }
   ],
   "source": [
    "DHSnormed_inertialist = []\n",
    "for i in clusternums:\n",
    "    print('doing ',i)\n",
    "    kmeans_normed_DHS = KMeans(n_clusters=i, random_state=0).fit(NormedMixture.T)\n",
    "    DHSnormed_inertialist.append(kmeans_normed_DHS.inertia_)"
   ]
  },
  {
   "cell_type": "code",
   "execution_count": 121,
   "metadata": {
    "collapsed": false
   },
   "outputs": [
    {
     "data": {
      "text/plain": [
       "[884650.99379151501,\n",
       " 761116.01817889127,\n",
       " 634544.62568453653,\n",
       " 530351.86915316968,\n",
       " 477079.5829785965,\n",
       " 430519.42741964117,\n",
       " 394057.82971147582,\n",
       " 356002.23923421698,\n",
       " 321220.01026642794,\n",
       " 297317.61986754515,\n",
       " 275636.5421396906,\n",
       " 251301.86034543268,\n",
       " 229850.13434603109,\n",
       " 214945.04071802017,\n",
       " 197764.85832980898,\n",
       " 186483.28942696648,\n",
       " 176093.11025232796,\n",
       " 167243.16985695652,\n",
       " 161807.05195811405]"
      ]
     },
     "execution_count": 121,
     "metadata": {},
     "output_type": "execute_result"
    }
   ],
   "source": [
    "DHSnormed_inertialist"
   ]
  },
  {
   "cell_type": "code",
   "execution_count": 122,
   "metadata": {
    "collapsed": false
   },
   "outputs": [
    {
     "data": {
      "text/plain": [
       "19"
      ]
     },
     "execution_count": 122,
     "metadata": {},
     "output_type": "execute_result"
    }
   ],
   "source": [
    "len(DHSnormed_inertialist)"
   ]
  },
  {
   "cell_type": "code",
   "execution_count": 123,
   "metadata": {
    "collapsed": false
   },
   "outputs": [
    {
     "data": {
      "text/plain": [
       "[2, 3, 4, 5, 6, 7, 8, 9, 10, 11, 12, 13, 14, 15, 16, 17, 18, 19, 20]"
      ]
     },
     "execution_count": 123,
     "metadata": {},
     "output_type": "execute_result"
    }
   ],
   "source": [
    "clusternums[0:19]"
   ]
  },
  {
   "cell_type": "code",
   "execution_count": 124,
   "metadata": {
    "collapsed": false
   },
   "outputs": [
    {
     "data": {
      "image/png": "[encoded data removed]",
      "text/plain": [
       "<matplotlib.figure.Figure at 0x122915390>"
      ]
     },
     "metadata": {},
     "output_type": "display_data"
    }
   ],
   "source": [
    "plt.clf()\n",
    "plt.plot(clusternums[0:19], DHSnormed_inertialist, 'ok')\n",
    "plt.show()"
   ]
  },
  {
   "cell_type": "code",
   "execution_count": 125,
   "metadata": {
    "collapsed": false
   },
   "outputs": [
    {
     "data": {
      "image/png": "[encoded data removed]",
      "text/plain": [
       "<matplotlib.figure.Figure at 0x123a7e630>"
      ]
     },
     "metadata": {},
     "output_type": "display_data"
    }
   ],
   "source": [
    "plt.clf()\n",
    "plt.plot(clusternums[0:19], np.gradient(DHSnormed_inertialist), 'ok')\n",
    "plt.show()"
   ]
  },
  {
   "cell_type": "code",
   "execution_count": 126,
   "metadata": {
    "collapsed": false
   },
   "outputs": [
    {
     "name": "stdout",
     "output_type": "stream",
     "text": [
      "doing  21\n",
      "doing  22\n",
      "doing  23\n",
      "doing  24\n",
      "doing  25\n",
      "doing  26\n",
      "doing  27\n",
      "doing  28\n",
      "doing  29\n",
      "doing  30\n",
      "doing  31\n",
      "doing  32\n",
      "doing  33\n",
      "doing  34\n",
      "doing  35\n",
      "doing  36\n",
      "doing  37\n",
      "doing  38\n",
      "doing  39\n",
      "doing  40\n",
      "doing  41\n",
      "doing  42\n",
      "doing  43\n",
      "doing  44\n",
      "doing  45\n",
      "doing  46\n",
      "doing  47\n",
      "doing  48\n",
      "doing  49\n",
      "doing  50\n",
      "doing  51\n",
      "doing  52\n",
      "doing  53\n",
      "doing  54\n",
      "doing  55\n",
      "doing  56\n",
      "doing  57\n",
      "doing  58\n",
      "doing  59\n",
      "doing  60\n",
      "doing  61\n",
      "doing  62\n",
      "doing  63\n"
     ]
    }
   ],
   "source": [
    "\n",
    "for i in clusternums[19:]:\n",
    "    print('doing ',i)\n",
    "    kmeans_normed_DHS = KMeans(n_clusters=i, random_state=0).fit(NormedMixture.T)\n",
    "    DHSnormed_inertialist.append(kmeans_normed_DHS.inertia_)"
   ]
  },
  {
   "cell_type": "code",
   "execution_count": 127,
   "metadata": {
    "collapsed": false
   },
   "outputs": [
    {
     "data": {
      "text/plain": [
       "56"
      ]
     },
     "execution_count": 127,
     "metadata": {},
     "output_type": "execute_result"
    }
   ],
   "source": [
    "56\n"
   ]
  },
  {
   "cell_type": "code",
   "execution_count": 142,
   "metadata": {
    "collapsed": false
   },
   "outputs": [
    {
     "data": {
      "image/png": "[encoded data removed]",
      "text/plain": [
       "<matplotlib.figure.Figure at 0x122fd4208>"
      ]
     },
     "metadata": {},
     "output_type": "display_data"
    }
   ],
   "source": [
    "plt.clf()\n",
    "plt.xlabel('N clusters')\n",
    "plt.ylabel(r'$\\Delta$ inertia')\n",
    "plt.plot(clusternums, np.gradient(DHSnormed_inertialist), 'ok')\n",
    "plt.show()"
   ]
  },
  {
   "cell_type": "code",
   "execution_count": 143,
   "metadata": {
    "collapsed": false
   },
   "outputs": [
    {
     "data": {
      "image/png": "[encoded data removed]",
      "text/plain": [
       "<matplotlib.figure.Figure at 0x11ff81a20>"
      ]
     },
     "metadata": {},
     "output_type": "display_data"
    }
   ],
   "source": [
    "plt.clf()\n",
    "plt.xlabel('N clusters')\n",
    "plt.ylabel(r'$\\Delta$ inertia')\n",
    "plt.plot(clusternums[14:], np.gradient(DHSnormed_inertialist)[14:], 'ok')\n",
    "plt.show()"
   ]
  },
  {
   "cell_type": "code",
   "execution_count": 144,
   "metadata": {
    "collapsed": false
   },
   "outputs": [
    {
     "data": {
      "image/png": "[encoded data removed]",
      "text/plain": [
       "<matplotlib.figure.Figure at 0x1228e3eb8>"
      ]
     },
     "metadata": {},
     "output_type": "display_data"
    }
   ],
   "source": [
    "plt.clf()\n",
    "plt.xlabel('N clusters')\n",
    "plt.ylabel(r'$\\Delta$ inertia')\n",
    "plt.plot(clusternums[30:], np.gradient(DHSnormed_inertialist)[30:], 'ok')\n",
    "plt.show()"
   ]
  },
  {
   "cell_type": "code",
   "execution_count": 150,
   "metadata": {
    "collapsed": false
   },
   "outputs": [
    {
     "data": {
      "image/png": "[encoded data removed]",
      "text/plain": [
       "<matplotlib.figure.Figure at 0x11629e128>"
      ]
     },
     "metadata": {},
     "output_type": "display_data"
    }
   ],
   "source": [
    "plt.clf()\n",
    "plt.plot(clusternums[45:], np.gradient(DHSnormed_inertialist)[45:], 'ok')\n",
    "plt.xlabel('N clusters')\n",
    "plt.ylabel(r'$\\Delta$ inertia')\n",
    "plt.show()"
   ]
  },
  {
   "cell_type": "code",
   "execution_count": 132,
   "metadata": {
    "collapsed": true
   },
   "outputs": [],
   "source": [
    "from scipy.stats import linregress"
   ]
  },
  {
   "cell_type": "code",
   "execution_count": 133,
   "metadata": {
    "collapsed": false
   },
   "outputs": [
    {
     "data": {
      "text/plain": [
       "LinregressResult(slope=15.659594088979496, intercept=-1736.3565311923376, rvalue=0.40710513399859277, pvalue=0.10483692262848185, stderr=9.071527269069108)"
      ]
     },
     "execution_count": 133,
     "metadata": {},
     "output_type": "execute_result"
    }
   ],
   "source": [
    "linregress(clusternums[45:], np.gradient(DHSnormed_inertialist)[45:])"
   ]
  },
  {
   "cell_type": "code",
   "execution_count": 134,
   "metadata": {
    "collapsed": false
   },
   "outputs": [
    {
     "data": {
      "text/plain": [
       "LinregressResult(slope=30.421312047614666, intercept=-2526.4441330777549, rvalue=0.80183012545232724, pvalue=3.4649471316209869e-08, stderr=4.1391454098909319)"
      ]
     },
     "execution_count": 134,
     "metadata": {},
     "output_type": "execute_result"
    }
   ],
   "source": [
    "linregress(clusternums[30:], np.gradient(DHSnormed_inertialist)[30:])"
   ]
  },
  {
   "cell_type": "code",
   "execution_count": 135,
   "metadata": {
    "collapsed": false
   },
   "outputs": [
    {
     "data": {
      "text/plain": [
       "LinregressResult(slope=18.318655280660888, intercept=-1877.0361681356226, rvalue=0.66233570087874694, pvalue=0.00016745514602120324, stderr=4.1442634905606468)"
      ]
     },
     "execution_count": 135,
     "metadata": {},
     "output_type": "execute_result"
    }
   ],
   "source": [
    "linregress(clusternums[35:], np.gradient(DHSnormed_inertialist)[35:])"
   ]
  },
  {
   "cell_type": "code",
   "execution_count": 136,
   "metadata": {
    "collapsed": false
   },
   "outputs": [
    {
     "data": {
      "text/plain": [
       "LinregressResult(slope=11.228815265340909, intercept=-1481.6709177988018, rvalue=0.41669783353142603, pvalue=0.053706526600718382, stderr=5.477509080857847)"
      ]
     },
     "execution_count": 136,
     "metadata": {},
     "output_type": "execute_result"
    }
   ],
   "source": [
    "linregress(clusternums[40:], np.gradient(DHSnormed_inertialist)[40:])"
   ]
  },
  {
   "cell_type": "code",
   "execution_count": 137,
   "metadata": {
    "collapsed": false
   },
   "outputs": [
    {
     "data": {
      "text/plain": [
       "LinregressResult(slope=25.396743044591787, intercept=-2259.4538747627794, rvalue=0.75987981103058144, pvalue=1.1128870356379192e-06, stderr=4.1059149207501857)"
      ]
     },
     "execution_count": 137,
     "metadata": {},
     "output_type": "execute_result"
    }
   ],
   "source": [
    "linregress(clusternums[32:], np.gradient(DHSnormed_inertialist)[32:])"
   ]
  },
  {
   "cell_type": "code",
   "execution_count": 138,
   "metadata": {
    "collapsed": false
   },
   "outputs": [
    {
     "data": {
      "text/plain": [
       "LinregressResult(slope=24.037742611339119, intercept=-2186.5208515115528, rvalue=0.73099076130240115, pvalue=6.6821627564742107e-06, stderr=4.3184797061743572)"
      ]
     },
     "execution_count": 138,
     "metadata": {},
     "output_type": "execute_result"
    }
   ],
   "source": [
    "linregress(clusternums[33:], np.gradient(DHSnormed_inertialist)[33:])"
   ]
  },
  {
   "cell_type": "code",
   "execution_count": 139,
   "metadata": {
    "collapsed": false
   },
   "outputs": [
    {
     "data": {
      "text/plain": [
       "LinregressResult(slope=20.280557838577415, intercept=-1983.6328737824206, rvalue=0.70411190496340914, pvalue=2.8983003928486636e-05, stderr=4.0111078222877561)"
      ]
     },
     "execution_count": 139,
     "metadata": {},
     "output_type": "execute_result"
    }
   ],
   "source": [
    "linregress(clusternums[34:], np.gradient(DHSnormed_inertialist)[34:])"
   ]
  },
  {
   "cell_type": "code",
   "execution_count": 140,
   "metadata": {
    "collapsed": false
   },
   "outputs": [
    {
     "data": {
      "text/plain": [
       "36"
      ]
     },
     "execution_count": 140,
     "metadata": {},
     "output_type": "execute_result"
    }
   ],
   "source": [
    "clusternums[34]"
   ]
  },
  {
   "cell_type": "code",
   "execution_count": 146,
   "metadata": {
    "collapsed": false
   },
   "outputs": [
    {
     "data": {
      "text/plain": [
       "LinregressResult(slope=18.318655280660888, intercept=-1877.0361681356226, rvalue=0.66233570087874694, pvalue=0.00016745514602120324, stderr=4.1442634905606468)"
      ]
     },
     "execution_count": 146,
     "metadata": {},
     "output_type": "execute_result"
    }
   ],
   "source": [
    "linregress(clusternums[35:], np.gradient(DHSnormed_inertialist)[35:])"
   ]
  },
  {
   "cell_type": "code",
   "execution_count": 151,
   "metadata": {
    "collapsed": false
   },
   "outputs": [
    {
     "data": {
      "image/png": "[encoded data removed]",
      "text/plain": [
       "<matplotlib.figure.Figure at 0x1219882e8>"
      ]
     },
     "metadata": {},
     "output_type": "display_data"
    }
   ],
   "source": [
    "plt.clf()\n",
    "plt.plot(clusternums[34:], np.gradient(DHSnormed_inertialist)[34:], 'ok')\n",
    "xx = np.arange(35, 65)\n",
    "yy = 18.318655280660888 * xx - 1877.0361681356226\n",
    "plt.plot(xx, yy, '-r')\n",
    "plt.xlabel('N clusters')\n",
    "plt.ylabel(r'$\\Delta$ inertia')\n",
    "plt.plot()\n",
    "plt.show()"
   ]
  },
  {
   "cell_type": "code",
   "execution_count": 153,
   "metadata": {
    "collapsed": false
   },
   "outputs": [
    {
     "data": {
      "text/plain": [
       "LinregressResult(slope=17.260686378068531, intercept=-1818.4422488403616, rvalue=0.5809033598983131, pvalue=0.0029147812189290996, stderr=5.1564710470599238)"
      ]
     },
     "execution_count": 153,
     "metadata": {},
     "output_type": "execute_result"
    }
   ],
   "source": [
    "linregress(clusternums[38:], np.gradient(DHSnormed_inertialist)[38:])"
   ]
  },
  {
   "cell_type": "code",
   "execution_count": 154,
   "metadata": {
    "collapsed": false
   },
   "outputs": [
    {
     "data": {
      "text/plain": [
       "LinregressResult(slope=14.220332564508089, intercept=-1649.1958865521638, rvalue=0.50596348724339746, pvalue=0.013768776240501313, stderr=5.2901461882263376)"
      ]
     },
     "execution_count": 154,
     "metadata": {},
     "output_type": "execute_result"
    }
   ],
   "source": [
    "linregress(clusternums[39:], np.gradient(DHSnormed_inertialist)[39:])"
   ]
  },
  {
   "cell_type": "code",
   "execution_count": null,
   "metadata": {
    "collapsed": true
   },
   "outputs": [],
   "source": [
    "kmeans_normed_DHS= KMeans(n_clusters=36, random_state=0).fit(NormedMixture.T)\n"
   ]
  },
  {
   "cell_type": "code",
   "execution_count": 155,
   "metadata": {
    "collapsed": false
   },
   "outputs": [
    {
     "data": {
      "image/png": "[encoded data removed]",
      "text/plain": [
       "<matplotlib.figure.Figure at 0x123175d30>"
      ]
     },
     "metadata": {},
     "output_type": "display_data"
    }
   ],
   "source": [
    "plt.clf()\n",
    "plt.plot(clusternums, DHSnormed_inertialist, 'ok')\n",
    "plt.show()"
   ]
  },
  {
   "cell_type": "code",
   "execution_count": 156,
   "metadata": {
    "collapsed": false
   },
   "outputs": [
    {
     "data": {
      "image/png": "[encoded data removed]",
      "text/plain": [
       "<matplotlib.figure.Figure at 0x123059208>"
      ]
     },
     "metadata": {},
     "output_type": "display_data"
    }
   ],
   "source": [
    "plt.clf()\n",
    "plt.plot(clusternums[34:], DHSnormed_inertialist[34:], 'ok')\n",
    "plt.show()"
   ]
  },
  {
   "cell_type": "code",
   "execution_count": 157,
   "metadata": {
    "collapsed": false
   },
   "outputs": [
    {
     "data": {
      "text/plain": [
       "LinregressResult(slope=-951.23992682248729, intercept=148142.27609408909, rvalue=-0.99644818591152395, pvalue=1.7820528356578288e-29, stderr=15.765320730036548)"
      ]
     },
     "execution_count": 157,
     "metadata": {},
     "output_type": "execute_result"
    }
   ],
   "source": [
    "linregress(clusternums[34:], DHSnormed_inertialist[34:])"
   ]
  },
  {
   "cell_type": "code",
   "execution_count": 159,
   "metadata": {
    "collapsed": false
   },
   "outputs": [
    {
     "data": {
      "image/png": "[encoded data removed]",
      "text/plain": [
       "<matplotlib.figure.Figure at 0x115f721d0>"
      ]
     },
     "metadata": {},
     "output_type": "display_data"
    }
   ],
   "source": [
    "plt.clf()\n",
    "plt.plot(clusternums[34:],unnormed_inertialist[34:],'ok' )\n",
    "plt.show()"
   ]
  },
  {
   "cell_type": "code",
   "execution_count": 160,
   "metadata": {
    "collapsed": false
   },
   "outputs": [
    {
     "data": {
      "image/png": "[encoded data removed]",
      "text/plain": [
       "<matplotlib.figure.Figure at 0x122b51860>"
      ]
     },
     "metadata": {},
     "output_type": "display_data"
    }
   ],
   "source": [
    "plt.clf()\n",
    "plt.plot(clusternums[34:],inertialist[34:],'ok' )\n",
    "plt.show()"
   ]
  },
  {
   "cell_type": "code",
   "execution_count": 18,
   "metadata": {
    "collapsed": false
   },
   "outputs": [],
   "source": [
    "kmeans_normed_DHS= KMeans(n_clusters=36, random_state=0).fit(NormedMixture.T)\n"
   ]
  },
  {
   "cell_type": "code",
   "execution_count": 19,
   "metadata": {
    "collapsed": true
   },
   "outputs": [],
   "source": [
    "import seaborn as sns"
   ]
  },
  {
   "cell_type": "code",
   "execution_count": 20,
   "metadata": {
    "collapsed": true
   },
   "outputs": [],
   "source": [
    "clusterassignments = kmeans_normed_DHS.labels_\n"
   ]
  },
  {
   "cell_type": "code",
   "execution_count": 27,
   "metadata": {
    "collapsed": true
   },
   "outputs": [],
   "source": [
    "mixturecut = clusterassignments == 1"
   ]
  },
  {
   "cell_type": "code",
   "execution_count": 28,
   "metadata": {
    "collapsed": false
   },
   "outputs": [
    {
     "data": {
      "text/plain": [
       "(60210, 16)"
      ]
     },
     "execution_count": 28,
     "metadata": {},
     "output_type": "execute_result"
    }
   ],
   "source": [
    "NormedMixture.T[mixturecut].shape"
   ]
  },
  {
   "cell_type": "code",
   "execution_count": 29,
   "metadata": {
    "collapsed": true
   },
   "outputs": [],
   "source": [
    "Comp_colors = define_colorsA(16)"
   ]
  },
  {
   "cell_type": "code",
   "execution_count": 40,
   "metadata": {
    "collapsed": false
   },
   "outputs": [
    {
     "data": {
      "text/plain": [
       "array([ 0.1       ,  0.10909091,  0.11818182,  0.12727273,  0.13636364,\n",
       "        0.14545455,  0.15454545,  0.16363636,  0.17272727,  0.18181818,\n",
       "        0.19090909,  0.2       ,  0.20909091,  0.21818182,  0.22727273,\n",
       "        0.23636364,  0.24545455,  0.25454545,  0.26363636,  0.27272727,\n",
       "        0.28181818,  0.29090909,  0.3       ,  0.30909091,  0.31818182,\n",
       "        0.32727273,  0.33636364,  0.34545455,  0.35454545,  0.36363636,\n",
       "        0.37272727,  0.38181818,  0.39090909,  0.4       ,  0.40909091,\n",
       "        0.41818182,  0.42727273,  0.43636364,  0.44545455,  0.45454545,\n",
       "        0.46363636,  0.47272727,  0.48181818,  0.49090909,  0.5       ,\n",
       "        0.50909091,  0.51818182,  0.52727273,  0.53636364,  0.54545455,\n",
       "        0.55454545,  0.56363636,  0.57272727,  0.58181818,  0.59090909,\n",
       "        0.6       ,  0.60909091,  0.61818182,  0.62727273,  0.63636364,\n",
       "        0.64545455,  0.65454545,  0.66363636,  0.67272727,  0.68181818,\n",
       "        0.69090909,  0.7       ,  0.70909091,  0.71818182,  0.72727273,\n",
       "        0.73636364,  0.74545455,  0.75454545,  0.76363636,  0.77272727,\n",
       "        0.78181818,  0.79090909,  0.8       ,  0.80909091,  0.81818182,\n",
       "        0.82727273,  0.83636364,  0.84545455,  0.85454545,  0.86363636,\n",
       "        0.87272727,  0.88181818,  0.89090909,  0.9       ,  0.90909091,\n",
       "        0.91818182,  0.92727273,  0.93636364,  0.94545455,  0.95454545,\n",
       "        0.96363636,  0.97272727,  0.98181818,  0.99090909,  1.        ])"
      ]
     },
     "execution_count": 40,
     "metadata": {},
     "output_type": "execute_result"
    }
   ],
   "source": [
    "np.linspace(0.1, 1.0, 100)"
   ]
  },
  {
   "cell_type": "code",
   "execution_count": 178,
   "metadata": {
    "collapsed": false,
    "scrolled": true
   },
   "outputs": [
    {
     "name": "stdout",
     "output_type": "stream",
     "text": [
      "doing  0\n",
      "doing  1\n",
      "doing  2\n",
      "doing  3\n",
      "doing  4\n",
      "doing  5\n",
      "doing  6\n",
      "doing  7\n",
      "doing  8\n",
      "doing  9\n",
      "doing  10\n",
      "doing  11\n",
      "doing  12\n",
      "doing  13\n",
      "doing  14\n",
      "doing  15\n"
     ]
    },
    {
     "data": {
      "text/plain": [
       "<matplotlib.figure.Figure at 0x136ef76d8>"
      ]
     },
     "metadata": {},
     "output_type": "display_data"
    },
    {
     "data": {
      "image/png": "[encoded data removed]",
      "text/plain": [
       "<matplotlib.figure.Figure at 0x136557128>"
      ]
     },
     "metadata": {},
     "output_type": "display_data"
    }
   ],
   "source": [
    "plt.clf()\n",
    "plt.figure(figsize=(10,10))\n",
    "ax = plt.gca()\n",
    "#ax.set_xlim(0.1, 1)\n",
    "\n",
    "currentymax = 0\n",
    "\n",
    "for i in range(16):\n",
    "    print('doing ',i)\n",
    "    fog = sns.distplot(NormedMixture.T[mixturecut][:,i], color=Comp_colors[i],hist=False, kde_kws = {\"alpha\":0.3})\n",
    "    zag = fog.axes\n",
    "    for line in zag.lines:\n",
    "        yline = line.get_ydata()\n",
    "        xline = line.get_xdata()\n",
    "        xlinecut = xline>0.1\n",
    "        ymax = np.max(yline[xlinecut])\n",
    "        #print('ymax ',ymax)\n",
    "        if (ymax > currentymax):\n",
    "            currentymax = ymax\n",
    "\n",
    "currentymax*=1.1\n",
    "ax.set_xlim(0.05, 1)\n",
    "ax.set_ylim(0, currentymax)\n",
    "plt.show()"
   ]
  },
  {
   "cell_type": "code",
   "execution_count": 193,
   "metadata": {
    "collapsed": true
   },
   "outputs": [],
   "source": [
    "def NMF_density_plot(mydata,Comp_colors, foutname=''):\n",
    "    plt.clf()\n",
    "    plt.figure(figsize=(10,10))\n",
    "    ax = plt.gca()\n",
    "    #ax.set_xlim(0.1, 1)\n",
    "\n",
    "    currentymax = 0\n",
    "\n",
    "    for i in range(16):\n",
    "        #print('doing ',i)\n",
    "        fog = sns.distplot(NormedMixture.T[mixturecut][:,i], color=Comp_colors[i],hist=True, hist_kws={\"alpha\":1.0, \"histtype\":\"step\"}, kde_kws = {\"alpha\":0.0})\n",
    "        zag = fog.axes\n",
    "        for line in zag.lines:\n",
    "            yline = line.get_ydata()\n",
    "            xline = line.get_xdata()\n",
    "            xlinecut = xline>0.1\n",
    "            ymax = np.max(yline[xlinecut])\n",
    "            #print('ymax ',ymax)\n",
    "            if (ymax > currentymax):\n",
    "                currentymax = ymax\n",
    "\n",
    "    currentymax*=1.1\n",
    "    ax.set_xlim(0.05, 1)\n",
    "    ax.set_ylim(0, currentymax)\n",
    "    plt.xlabel('fractional composition')\n",
    "    plt.ylabel('normalized density')\n",
    "    if len(foutname) > 0:\n",
    "        plt.savefig(foutname)\n",
    "    else:\n",
    "        plt.show()\n"
   ]
  },
  {
   "cell_type": "code",
   "execution_count": 194,
   "metadata": {
    "collapsed": false,
    "scrolled": true
   },
   "outputs": [
    {
     "data": {
      "text/plain": [
       "<matplotlib.figure.Figure at 0x155a26e10>"
      ]
     },
     "metadata": {},
     "output_type": "display_data"
    },
    {
     "data": {
      "image/png": "[encoded data removed]",
      "text/plain": [
       "<matplotlib.figure.Figure at 0x155a26860>"
      ]
     },
     "metadata": {},
     "output_type": "display_data"
    }
   ],
   "source": [
    "NMF_density_plot(NormedMixture.T[mixturecut], Comp_colors=Comp_colors)"
   ]
  },
  {
   "cell_type": "code",
   "execution_count": null,
   "metadata": {
    "collapsed": true
   },
   "outputs": [],
   "source": [
    "for i in range(36):\n",
    "    mixturecut = clusterassignments == i\n",
    "    "
   ]
  },
  {
   "cell_type": "code",
   "execution_count": 52,
   "metadata": {
    "collapsed": false
   },
   "outputs": [],
   "source": [
    "zag = fog.axes"
   ]
  },
  {
   "cell_type": "code",
   "execution_count": 89,
   "metadata": {
    "collapsed": false
   },
   "outputs": [
    {
     "data": {
      "text/plain": [
       "['__class__',\n",
       " '__delattr__',\n",
       " '__dict__',\n",
       " '__dir__',\n",
       " '__doc__',\n",
       " '__eq__',\n",
       " '__format__',\n",
       " '__ge__',\n",
       " '__getattribute__',\n",
       " '__getstate__',\n",
       " '__gt__',\n",
       " '__hash__',\n",
       " '__init__',\n",
       " '__le__',\n",
       " '__lt__',\n",
       " '__module__',\n",
       " '__ne__',\n",
       " '__new__',\n",
       " '__reduce__',\n",
       " '__reduce_ex__',\n",
       " '__repr__',\n",
       " '__setattr__',\n",
       " '__setstate__',\n",
       " '__sizeof__',\n",
       " '__str__',\n",
       " '__subclasshook__',\n",
       " '__weakref__',\n",
       " '_add_text',\n",
       " '_adjustable',\n",
       " '_agg_filter',\n",
       " '_alpha',\n",
       " '_anchor',\n",
       " '_animated',\n",
       " '_aspect',\n",
       " '_autoscaleXon',\n",
       " '_autoscaleYon',\n",
       " '_axes',\n",
       " '_axes_class',\n",
       " '_axes_locator',\n",
       " '_axisbelow',\n",
       " '_cachedRenderer',\n",
       " '_clipon',\n",
       " '_clippath',\n",
       " '_connected',\n",
       " '_contains',\n",
       " '_current_image',\n",
       " '_cursorProps',\n",
       " '_facecolor',\n",
       " '_frameon',\n",
       " '_gci',\n",
       " '_gen_axes_patch',\n",
       " '_gen_axes_spines',\n",
       " '_get_axis_list',\n",
       " '_get_legend_handles',\n",
       " '_get_lines',\n",
       " '_get_patches_for_fill',\n",
       " '_get_view',\n",
       " '_gid',\n",
       " '_gridOn',\n",
       " '_hold',\n",
       " '_init_axis',\n",
       " '_label',\n",
       " '_left_title',\n",
       " '_make_twin_axes',\n",
       " '_mouseover',\n",
       " '_navigate',\n",
       " '_navigate_mode',\n",
       " '_oid',\n",
       " '_originalPosition',\n",
       " '_path_effects',\n",
       " '_pcolorargs',\n",
       " '_picker',\n",
       " '_position',\n",
       " '_process_unit_info',\n",
       " '_prop_order',\n",
       " '_propobservers',\n",
       " '_rasterization_zorder',\n",
       " '_rasterized',\n",
       " '_remove_method',\n",
       " '_right_title',\n",
       " '_sci',\n",
       " '_set_artist_props',\n",
       " '_set_gc_clip',\n",
       " '_set_lim_and_transforms',\n",
       " '_set_view',\n",
       " '_set_view_from_bbox',\n",
       " '_shared_x_axes',\n",
       " '_shared_y_axes',\n",
       " '_sharex',\n",
       " '_sharey',\n",
       " '_sketch',\n",
       " '_snap',\n",
       " '_stale',\n",
       " '_sticky_edges',\n",
       " '_subplotspec',\n",
       " '_tight',\n",
       " '_transform',\n",
       " '_transformSet',\n",
       " '_update_line_limits',\n",
       " '_update_patch_limits',\n",
       " '_update_transScale',\n",
       " '_url',\n",
       " '_use_sticky_edges',\n",
       " '_visible',\n",
       " '_xaxis_transform',\n",
       " '_xcid',\n",
       " '_xmargin',\n",
       " '_yaxis_transform',\n",
       " '_ycid',\n",
       " '_ymargin',\n",
       " 'acorr',\n",
       " 'add_artist',\n",
       " 'add_callback',\n",
       " 'add_collection',\n",
       " 'add_container',\n",
       " 'add_image',\n",
       " 'add_line',\n",
       " 'add_patch',\n",
       " 'add_table',\n",
       " 'aname',\n",
       " 'angle_spectrum',\n",
       " 'annotate',\n",
       " 'apply_aspect',\n",
       " 'arrow',\n",
       " 'artists',\n",
       " 'autoscale',\n",
       " 'autoscale_view',\n",
       " 'axes',\n",
       " 'axesPatch',\n",
       " 'axhline',\n",
       " 'axhspan',\n",
       " 'axis',\n",
       " 'axison',\n",
       " 'axvline',\n",
       " 'axvspan',\n",
       " 'bar',\n",
       " 'barbs',\n",
       " 'barh',\n",
       " 'bbox',\n",
       " 'boxplot',\n",
       " 'broken_barh',\n",
       " 'bxp',\n",
       " 'callbacks',\n",
       " 'can_pan',\n",
       " 'can_zoom',\n",
       " 'change_geometry',\n",
       " 'cla',\n",
       " 'clabel',\n",
       " 'clear',\n",
       " 'clipbox',\n",
       " 'cohere',\n",
       " 'colNum',\n",
       " 'collections',\n",
       " 'containers',\n",
       " 'contains',\n",
       " 'contains_point',\n",
       " 'contour',\n",
       " 'contourf',\n",
       " 'convert_xunits',\n",
       " 'convert_yunits',\n",
       " 'csd',\n",
       " 'dataLim',\n",
       " 'drag_pan',\n",
       " 'draw',\n",
       " 'draw_artist',\n",
       " 'end_pan',\n",
       " 'errorbar',\n",
       " 'eventplot',\n",
       " 'eventson',\n",
       " 'figbox',\n",
       " 'figure',\n",
       " 'fill',\n",
       " 'fill_between',\n",
       " 'fill_betweenx',\n",
       " 'findobj',\n",
       " 'fmt_xdata',\n",
       " 'fmt_ydata',\n",
       " 'format_coord',\n",
       " 'format_cursor_data',\n",
       " 'format_xdata',\n",
       " 'format_ydata',\n",
       " 'get_adjustable',\n",
       " 'get_agg_filter',\n",
       " 'get_alpha',\n",
       " 'get_anchor',\n",
       " 'get_animated',\n",
       " 'get_aspect',\n",
       " 'get_autoscale_on',\n",
       " 'get_autoscalex_on',\n",
       " 'get_autoscaley_on',\n",
       " 'get_axes',\n",
       " 'get_axes_locator',\n",
       " 'get_axis_bgcolor',\n",
       " 'get_axisbelow',\n",
       " 'get_children',\n",
       " 'get_clip_box',\n",
       " 'get_clip_on',\n",
       " 'get_clip_path',\n",
       " 'get_contains',\n",
       " 'get_cursor_data',\n",
       " 'get_cursor_props',\n",
       " 'get_data_ratio',\n",
       " 'get_data_ratio_log',\n",
       " 'get_default_bbox_extra_artists',\n",
       " 'get_facecolor',\n",
       " 'get_fc',\n",
       " 'get_figure',\n",
       " 'get_frame_on',\n",
       " 'get_geometry',\n",
       " 'get_gid',\n",
       " 'get_images',\n",
       " 'get_label',\n",
       " 'get_legend',\n",
       " 'get_legend_handles_labels',\n",
       " 'get_lines',\n",
       " 'get_navigate',\n",
       " 'get_navigate_mode',\n",
       " 'get_path_effects',\n",
       " 'get_picker',\n",
       " 'get_position',\n",
       " 'get_rasterization_zorder',\n",
       " 'get_rasterized',\n",
       " 'get_renderer_cache',\n",
       " 'get_shared_x_axes',\n",
       " 'get_shared_y_axes',\n",
       " 'get_sketch_params',\n",
       " 'get_snap',\n",
       " 'get_subplotspec',\n",
       " 'get_tightbbox',\n",
       " 'get_title',\n",
       " 'get_transform',\n",
       " 'get_transformed_clip_path_and_affine',\n",
       " 'get_url',\n",
       " 'get_visible',\n",
       " 'get_window_extent',\n",
       " 'get_xaxis',\n",
       " 'get_xaxis_text1_transform',\n",
       " 'get_xaxis_text2_transform',\n",
       " 'get_xaxis_transform',\n",
       " 'get_xbound',\n",
       " 'get_xgridlines',\n",
       " 'get_xlabel',\n",
       " 'get_xlim',\n",
       " 'get_xmajorticklabels',\n",
       " 'get_xminorticklabels',\n",
       " 'get_xscale',\n",
       " 'get_xticklabels',\n",
       " 'get_xticklines',\n",
       " 'get_xticks',\n",
       " 'get_yaxis',\n",
       " 'get_yaxis_text1_transform',\n",
       " 'get_yaxis_text2_transform',\n",
       " 'get_yaxis_transform',\n",
       " 'get_ybound',\n",
       " 'get_ygridlines',\n",
       " 'get_ylabel',\n",
       " 'get_ylim',\n",
       " 'get_ymajorticklabels',\n",
       " 'get_yminorticklabels',\n",
       " 'get_yscale',\n",
       " 'get_yticklabels',\n",
       " 'get_yticklines',\n",
       " 'get_yticks',\n",
       " 'get_zorder',\n",
       " 'grid',\n",
       " 'has_data',\n",
       " 'have_units',\n",
       " 'hexbin',\n",
       " 'hist',\n",
       " 'hist2d',\n",
       " 'hitlist',\n",
       " 'hlines',\n",
       " 'hold',\n",
       " 'ignore_existing_data_limits',\n",
       " 'images',\n",
       " 'imshow',\n",
       " 'in_axes',\n",
       " 'invert_xaxis',\n",
       " 'invert_yaxis',\n",
       " 'is_figure_set',\n",
       " 'is_first_col',\n",
       " 'is_first_row',\n",
       " 'is_last_col',\n",
       " 'is_last_row',\n",
       " 'is_transform_set',\n",
       " 'ishold',\n",
       " 'label_outer',\n",
       " 'legend',\n",
       " 'legend_',\n",
       " 'lines',\n",
       " 'locator_params',\n",
       " 'loglog',\n",
       " 'magnitude_spectrum',\n",
       " 'margins',\n",
       " 'matshow',\n",
       " 'minorticks_off',\n",
       " 'minorticks_on',\n",
       " 'mouseover',\n",
       " 'mouseover_set',\n",
       " 'name',\n",
       " 'numCols',\n",
       " 'numRows',\n",
       " 'patch',\n",
       " 'patches',\n",
       " 'pchanged',\n",
       " 'pcolor',\n",
       " 'pcolorfast',\n",
       " 'pcolormesh',\n",
       " 'phase_spectrum',\n",
       " 'pick',\n",
       " 'pickable',\n",
       " 'pie',\n",
       " 'plot',\n",
       " 'plot_date',\n",
       " 'properties',\n",
       " 'psd',\n",
       " 'quiver',\n",
       " 'quiverkey',\n",
       " 'redraw_in_frame',\n",
       " 'relim',\n",
       " 'remove',\n",
       " 'remove_callback',\n",
       " 'reset_position',\n",
       " 'rowNum',\n",
       " 'scatter',\n",
       " 'semilogx',\n",
       " 'semilogy',\n",
       " 'set',\n",
       " 'set_adjustable',\n",
       " 'set_agg_filter',\n",
       " 'set_alpha',\n",
       " 'set_anchor',\n",
       " 'set_animated',\n",
       " 'set_aspect',\n",
       " 'set_autoscale_on',\n",
       " 'set_autoscalex_on',\n",
       " 'set_autoscaley_on',\n",
       " 'set_axes',\n",
       " 'set_axes_locator',\n",
       " 'set_axis_bgcolor',\n",
       " 'set_axis_off',\n",
       " 'set_axis_on',\n",
       " 'set_axisbelow',\n",
       " 'set_clip_box',\n",
       " 'set_clip_on',\n",
       " 'set_clip_path',\n",
       " 'set_color_cycle',\n",
       " 'set_contains',\n",
       " 'set_cursor_props',\n",
       " 'set_facecolor',\n",
       " 'set_fc',\n",
       " 'set_figure',\n",
       " 'set_frame_on',\n",
       " 'set_gid',\n",
       " 'set_label',\n",
       " 'set_navigate',\n",
       " 'set_navigate_mode',\n",
       " 'set_path_effects',\n",
       " 'set_picker',\n",
       " 'set_position',\n",
       " 'set_prop_cycle',\n",
       " 'set_rasterization_zorder',\n",
       " 'set_rasterized',\n",
       " 'set_sketch_params',\n",
       " 'set_snap',\n",
       " 'set_subplotspec',\n",
       " 'set_title',\n",
       " 'set_transform',\n",
       " 'set_url',\n",
       " 'set_visible',\n",
       " 'set_xbound',\n",
       " 'set_xlabel',\n",
       " 'set_xlim',\n",
       " 'set_xmargin',\n",
       " 'set_xscale',\n",
       " 'set_xticklabels',\n",
       " 'set_xticks',\n",
       " 'set_ybound',\n",
       " 'set_ylabel',\n",
       " 'set_ylim',\n",
       " 'set_ymargin',\n",
       " 'set_yscale',\n",
       " 'set_yticklabels',\n",
       " 'set_yticks',\n",
       " 'set_zorder',\n",
       " 'specgram',\n",
       " 'spines',\n",
       " 'spy',\n",
       " 'stackplot',\n",
       " 'stale',\n",
       " 'stale_callback',\n",
       " 'start_pan',\n",
       " 'stem',\n",
       " 'step',\n",
       " 'sticky_edges',\n",
       " 'streamplot',\n",
       " 'table',\n",
       " 'tables',\n",
       " 'text',\n",
       " 'texts',\n",
       " 'tick_params',\n",
       " 'ticklabel_format',\n",
       " 'title',\n",
       " 'titleOffsetTrans',\n",
       " 'transAxes',\n",
       " 'transData',\n",
       " 'transLimits',\n",
       " 'transScale',\n",
       " 'tricontour',\n",
       " 'tricontourf',\n",
       " 'tripcolor',\n",
       " 'triplot',\n",
       " 'twinx',\n",
       " 'twiny',\n",
       " 'update',\n",
       " 'update_datalim',\n",
       " 'update_datalim_bounds',\n",
       " 'update_datalim_numerix',\n",
       " 'update_from',\n",
       " 'update_params',\n",
       " 'use_sticky_edges',\n",
       " 'viewLim',\n",
       " 'violin',\n",
       " 'violinplot',\n",
       " 'vlines',\n",
       " 'xaxis',\n",
       " 'xaxis_date',\n",
       " 'xaxis_inverted',\n",
       " 'xcorr',\n",
       " 'yaxis',\n",
       " 'yaxis_date',\n",
       " 'yaxis_inverted',\n",
       " 'zorder']"
      ]
     },
     "execution_count": 89,
     "metadata": {},
     "output_type": "execute_result"
    }
   ],
   "source": [
    "dir(zag)"
   ]
  },
  {
   "cell_type": "code",
   "execution_count": 123,
   "metadata": {
    "collapsed": false
   },
   "outputs": [
    {
     "data": {
      "text/plain": [
       "{'adjustable': 'box',\n",
       " 'agg_filter': None,\n",
       " 'alpha': None,\n",
       " 'anchor': 'C',\n",
       " 'animated': False,\n",
       " 'aspect': 'auto',\n",
       " 'autoscale_on': True,\n",
       " 'autoscalex_on': True,\n",
       " 'autoscaley_on': True,\n",
       " 'axes': <matplotlib.axes._subplots.AxesSubplot at 0x14b2f5048>,\n",
       " 'axes_locator': None,\n",
       " 'axis_bgcolor': (1.0, 1.0, 1.0, 1),\n",
       " 'axisbelow': 'line',\n",
       " 'children': [<matplotlib.lines.Line2D at 0x1366daf60>,\n",
       "  <matplotlib.lines.Line2D at 0x1366da0b8>,\n",
       "  <matplotlib.lines.Line2D at 0x14b365160>,\n",
       "  <matplotlib.lines.Line2D at 0x1369624a8>,\n",
       "  <matplotlib.lines.Line2D at 0x14b3eecf8>,\n",
       "  <matplotlib.lines.Line2D at 0x1366da198>,\n",
       "  <matplotlib.lines.Line2D at 0x14ad86b70>,\n",
       "  <matplotlib.lines.Line2D at 0x135998f28>,\n",
       "  <matplotlib.lines.Line2D at 0x135998898>,\n",
       "  <matplotlib.lines.Line2D at 0x155934cf8>,\n",
       "  <matplotlib.lines.Line2D at 0x14b365860>,\n",
       "  <matplotlib.lines.Line2D at 0x155934320>,\n",
       "  <matplotlib.lines.Line2D at 0x136303978>,\n",
       "  <matplotlib.lines.Line2D at 0x14ad865f8>,\n",
       "  <matplotlib.lines.Line2D at 0x14acf8940>,\n",
       "  <matplotlib.lines.Line2D at 0x14acf8550>,\n",
       "  <matplotlib.spines.Spine at 0x1362a8b70>,\n",
       "  <matplotlib.spines.Spine at 0x135e764e0>,\n",
       "  <matplotlib.spines.Spine at 0x16140bf60>,\n",
       "  <matplotlib.spines.Spine at 0x135ed86d8>,\n",
       "  <matplotlib.axis.XAxis at 0x1366cebe0>,\n",
       "  <matplotlib.axis.YAxis at 0x136221da0>,\n",
       "  <matplotlib.text.Text at 0x13696a048>,\n",
       "  <matplotlib.text.Text at 0x13696ac88>,\n",
       "  <matplotlib.text.Text at 0x13696a080>,\n",
       "  <matplotlib.patches.Rectangle at 0x13696a8d0>],\n",
       " 'clip_box': None,\n",
       " 'clip_on': True,\n",
       " 'clip_path': None,\n",
       " 'contains': None,\n",
       " 'cursor_props': (1, (0.0, 0.0, 0.0, 1)),\n",
       " 'data_ratio': 106.39671967703418,\n",
       " 'default_bbox_extra_artists': [<matplotlib.lines.Line2D at 0x1366daf60>,\n",
       "  <matplotlib.lines.Line2D at 0x1366da0b8>,\n",
       "  <matplotlib.lines.Line2D at 0x14b365160>,\n",
       "  <matplotlib.lines.Line2D at 0x1369624a8>,\n",
       "  <matplotlib.lines.Line2D at 0x14b3eecf8>,\n",
       "  <matplotlib.lines.Line2D at 0x1366da198>,\n",
       "  <matplotlib.lines.Line2D at 0x14ad86b70>,\n",
       "  <matplotlib.lines.Line2D at 0x135998f28>,\n",
       "  <matplotlib.lines.Line2D at 0x135998898>,\n",
       "  <matplotlib.lines.Line2D at 0x155934cf8>,\n",
       "  <matplotlib.lines.Line2D at 0x14b365860>,\n",
       "  <matplotlib.lines.Line2D at 0x155934320>,\n",
       "  <matplotlib.lines.Line2D at 0x136303978>,\n",
       "  <matplotlib.lines.Line2D at 0x14ad865f8>,\n",
       "  <matplotlib.lines.Line2D at 0x14acf8940>,\n",
       "  <matplotlib.lines.Line2D at 0x14acf8550>,\n",
       "  <matplotlib.spines.Spine at 0x1362a8b70>,\n",
       "  <matplotlib.spines.Spine at 0x135e764e0>,\n",
       "  <matplotlib.spines.Spine at 0x16140bf60>,\n",
       "  <matplotlib.spines.Spine at 0x135ed86d8>,\n",
       "  <matplotlib.axis.XAxis at 0x1366cebe0>,\n",
       "  <matplotlib.axis.YAxis at 0x136221da0>,\n",
       "  <matplotlib.text.Text at 0x13696a048>,\n",
       "  <matplotlib.text.Text at 0x13696ac88>,\n",
       "  <matplotlib.text.Text at 0x13696a080>,\n",
       "  <matplotlib.patches.Rectangle at 0x13696a8d0>],\n",
       " 'facecolor': (1.0, 1.0, 1.0, 1),\n",
       " 'fc': (1.0, 1.0, 1.0, 1),\n",
       " 'figure': <matplotlib.figure.Figure at 0x14acff908>,\n",
       " 'frame_on': True,\n",
       " 'geometry': (1, 1, 1),\n",
       " 'gid': None,\n",
       " 'images': <a list of 0 AxesImage objects>,\n",
       " 'label': '',\n",
       " 'legend': None,\n",
       " 'legend_handles_labels': ([], []),\n",
       " 'lines': <a list of 16 Line2D objects>,\n",
       " 'navigate': True,\n",
       " 'navigate_mode': None,\n",
       " 'path_effects': [],\n",
       " 'picker': None,\n",
       " 'position': Bbox([[0.125, 0.125], [0.9, 0.88]]),\n",
       " 'rasterization_zorder': None,\n",
       " 'rasterized': None,\n",
       " 'renderer_cache': <matplotlib.backends.backend_agg.RendererAgg at 0x14acf8748>,\n",
       " 'shared_x_axes': <matplotlib.cbook.Grouper at 0x10f594518>,\n",
       " 'shared_y_axes': <matplotlib.cbook.Grouper at 0x10f594588>,\n",
       " 'sketch_params': None,\n",
       " 'snap': None,\n",
       " 'subplotspec': <matplotlib.gridspec.SubplotSpec at 0x161b0e748>,\n",
       " 'title': '',\n",
       " 'transform': IdentityTransform(),\n",
       " 'transformed_clip_path_and_affine': (None, None),\n",
       " 'url': None,\n",
       " 'visible': True,\n",
       " 'window_extent': Bbox([[50.5, 32.5], [392.3, 256.94]]),\n",
       " 'xaxis': <matplotlib.axis.XAxis at 0x1366cebe0>,\n",
       " 'xaxis_transform': BlendedGenericTransform(CompositeGenericTransform(TransformWrapper(BlendedAffine2D(IdentityTransform(),IdentityTransform())), CompositeGenericTransform(BboxTransformFrom(TransformedBbox(Bbox([[-0.06354098229211921, -4.0364374016529085], [0.7710864677450634, 84.76518543471107]]), TransformWrapper(BlendedAffine2D(IdentityTransform(),IdentityTransform())))), BboxTransformTo(TransformedBbox(Bbox([[0.125, 0.125], [0.9, 0.88]]), BboxTransformTo(TransformedBbox(Bbox([[0.0, 0.0], [6.0, 4.0]]), Affine2D(array([[ 72.,   0.,   0.],\n",
       "        [  0.,  72.,   0.],\n",
       "        [  0.,   0.,   1.]])))))))),BboxTransformTo(TransformedBbox(Bbox([[0.125, 0.125], [0.9, 0.88]]), BboxTransformTo(TransformedBbox(Bbox([[0.0, 0.0], [6.0, 4.0]]), Affine2D(array([[ 72.,   0.,   0.],\n",
       "        [  0.,  72.,   0.],\n",
       "        [  0.,   0.,   1.]]))))))),\n",
       " 'xbound': (-0.063540982292119214, 0.7710864677450634),\n",
       " 'xgridlines': <a list of 10 Line2D xgridline objects>,\n",
       " 'xlabel': '',\n",
       " 'xlim': (-0.063540982292119214, 0.7710864677450634),\n",
       " 'xmajorticklabels': <a list of 10 Text xticklabel objects>,\n",
       " 'xminorticklabels': <a list of 0 Text xticklabel objects>,\n",
       " 'xscale': 'linear',\n",
       " 'xticklabels': <a list of 10 Text xticklabel objects>,\n",
       " 'xticklines': <a list of 20 Text xtickline objects>,\n",
       " 'xticks': array([-0.1,  0. ,  0.1,  0.2,  0.3,  0.4,  0.5,  0.6,  0.7,  0.8]),\n",
       " 'yaxis': <matplotlib.axis.YAxis at 0x136221da0>,\n",
       " 'yaxis_transform': BlendedGenericTransform(BboxTransformTo(TransformedBbox(Bbox([[0.125, 0.125], [0.9, 0.88]]), BboxTransformTo(TransformedBbox(Bbox([[0.0, 0.0], [6.0, 4.0]]), Affine2D(array([[ 72.,   0.,   0.],\n",
       "        [  0.,  72.,   0.],\n",
       "        [  0.,   0.,   1.]])))))),CompositeGenericTransform(TransformWrapper(BlendedAffine2D(IdentityTransform(),IdentityTransform())), CompositeGenericTransform(BboxTransformFrom(TransformedBbox(Bbox([[-0.06354098229211921, -4.0364374016529085], [0.7710864677450634, 84.76518543471107]]), TransformWrapper(BlendedAffine2D(IdentityTransform(),IdentityTransform())))), BboxTransformTo(TransformedBbox(Bbox([[0.125, 0.125], [0.9, 0.88]]), BboxTransformTo(TransformedBbox(Bbox([[0.0, 0.0], [6.0, 4.0]]), Affine2D(array([[ 72.,   0.,   0.],\n",
       "        [  0.,  72.,   0.],\n",
       "        [  0.,   0.,   1.]]))))))))),\n",
       " 'ybound': (-4.0364374016529085, 84.765185434711071),\n",
       " 'ygridlines': <a list of 11 Line2D ygridline objects>,\n",
       " 'ylabel': '',\n",
       " 'ylim': (-4.0364374016529085, 84.765185434711071),\n",
       " 'ymajorticklabels': <a list of 11 Text yticklabel objects>,\n",
       " 'yminorticklabels': <a list of 0 Text yticklabel objects>,\n",
       " 'yscale': 'linear',\n",
       " 'yticklabels': <a list of 11 Text yticklabel objects>,\n",
       " 'yticklines': <a list of 22 Line2D ytickline objects>,\n",
       " 'yticks': array([-10.,   0.,  10.,  20.,  30.,  40.,  50.,  60.,  70.,  80.,  90.]),\n",
       " 'zorder': 0}"
      ]
     },
     "execution_count": 123,
     "metadata": {},
     "output_type": "execute_result"
    }
   ],
   "source": [
    "zag.properties()"
   ]
  },
  {
   "cell_type": "code",
   "execution_count": 114,
   "metadata": {
    "collapsed": false
   },
   "outputs": [
    {
     "data": {
      "text/plain": [
       "Bbox([[-0.025603370926792733, 0.0], [0.7331488563797369, 80.72874803305817]])"
      ]
     },
     "execution_count": 114,
     "metadata": {},
     "output_type": "execute_result"
    }
   ],
   "source": [
    "zag.dataLim"
   ]
  },
  {
   "cell_type": "code",
   "execution_count": 142,
   "metadata": {
    "collapsed": false
   },
   "outputs": [
    {
     "data": {
      "text/plain": [
       "array([  0.00000000e+00,   3.67136920e-01,   3.80500776e+00,\n",
       "         1.37353743e+01,   6.00336821e+00,   8.38017266e+00,\n",
       "         6.25601602e+00,   4.30306058e+00,   3.53694017e+00,\n",
       "         3.80075181e+00,   2.82026665e+00,   2.77993418e+00,\n",
       "         2.02582671e+00,   2.08206260e+00,   1.92556586e+00,\n",
       "         1.68538574e+00,   1.39635436e+00,   1.75355105e+00,\n",
       "         1.07728405e+00,   1.34889594e+00,   1.21234535e+00,\n",
       "         1.15626678e+00,   7.84194915e-01,   1.11786661e+00,\n",
       "         9.51593337e-01,   9.53101541e-01,   8.45150668e-01,\n",
       "         9.08625843e-01,   8.94979835e-01,   7.79152273e-01,\n",
       "         6.36411310e-01,   7.26411750e-01,   6.47858265e-01,\n",
       "         6.87276531e-01,   6.34733188e-01,   8.82500314e-01,\n",
       "         5.93878665e-01,   5.82254232e-01,   4.77434053e-01,\n",
       "         5.55382168e-01,   5.86395931e-01,   4.92488379e-01,\n",
       "         3.82130500e-01,   4.14953860e-01,   3.99077946e-01,\n",
       "         4.14490441e-01,   3.52807152e-01,   4.21645325e-01,\n",
       "         3.43578524e-01,   3.64931172e-01,   3.17508385e-01,\n",
       "         3.51419907e-01,   2.47455683e-01,   3.00933296e-01,\n",
       "         2.46807141e-01,   3.19161571e-01,   2.17490299e-01,\n",
       "         2.38471489e-01,   2.00227373e-01,   2.16964026e-01,\n",
       "         2.13462153e-01,   2.07163883e-01,   2.18957540e-01,\n",
       "         2.02633415e-01,   2.33339949e-01,   2.09784868e-01,\n",
       "         2.01573023e-01,   2.01385887e-01,   1.69349422e-01,\n",
       "         1.92346313e-01,   1.55296321e-01,   1.53550912e-01,\n",
       "         1.15584193e-01,   1.29175059e-01,   1.12713008e-01,\n",
       "         1.76172953e-01,   1.04728088e-01,   9.62930032e-02,\n",
       "         8.44917675e-02,   1.00712787e-01,   8.78061869e-02,\n",
       "         8.47802340e-02,   6.55488518e-02,   1.15393673e-01,\n",
       "         9.58614969e-02,   1.88808097e-01,   3.06948706e-02,\n",
       "         9.66579981e-02,   8.16782283e-02,   7.20231360e-02,\n",
       "         1.32756562e-01,   5.79546971e-02,   6.93852755e-02,\n",
       "         5.73093995e-02,   3.87772148e-02,   6.07744627e-02,\n",
       "         4.67545974e-02,   5.94592998e-02,   1.65003712e-02,\n",
       "         4.70913505e-02,   1.43791007e-02,   4.53198724e-02,\n",
       "         5.38429461e-03,   3.67474742e-02,   8.12958875e-03,\n",
       "         4.66915027e-02,   7.24091283e-04,   3.32098348e-02,\n",
       "         0.00000000e+00,   4.90498281e-02,   1.06202118e-03,\n",
       "         4.02945223e-02,   0.00000000e+00,   3.14701750e-02,\n",
       "         0.00000000e+00,   4.36690390e-02,   0.00000000e+00,\n",
       "         4.74626904e-02,   0.00000000e+00,   6.38165619e-02,\n",
       "         0.00000000e+00,   6.90028244e-02,   0.00000000e+00,\n",
       "         9.44687619e-02,   0.00000000e+00,   1.34451427e-01,\n",
       "         0.00000000e+00,   1.97095724e-01])"
      ]
     },
     "execution_count": 142,
     "metadata": {},
     "output_type": "execute_result"
    }
   ],
   "source": [
    "zag.lines[0].get_ydata()"
   ]
  },
  {
   "cell_type": "code",
   "execution_count": null,
   "metadata": {
    "collapsed": true
   },
   "outputs": [],
   "source": [
    "zag.lines[0].get_ydata()"
   ]
  },
  {
   "cell_type": "code",
   "execution_count": null,
   "metadata": {
    "collapsed": true
   },
   "outputs": [],
   "source": [
    "update_datalim"
   ]
  },
  {
   "cell_type": "code",
   "execution_count": 169,
   "metadata": {
    "collapsed": false
   },
   "outputs": [
    {
     "name": "stdout",
     "output_type": "stream",
     "text": [
      "doing  0\n",
      "basiscut length  40252\n",
      "inventing barsortorder\n",
      "inventing names\n",
      "doing  1\n",
      "basiscut length  60210\n",
      "inventing barsortorder\n",
      "inventing names\n",
      "doing  2\n",
      "basiscut length  99365\n",
      "inventing barsortorder\n",
      "inventing names\n",
      "doing  3\n",
      "basiscut length  117880\n",
      "inventing barsortorder\n",
      "inventing names\n",
      "doing  4\n",
      "basiscut length  103073\n",
      "inventing barsortorder\n",
      "inventing names\n",
      "doing  5\n",
      "basiscut length  60495\n",
      "inventing barsortorder\n",
      "inventing names\n",
      "doing  6\n",
      "basiscut length  172998\n",
      "inventing barsortorder\n",
      "inventing names\n",
      "doing  7\n",
      "basiscut length  46605\n",
      "inventing barsortorder\n",
      "inventing names\n",
      "doing  8\n",
      "basiscut length  49593\n",
      "inventing barsortorder\n",
      "inventing names\n",
      "doing  9\n",
      "basiscut length  66417\n",
      "inventing barsortorder\n",
      "inventing names\n",
      "doing  10\n",
      "basiscut length  29758\n",
      "inventing barsortorder\n",
      "inventing names\n",
      "doing  11\n",
      "basiscut length  87388\n",
      "inventing barsortorder\n",
      "inventing names\n",
      "doing  12\n",
      "basiscut length  43943\n",
      "inventing barsortorder\n",
      "inventing names\n",
      "doing  13\n",
      "basiscut length  60796\n",
      "inventing barsortorder\n",
      "inventing names\n",
      "doing  14\n",
      "basiscut length  67269\n",
      "inventing barsortorder\n",
      "inventing names\n",
      "doing  15\n",
      "basiscut length  82250\n",
      "inventing barsortorder\n",
      "inventing names\n",
      "doing  16\n",
      "basiscut length  44747\n",
      "inventing barsortorder\n",
      "inventing names\n",
      "doing  17\n",
      "basiscut length  44946\n",
      "inventing barsortorder\n",
      "inventing names\n",
      "doing  18\n",
      "basiscut length  83081\n",
      "inventing barsortorder\n",
      "inventing names\n",
      "doing  19\n",
      "basiscut length  41829\n",
      "inventing barsortorder\n",
      "inventing names\n",
      "doing  20\n",
      "basiscut length  79082\n",
      "inventing barsortorder\n",
      "inventing names\n",
      "doing  21\n",
      "basiscut length  34180\n",
      "inventing barsortorder\n",
      "inventing names\n",
      "doing  22\n",
      "basiscut length  24854\n",
      "inventing barsortorder\n",
      "inventing names\n",
      "doing  23\n",
      "basiscut length  42135\n",
      "inventing barsortorder\n",
      "inventing names\n",
      "doing  24\n",
      "basiscut length  43568\n",
      "inventing barsortorder\n",
      "inventing names\n",
      "doing  25\n",
      "basiscut length  29030\n",
      "inventing barsortorder\n",
      "inventing names\n",
      "doing  26\n",
      "basiscut length  48675\n",
      "inventing barsortorder\n",
      "inventing names\n",
      "doing  27\n",
      "basiscut length  57282\n",
      "inventing barsortorder\n",
      "inventing names\n",
      "doing  28\n",
      "basiscut length  21158\n",
      "inventing barsortorder\n",
      "inventing names\n",
      "doing  29\n",
      "basiscut length  50464\n",
      "inventing barsortorder\n",
      "inventing names\n",
      "doing  30\n",
      "basiscut length  101013\n",
      "inventing barsortorder\n",
      "inventing names\n",
      "doing  31\n",
      "basiscut length  13162\n",
      "inventing barsortorder\n",
      "inventing names\n",
      "doing  32\n",
      "basiscut length  120802\n",
      "inventing barsortorder\n",
      "inventing names\n",
      "doing  33\n",
      "basiscut length  67150\n",
      "inventing barsortorder\n",
      "inventing names\n",
      "doing  34\n",
      "basiscut length  32748\n",
      "inventing barsortorder\n",
      "inventing names\n",
      "doing  35\n",
      "basiscut length  64546\n",
      "inventing barsortorder\n",
      "inventing names\n"
     ]
    }
   ],
   "source": [
    "clusterassignments = kmeans_normed_DHS.labels_\n",
    "for i in range(36):\n",
    "    print('doing ',i)\n",
    "    mixturecut = clusterassignments==i\n",
    "    print('basiscut length ',len(mixturecut[mixturecut]))\n",
    "    \n",
    "    if len(mixturecut[mixturecut] ) > 40:\n",
    "        chosenNum = 40\n",
    "    else:\n",
    "        chosenNum = len(mixturecut[mixturecut])\n",
    "    \n",
    "    possibleDHS = np.arange(len(mixturecut))[mixturecut]\n",
    "    desiredDHS = np.random.choice(possibleDHS, chosenNum,replace=False)\n",
    "    VisualDHScut = np.in1d(np.arange(len(mixturecut)), desiredDHS)\n",
    "    winningcomp = np.argmax(np.sum(NormedMixture.T[VisualDHScut], axis=0))\n",
    "    desired_order = np.argsort(-NormedMixture.T[VisualDHScut][:,winningcomp])\n",
    "    #UNnormedbarsortorder = get_barsortorder(Mixture.T[mixturecut])\n",
    "    make_stacked_bar_plot(16, chosenNum, NormedMixture.T[VisualDHScut][desired_order].T, 'DHScluster'+str(i)+'outof36.pdf')"
   ]
  },
  {
   "cell_type": "code",
   "execution_count": 168,
   "metadata": {
    "collapsed": false
   },
   "outputs": [
    {
     "data": {
      "text/plain": [
       "array([  84439.79489395,   69100.20713906,   35041.78169958,\n",
       "        123973.99460523,  312290.11814599,   94179.06659107,\n",
       "        128070.1082481 ,  310291.40406758,   75472.41913456,\n",
       "         78869.03494458,   93124.51685064,  234496.03048504,\n",
       "        112289.30867728,  238516.39131072,  158648.33479698,\n",
       "         83941.48840933])"
      ]
     },
     "execution_count": 168,
     "metadata": {},
     "output_type": "execute_result"
    }
   ],
   "source": [
    "np.sum(NormedMixture.T, axis=0)"
   ]
  },
  {
   "cell_type": "code",
   "execution_count": 170,
   "metadata": {
    "collapsed": false
   },
   "outputs": [
    {
     "data": {
      "text/plain": [
       "[2,\n",
       " 3,\n",
       " 4,\n",
       " 5,\n",
       " 6,\n",
       " 7,\n",
       " 8,\n",
       " 9,\n",
       " 10,\n",
       " 11,\n",
       " 12,\n",
       " 13,\n",
       " 14,\n",
       " 15,\n",
       " 16,\n",
       " 17,\n",
       " 18,\n",
       " 19,\n",
       " 20,\n",
       " 21,\n",
       " 22,\n",
       " 23,\n",
       " 24,\n",
       " 25,\n",
       " 26,\n",
       " 27,\n",
       " 28,\n",
       " 29,\n",
       " 30,\n",
       " 31,\n",
       " 32,\n",
       " 33,\n",
       " 34,\n",
       " 35,\n",
       " 36,\n",
       " 37,\n",
       " 38,\n",
       " 39,\n",
       " 40,\n",
       " 41,\n",
       " 42,\n",
       " 43,\n",
       " 44,\n",
       " 45,\n",
       " 46,\n",
       " 47,\n",
       " 48,\n",
       " 49,\n",
       " 50,\n",
       " 51,\n",
       " 52,\n",
       " 53,\n",
       " 54,\n",
       " 55,\n",
       " 56,\n",
       " 57,\n",
       " 58,\n",
       " 59,\n",
       " 60,\n",
       " 61,\n",
       " 62,\n",
       " 63]"
      ]
     },
     "execution_count": 170,
     "metadata": {},
     "output_type": "execute_result"
    }
   ],
   "source": [
    "clusternums"
   ]
  },
  {
   "cell_type": "code",
   "execution_count": 171,
   "metadata": {
    "collapsed": true
   },
   "outputs": [],
   "source": [
    "clusternums = clusternums + [i for i in range(64, 128)]"
   ]
  },
  {
   "cell_type": "code",
   "execution_count": 172,
   "metadata": {
    "collapsed": false
   },
   "outputs": [
    {
     "data": {
      "text/plain": [
       "[2,\n",
       " 3,\n",
       " 4,\n",
       " 5,\n",
       " 6,\n",
       " 7,\n",
       " 8,\n",
       " 9,\n",
       " 10,\n",
       " 11,\n",
       " 12,\n",
       " 13,\n",
       " 14,\n",
       " 15,\n",
       " 16,\n",
       " 17,\n",
       " 18,\n",
       " 19,\n",
       " 20,\n",
       " 21,\n",
       " 22,\n",
       " 23,\n",
       " 24,\n",
       " 25,\n",
       " 26,\n",
       " 27,\n",
       " 28,\n",
       " 29,\n",
       " 30,\n",
       " 31,\n",
       " 32,\n",
       " 33,\n",
       " 34,\n",
       " 35,\n",
       " 36,\n",
       " 37,\n",
       " 38,\n",
       " 39,\n",
       " 40,\n",
       " 41,\n",
       " 42,\n",
       " 43,\n",
       " 44,\n",
       " 45,\n",
       " 46,\n",
       " 47,\n",
       " 48,\n",
       " 49,\n",
       " 50,\n",
       " 51,\n",
       " 52,\n",
       " 53,\n",
       " 54,\n",
       " 55,\n",
       " 56,\n",
       " 57,\n",
       " 58,\n",
       " 59,\n",
       " 60,\n",
       " 61,\n",
       " 62,\n",
       " 63,\n",
       " 64,\n",
       " 65,\n",
       " 66,\n",
       " 67,\n",
       " 68,\n",
       " 69,\n",
       " 70,\n",
       " 71,\n",
       " 72,\n",
       " 73,\n",
       " 74,\n",
       " 75,\n",
       " 76,\n",
       " 77,\n",
       " 78,\n",
       " 79,\n",
       " 80,\n",
       " 81,\n",
       " 82,\n",
       " 83,\n",
       " 84,\n",
       " 85,\n",
       " 86,\n",
       " 87,\n",
       " 88,\n",
       " 89,\n",
       " 90,\n",
       " 91,\n",
       " 92,\n",
       " 93,\n",
       " 94,\n",
       " 95,\n",
       " 96,\n",
       " 97,\n",
       " 98,\n",
       " 99,\n",
       " 100,\n",
       " 101,\n",
       " 102,\n",
       " 103,\n",
       " 104,\n",
       " 105,\n",
       " 106,\n",
       " 107,\n",
       " 108,\n",
       " 109,\n",
       " 110,\n",
       " 111,\n",
       " 112,\n",
       " 113,\n",
       " 114,\n",
       " 115,\n",
       " 116,\n",
       " 117,\n",
       " 118,\n",
       " 119,\n",
       " 120,\n",
       " 121,\n",
       " 122,\n",
       " 123,\n",
       " 124,\n",
       " 125,\n",
       " 126,\n",
       " 127]"
      ]
     },
     "execution_count": 172,
     "metadata": {},
     "output_type": "execute_result"
    }
   ],
   "source": [
    "clusternums"
   ]
  },
  {
   "cell_type": "code",
   "execution_count": 174,
   "metadata": {
    "collapsed": false
   },
   "outputs": [
    {
     "data": {
      "text/plain": [
       "64"
      ]
     },
     "execution_count": 174,
     "metadata": {},
     "output_type": "execute_result"
    }
   ],
   "source": [
    "clusternums[62]"
   ]
  },
  {
   "cell_type": "code",
   "execution_count": 177,
   "metadata": {
    "collapsed": false
   },
   "outputs": [
    {
     "name": "stdout",
     "output_type": "stream",
     "text": [
      "doing  64\n",
      "doing  65\n",
      "doing  66\n",
      "doing  67\n",
      "doing  68\n",
      "doing  69\n",
      "doing  70\n",
      "doing  71\n",
      "doing  72\n",
      "doing  73\n",
      "doing  74\n",
      "doing  75\n",
      "doing  76\n",
      "doing  77\n",
      "doing  78\n",
      "doing  79\n",
      "doing  80\n",
      "doing  81\n",
      "doing  82\n",
      "doing  83\n",
      "doing  84\n",
      "doing  85\n",
      "doing  86\n",
      "doing  87\n",
      "doing  88\n",
      "doing  89\n",
      "doing  90\n",
      "doing  91\n",
      "doing  92\n",
      "doing  93\n",
      "doing  94\n",
      "doing  95\n",
      "doing  96\n",
      "doing  97\n",
      "doing  98\n",
      "doing  99\n",
      "doing  100\n",
      "doing  101\n",
      "doing  102\n",
      "doing  103\n",
      "doing  104\n",
      "doing  105\n",
      "doing  106\n",
      "doing  107\n",
      "doing  108\n",
      "doing  109\n",
      "doing  110\n",
      "doing  111\n",
      "doing  112\n",
      "doing  113\n",
      "doing  114\n",
      "doing  115\n",
      "doing  116\n",
      "doing  117\n",
      "doing  118\n",
      "doing  119\n",
      "doing  120\n",
      "doing  121\n",
      "doing  122\n",
      "doing  123\n",
      "doing  124\n",
      "doing  125\n",
      "doing  126\n",
      "doing  127\n"
     ]
    }
   ],
   "source": [
    "for i in clusternums[62:]:\n",
    "    print('doing ',i)\n",
    "    kmeans_normed_sample = KMeans(n_clusters=i, random_state=0).fit(normedBasis)\n",
    "    inertialist.append(kmeans_normed_sample.inertia_)\n"
   ]
  },
  {
   "cell_type": "code",
   "execution_count": 180,
   "metadata": {
    "collapsed": false
   },
   "outputs": [
    {
     "data": {
      "image/png": "[encoded data removed]",
      "text/plain": [
       "<matplotlib.figure.Figure at 0x122dd1320>"
      ]
     },
     "metadata": {},
     "output_type": "display_data"
    }
   ],
   "source": [
    "plt.clf()\n",
    "plt.plot(clusternums[100:],inertialist[100:],'ok' )\n",
    "plt.show()"
   ]
  },
  {
   "cell_type": "code",
   "execution_count": 181,
   "metadata": {
    "collapsed": false
   },
   "outputs": [
    {
     "data": {
      "image/png": "[encoded data removed]",
      "text/plain": [
       "<matplotlib.figure.Figure at 0x123096d68>"
      ]
     },
     "metadata": {},
     "output_type": "display_data"
    }
   ],
   "source": [
    "plt.clf()\n",
    "plt.plot(clusternums,inertialist,'ok' )\n",
    "plt.show()"
   ]
  },
  {
   "cell_type": "code",
   "execution_count": 182,
   "metadata": {
    "collapsed": false
   },
   "outputs": [
    {
     "data": {
      "image/png": "[encoded data removed]",
      "text/plain": [
       "<matplotlib.figure.Figure at 0x120124860>"
      ]
     },
     "metadata": {},
     "output_type": "display_data"
    }
   ],
   "source": [
    "plt.clf()\n",
    "plt.plot(clusternums,np.log10(inertialist),'ok' )\n",
    "plt.show()"
   ]
  },
  {
   "cell_type": "code",
   "execution_count": 185,
   "metadata": {
    "collapsed": false
   },
   "outputs": [
    {
     "data": {
      "image/png": "[encoded data removed]",
      "text/plain": [
       "<matplotlib.figure.Figure at 0x122fdeda0>"
      ]
     },
     "metadata": {},
     "output_type": "display_data"
    }
   ],
   "source": [
    "plt.clf()\n",
    "plt.plot(clusternums[:62],np.log10(DHSnormed_inertialist),'ok' )\n",
    "plt.show()\n"
   ]
  },
  {
   "cell_type": "code",
   "execution_count": 186,
   "metadata": {
    "collapsed": false
   },
   "outputs": [
    {
     "data": {
      "image/png": "[encoded data removed]",
      "text/plain": [
       "<matplotlib.figure.Figure at 0x111f95a20>"
      ]
     },
     "metadata": {},
     "output_type": "display_data"
    }
   ],
   "source": [
    "plt.clf()\n",
    "plt.plot(clusternums[:62],np.log10(inertialist[:62]),'ok' )\n",
    "plt.show()"
   ]
  },
  {
   "cell_type": "code",
   "execution_count": 191,
   "metadata": {
    "collapsed": false
   },
   "outputs": [
    {
     "data": {
      "image/png": "[encoded data removed]",
      "text/plain": [
       "<matplotlib.figure.Figure at 0x122feb080>"
      ]
     },
     "metadata": {},
     "output_type": "display_data"
    }
   ],
   "source": [
    "plt.clf()\n",
    "plt.plot(clusternums[:62],np.log10(inertialist[:62]),'ok' )\n",
    "plt.plot(clusternums[:62],np.log10(DHSnormed_inertialist)-3.6,'or' )\n",
    "plt.show()\n"
   ]
  },
  {
   "cell_type": "code",
   "execution_count": 192,
   "metadata": {
    "collapsed": false
   },
   "outputs": [
    {
     "data": {
      "image/png": "[encoded data removed]",
      "text/plain": [
       "<matplotlib.figure.Figure at 0x123a53940>"
      ]
     },
     "metadata": {},
     "output_type": "display_data"
    }
   ],
   "source": [
    "plt.clf()\n",
    "plt.plot(clusternums,np.gradient(inertialist),'ok' )\n",
    "plt.show()"
   ]
  },
  {
   "cell_type": "code",
   "execution_count": 193,
   "metadata": {
    "collapsed": false
   },
   "outputs": [
    {
     "data": {
      "image/png": "[encoded data removed]",
      "text/plain": [
       "<matplotlib.figure.Figure at 0x122ff6710>"
      ]
     },
     "metadata": {},
     "output_type": "display_data"
    }
   ],
   "source": [
    "plt.clf()\n",
    "plt.plot(clusternums[62:],np.gradient(inertialist[62:]),'ok' )\n",
    "plt.show()"
   ]
  },
  {
   "cell_type": "code",
   "execution_count": 194,
   "metadata": {
    "collapsed": false
   },
   "outputs": [
    {
     "data": {
      "text/plain": [
       "LinregressResult(slope=0.0017243157102216473, intercept=-0.25813616047266014, rvalue=0.56788325156247066, pvalue=9.8815029278357368e-07, stderr=0.00031740903899433293)"
      ]
     },
     "execution_count": 194,
     "metadata": {},
     "output_type": "execute_result"
    }
   ],
   "source": [
    "linregress(clusternums[62:],np.gradient(inertialist[62:]))"
   ]
  },
  {
   "cell_type": "code",
   "execution_count": 197,
   "metadata": {
    "collapsed": false
   },
   "outputs": [
    {
     "data": {
      "text/plain": [
       "LinregressResult(slope=0.0013276472471111453, intercept=-0.21496856566364805, rvalue=0.45227104007916624, pvalue=0.0004662606508423032, stderr=0.00035628187571882445)"
      ]
     },
     "execution_count": 197,
     "metadata": {},
     "output_type": "execute_result"
    }
   ],
   "source": [
    "linregress(clusternums[70:],np.gradient(inertialist[70:]))"
   ]
  },
  {
   "cell_type": "code",
   "execution_count": null,
   "metadata": {
    "collapsed": true
   },
   "outputs": [],
   "source": []
  }
 ],
 "metadata": {
  "anaconda-cloud": {},
  "kernelspec": {
   "display_name": "Python [default]",
   "language": "python",
   "name": "python3"
  },
  "language_info": {
   "codemirror_mode": {
    "name": "ipython",
    "version": 3
   },
   "file_extension": ".py",
   "mimetype": "text/x-python",
   "name": "python",
   "nbconvert_exporter": "python",
   "pygments_lexer": "ipython3",
   "version": "3.5.2"
  }
 },
 "nbformat": 4,
 "nbformat_minor": 1
}
