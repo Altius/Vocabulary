{
 "cells": [
  {
   "cell_type": "code",
   "execution_count": 1,
   "metadata": {
    "collapsed": true
   },
   "outputs": [],
   "source": [
    "import numpy as np\n",
    "from scipy.stats import entropy"
   ]
  },
  {
   "cell_type": "code",
   "execution_count": 2,
   "metadata": {
    "collapsed": false
   },
   "outputs": [],
   "source": [
    "centers = np.loadtxt('clipped_beefy_36clusters/2017-12-11clustercenters36.txt')"
   ]
  },
  {
   "cell_type": "code",
   "execution_count": 3,
   "metadata": {
    "collapsed": false
   },
   "outputs": [
    {
     "data": {
      "text/plain": [
       "(36, 16)"
      ]
     },
     "execution_count": 3,
     "metadata": {},
     "output_type": "execute_result"
    }
   ],
   "source": [
    "centers.shape"
   ]
  },
  {
   "cell_type": "code",
   "execution_count": 4,
   "metadata": {
    "collapsed": false
   },
   "outputs": [],
   "source": [
    "entmatrix = []\n",
    "for j in range(36):\n",
    "    entlist = []\n",
    "    for i in range (36):\n",
    "        the_entropy = entropy(centers[j], centers[i])\n",
    "        #print(j+1, i+1, the_entropy)\n",
    "        entlist.append(the_entropy)\n",
    "    entmatrix.append(entlist)"
   ]
  },
  {
   "cell_type": "code",
   "execution_count": 5,
   "metadata": {
    "collapsed": true
   },
   "outputs": [],
   "source": [
    "entmatrix = np.array(entmatrix)"
   ]
  },
  {
   "cell_type": "code",
   "execution_count": 6,
   "metadata": {
    "collapsed": false
   },
   "outputs": [
    {
     "data": {
      "text/plain": [
       "(36, 36)"
      ]
     },
     "execution_count": 6,
     "metadata": {},
     "output_type": "execute_result"
    }
   ],
   "source": [
    "entmatrix.shape"
   ]
  },
  {
   "cell_type": "code",
   "execution_count": 7,
   "metadata": {
    "collapsed": false
   },
   "outputs": [
    {
     "data": {
      "text/plain": [
       "array([ 1.36590779,  0.73352514,  1.22930862,  0.61265243,  1.13582142,\n",
       "        1.24671545,  0.75441161,  1.43679335,  1.4832747 ,  0.84927978,\n",
       "        1.24682044,  0.85420844,  1.38429848,  0.69094345,  1.21519363,\n",
       "        1.16749183,  0.92040687,  0.74795327,  0.55545481,  1.55255907,\n",
       "        0.98105861,  0.86488345,  0.8480498 ,  0.7633319 ,  0.94931727,\n",
       "        0.7354609 ,  0.85839653,  0.63820647,  1.49439696,  1.13780586,\n",
       "        0.83577158,  1.8123264 ,  0.78184817,  1.14789219,  0.64011576,\n",
       "        1.086264  ])"
      ]
     },
     "execution_count": 7,
     "metadata": {},
     "output_type": "execute_result"
    }
   ],
   "source": [
    "np.median(entmatrix, axis=0)"
   ]
  },
  {
   "cell_type": "code",
   "execution_count": 8,
   "metadata": {
    "collapsed": false
   },
   "outputs": [
    {
     "data": {
      "text/plain": [
       "array([ 1.52407696,  0.70884235,  1.3572381 ,  0.55725054,  1.32531266,\n",
       "        1.48684665,  0.54801916,  1.74623428,  1.68803928,  0.59764048,\n",
       "        1.33201168,  0.99188826,  1.59740916,  0.62005243,  1.11375845,\n",
       "        1.22809802,  0.93882815,  0.73918478,  0.42306829,  1.7767019 ,\n",
       "        1.03626504,  0.81734668,  0.79765478,  0.6815895 ,  1.01802256,\n",
       "        0.75759031,  0.72494946,  0.40044335,  1.89140998,  1.03350023,\n",
       "        0.72215645,  2.12199837,  0.63838556,  1.43943325,  0.61612892,\n",
       "        1.22661981])"
      ]
     },
     "execution_count": 8,
     "metadata": {},
     "output_type": "execute_result"
    }
   ],
   "source": [
    "np.median(entmatrix, axis=1)"
   ]
  },
  {
   "cell_type": "code",
   "execution_count": 9,
   "metadata": {
    "collapsed": false
   },
   "outputs": [
    {
     "data": {
      "text/plain": [
       "array([ 1.52948682,  0.76382183,  1.34369378,  0.64585013,  1.36846239,\n",
       "        1.47602077,  0.55944965,  1.71424308,  1.67064439,  0.66070752,\n",
       "        1.32864143,  1.03548281,  1.61145135,  0.69581367,  1.10374381,\n",
       "        1.27821897,  0.92697189,  0.82200682,  0.55867472,  1.69244105,\n",
       "        1.14770356,  0.85430083,  0.82616628,  0.75140478,  1.04035952,\n",
       "        0.80484399,  0.79743348,  0.47426206,  1.83085643,  1.08071844,\n",
       "        0.80952272,  2.01183803,  0.70931223,  1.44642734,  0.72505869,\n",
       "        1.27363608])"
      ]
     },
     "execution_count": 9,
     "metadata": {},
     "output_type": "execute_result"
    }
   ],
   "source": [
    "np.mean(entmatrix, axis=1)"
   ]
  },
  {
   "cell_type": "code",
   "execution_count": 10,
   "metadata": {
    "collapsed": true
   },
   "outputs": [],
   "source": [
    "import matplotlib.pyplot as plt"
   ]
  },
  {
   "cell_type": "code",
   "execution_count": 11,
   "metadata": {
    "collapsed": false
   },
   "outputs": [
    {
     "data": {
      "image/png": "[encoded data removed]",
      "text/plain": [
       "<matplotlib.figure.Figure at 0x10ee1c5c0>"
      ]
     },
     "metadata": {},
     "output_type": "display_data"
    }
   ],
   "source": [
    "plt.clf()\n",
    "plt.hist(np.mean(entmatrix, axis=1))\n",
    "plt.show()"
   ]
  },
  {
   "cell_type": "code",
   "execution_count": null,
   "metadata": {
    "collapsed": true
   },
   "outputs": [],
   "source": []
  }
 ],
 "metadata": {
  "anaconda-cloud": {},
  "kernelspec": {
   "display_name": "Python [conda root]",
   "language": "python",
   "name": "conda-root-py"
  },
  "language_info": {
   "codemirror_mode": {
    "name": "ipython",
    "version": 3
   },
   "file_extension": ".py",
   "mimetype": "text/x-python",
   "name": "python",
   "nbconvert_exporter": "python",
   "pygments_lexer": "ipython3",
   "version": "3.5.2"
  }
 },
 "nbformat": 4,
 "nbformat_minor": 1
}
