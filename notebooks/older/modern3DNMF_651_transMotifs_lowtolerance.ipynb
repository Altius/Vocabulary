{
 "cells": [
  {
   "cell_type": "code",
   "execution_count": 1,
   "metadata": {
    "collapsed": true
   },
   "outputs": [],
   "source": [
    "import pandas as pd"
   ]
  },
  {
   "cell_type": "code",
   "execution_count": 2,
   "metadata": {
    "collapsed": true
   },
   "outputs": [],
   "source": [
    "import numpy as np"
   ]
  },
  {
   "cell_type": "code",
   "execution_count": 3,
   "metadata": {
    "collapsed": true
   },
   "outputs": [],
   "source": [
    "A = pd.read_csv('matrix_motif_vs_651cell_intensity_2017dec13.txt', sep='\\t')"
   ]
  },
  {
   "cell_type": "code",
   "execution_count": 4,
   "metadata": {
    "collapsed": false
   },
   "outputs": [
    {
     "data": {
      "text/plain": [
       "(5722, 652)"
      ]
     },
     "execution_count": 4,
     "metadata": {},
     "output_type": "execute_result"
    }
   ],
   "source": [
    "A.shape"
   ]
  },
  {
   "cell_type": "code",
   "execution_count": 5,
   "metadata": {
    "collapsed": false
   },
   "outputs": [
    {
     "data": {
      "text/html": [
       "<div>\n",
       "<style scoped>\n",
       "    .dataframe tbody tr th:only-of-type {\n",
       "        vertical-align: middle;\n",
       "    }\n",
       "\n",
       "    .dataframe tbody tr th {\n",
       "        vertical-align: top;\n",
       "    }\n",
       "\n",
       "    .dataframe thead th {\n",
       "        text-align: right;\n",
       "    }\n",
       "</style>\n",
       "<table border=\"1\" class=\"dataframe\">\n",
       "  <thead>\n",
       "    <tr style=\"text-align: right;\">\n",
       "      <th></th>\n",
       "      <th>motif</th>\n",
       "      <th>LN10000_DS18406_vHMEC</th>\n",
       "      <th>LN10007_DS18590_Skin_Melanocytes</th>\n",
       "      <th>LN10008_DS18692_Skin_Keratinocytes</th>\n",
       "      <th>LN10011_DS20753_Pancreas</th>\n",
       "      <th>LN10012_DS20827_Ovary</th>\n",
       "      <th>LN10036_DS15153_iPS_19_11</th>\n",
       "      <th>LN10039_DS20383_Heart</th>\n",
       "      <th>LN10043_DS21042_MSC</th>\n",
       "      <th>LN10048_DS20260_Stomach_Mucosa</th>\n",
       "      <th>...</th>\n",
       "      <th>LN4874_DS20647_LHCN_M2_D4</th>\n",
       "      <th>LN4879_DS20671_MSC</th>\n",
       "      <th>LN4899_DS20770_Small_Intestine_Mucosa</th>\n",
       "      <th>LN4901_DS20780_fBrain</th>\n",
       "      <th>LN4903_DS20789_fMuscle_back</th>\n",
       "      <th>LN4906_DS20797_fMuscle_leg</th>\n",
       "      <th>LN4930_DS20904_RPMI_7951</th>\n",
       "      <th>LN4936_DS20951_fKidney_R</th>\n",
       "      <th>LN4938_DS20956_fSpinal_cord</th>\n",
       "      <th>LN4998_DS21417_SKNDZ</th>\n",
       "    </tr>\n",
       "  </thead>\n",
       "  <tbody>\n",
       "    <tr>\n",
       "      <th>0</th>\n",
       "      <td>ALX3_homeodomain_1</td>\n",
       "      <td>-0.001493</td>\n",
       "      <td>-0.003118</td>\n",
       "      <td>0.001075</td>\n",
       "      <td>-0.005758</td>\n",
       "      <td>0.002414</td>\n",
       "      <td>-0.000351</td>\n",
       "      <td>0.007227</td>\n",
       "      <td>0.000301</td>\n",
       "      <td>0.01270</td>\n",
       "      <td>...</td>\n",
       "      <td>0.002692</td>\n",
       "      <td>-0.012730</td>\n",
       "      <td>0.003513</td>\n",
       "      <td>0.020222</td>\n",
       "      <td>-1.000000e-07</td>\n",
       "      <td>0.003349</td>\n",
       "      <td>-7.492200e-03</td>\n",
       "      <td>0.004036</td>\n",
       "      <td>0.008930</td>\n",
       "      <td>0.005975</td>\n",
       "    </tr>\n",
       "    <tr>\n",
       "      <th>1</th>\n",
       "      <td>ALX3_homeodomain_2</td>\n",
       "      <td>-0.000373</td>\n",
       "      <td>-0.002079</td>\n",
       "      <td>0.003226</td>\n",
       "      <td>-0.008637</td>\n",
       "      <td>-0.002414</td>\n",
       "      <td>0.000350</td>\n",
       "      <td>0.021681</td>\n",
       "      <td>0.000602</td>\n",
       "      <td>0.01016</td>\n",
       "      <td>...</td>\n",
       "      <td>0.005384</td>\n",
       "      <td>-0.012730</td>\n",
       "      <td>0.001952</td>\n",
       "      <td>0.011555</td>\n",
       "      <td>3.444000e-03</td>\n",
       "      <td>0.003349</td>\n",
       "      <td>-2.497400e-03</td>\n",
       "      <td>0.008073</td>\n",
       "      <td>0.008930</td>\n",
       "      <td>0.014937</td>\n",
       "    </tr>\n",
       "    <tr>\n",
       "      <th>2</th>\n",
       "      <td>ALX3_homeodomain_3</td>\n",
       "      <td>-0.004851</td>\n",
       "      <td>-0.006236</td>\n",
       "      <td>-0.002151</td>\n",
       "      <td>-0.014395</td>\n",
       "      <td>-0.002414</td>\n",
       "      <td>-0.016466</td>\n",
       "      <td>0.000000</td>\n",
       "      <td>-0.000602</td>\n",
       "      <td>-0.00254</td>\n",
       "      <td>...</td>\n",
       "      <td>0.002692</td>\n",
       "      <td>-0.006365</td>\n",
       "      <td>-0.001171</td>\n",
       "      <td>0.000000</td>\n",
       "      <td>-1.377640e-02</td>\n",
       "      <td>-0.016744</td>\n",
       "      <td>-9.989600e-03</td>\n",
       "      <td>-0.008073</td>\n",
       "      <td>-0.013396</td>\n",
       "      <td>0.029874</td>\n",
       "    </tr>\n",
       "    <tr>\n",
       "      <th>3</th>\n",
       "      <td>ALX4_EOMES_Homeo_Tbox_1</td>\n",
       "      <td>0.003358</td>\n",
       "      <td>0.005197</td>\n",
       "      <td>0.008065</td>\n",
       "      <td>-0.005758</td>\n",
       "      <td>0.007243</td>\n",
       "      <td>0.007357</td>\n",
       "      <td>0.010841</td>\n",
       "      <td>0.007223</td>\n",
       "      <td>0.02286</td>\n",
       "      <td>...</td>\n",
       "      <td>0.018845</td>\n",
       "      <td>-0.003182</td>\n",
       "      <td>0.003903</td>\n",
       "      <td>0.011555</td>\n",
       "      <td>1.722000e-02</td>\n",
       "      <td>0.010046</td>\n",
       "      <td>-1.000000e-07</td>\n",
       "      <td>0.004036</td>\n",
       "      <td>0.008930</td>\n",
       "      <td>0.011950</td>\n",
       "    </tr>\n",
       "    <tr>\n",
       "      <th>4</th>\n",
       "      <td>ALX4_TBX21_Homeo_Tbox_2</td>\n",
       "      <td>0.005971</td>\n",
       "      <td>0.007795</td>\n",
       "      <td>0.008064</td>\n",
       "      <td>0.002879</td>\n",
       "      <td>0.004829</td>\n",
       "      <td>0.011561</td>\n",
       "      <td>0.032522</td>\n",
       "      <td>0.004514</td>\n",
       "      <td>0.01524</td>\n",
       "      <td>...</td>\n",
       "      <td>0.024230</td>\n",
       "      <td>0.000000</td>\n",
       "      <td>0.007026</td>\n",
       "      <td>0.017333</td>\n",
       "      <td>6.888000e-03</td>\n",
       "      <td>0.013395</td>\n",
       "      <td>0.000000e+00</td>\n",
       "      <td>0.008073</td>\n",
       "      <td>0.000000</td>\n",
       "      <td>0.011950</td>\n",
       "    </tr>\n",
       "  </tbody>\n",
       "</table>\n",
       "<p>5 rows × 652 columns</p>\n",
       "</div>"
      ],
      "text/plain": [
       "                     motif  LN10000_DS18406_vHMEC  \\\n",
       "0       ALX3_homeodomain_1              -0.001493   \n",
       "1       ALX3_homeodomain_2              -0.000373   \n",
       "2       ALX3_homeodomain_3              -0.004851   \n",
       "3  ALX4_EOMES_Homeo_Tbox_1               0.003358   \n",
       "4  ALX4_TBX21_Homeo_Tbox_2               0.005971   \n",
       "\n",
       "   LN10007_DS18590_Skin_Melanocytes  LN10008_DS18692_Skin_Keratinocytes  \\\n",
       "0                         -0.003118                            0.001075   \n",
       "1                         -0.002079                            0.003226   \n",
       "2                         -0.006236                           -0.002151   \n",
       "3                          0.005197                            0.008065   \n",
       "4                          0.007795                            0.008064   \n",
       "\n",
       "   LN10011_DS20753_Pancreas  LN10012_DS20827_Ovary  LN10036_DS15153_iPS_19_11  \\\n",
       "0                 -0.005758               0.002414                  -0.000351   \n",
       "1                 -0.008637              -0.002414                   0.000350   \n",
       "2                 -0.014395              -0.002414                  -0.016466   \n",
       "3                 -0.005758               0.007243                   0.007357   \n",
       "4                  0.002879               0.004829                   0.011561   \n",
       "\n",
       "   LN10039_DS20383_Heart  LN10043_DS21042_MSC  LN10048_DS20260_Stomach_Mucosa  \\\n",
       "0               0.007227             0.000301                         0.01270   \n",
       "1               0.021681             0.000602                         0.01016   \n",
       "2               0.000000            -0.000602                        -0.00254   \n",
       "3               0.010841             0.007223                         0.02286   \n",
       "4               0.032522             0.004514                         0.01524   \n",
       "\n",
       "           ...           LN4874_DS20647_LHCN_M2_D4  LN4879_DS20671_MSC  \\\n",
       "0          ...                            0.002692           -0.012730   \n",
       "1          ...                            0.005384           -0.012730   \n",
       "2          ...                            0.002692           -0.006365   \n",
       "3          ...                            0.018845           -0.003182   \n",
       "4          ...                            0.024230            0.000000   \n",
       "\n",
       "   LN4899_DS20770_Small_Intestine_Mucosa  LN4901_DS20780_fBrain  \\\n",
       "0                               0.003513               0.020222   \n",
       "1                               0.001952               0.011555   \n",
       "2                              -0.001171               0.000000   \n",
       "3                               0.003903               0.011555   \n",
       "4                               0.007026               0.017333   \n",
       "\n",
       "   LN4903_DS20789_fMuscle_back  LN4906_DS20797_fMuscle_leg  \\\n",
       "0                -1.000000e-07                    0.003349   \n",
       "1                 3.444000e-03                    0.003349   \n",
       "2                -1.377640e-02                   -0.016744   \n",
       "3                 1.722000e-02                    0.010046   \n",
       "4                 6.888000e-03                    0.013395   \n",
       "\n",
       "   LN4930_DS20904_RPMI_7951  LN4936_DS20951_fKidney_R  \\\n",
       "0             -7.492200e-03                  0.004036   \n",
       "1             -2.497400e-03                  0.008073   \n",
       "2             -9.989600e-03                 -0.008073   \n",
       "3             -1.000000e-07                  0.004036   \n",
       "4              0.000000e+00                  0.008073   \n",
       "\n",
       "   LN4938_DS20956_fSpinal_cord  LN4998_DS21417_SKNDZ  \n",
       "0                     0.008930              0.005975  \n",
       "1                     0.008930              0.014937  \n",
       "2                    -0.013396              0.029874  \n",
       "3                     0.008930              0.011950  \n",
       "4                     0.000000              0.011950  \n",
       "\n",
       "[5 rows x 652 columns]"
      ]
     },
     "execution_count": 5,
     "metadata": {},
     "output_type": "execute_result"
    }
   ],
   "source": [
    "A.head()"
   ]
  },
  {
   "cell_type": "code",
   "execution_count": 6,
   "metadata": {
    "collapsed": true
   },
   "outputs": [],
   "source": [
    "motifnames = A.values[:,0]"
   ]
  },
  {
   "cell_type": "code",
   "execution_count": 7,
   "metadata": {
    "collapsed": true
   },
   "outputs": [],
   "source": [
    "motifXsample = A.values[:,1:]"
   ]
  },
  {
   "cell_type": "code",
   "execution_count": 8,
   "metadata": {
    "collapsed": false
   },
   "outputs": [],
   "source": [
    "Basis = np.load('2017-09-25NMF_Ncomps16Basis.npy')"
   ]
  },
  {
   "cell_type": "code",
   "execution_count": 9,
   "metadata": {
    "collapsed": false
   },
   "outputs": [
    {
     "data": {
      "text/plain": [
       "(651, 16)"
      ]
     },
     "execution_count": 9,
     "metadata": {},
     "output_type": "execute_result"
    }
   ],
   "source": [
    "Basis.shape"
   ]
  },
  {
   "cell_type": "code",
   "execution_count": 10,
   "metadata": {
    "collapsed": true
   },
   "outputs": [],
   "source": [
    "from datetime import date\n",
    "from sklearn.decomposition import NMF, non_negative_factorization\n",
    "\n",
    "today = str(date.today())\n"
   ]
  },
  {
   "cell_type": "code",
   "execution_count": 11,
   "metadata": {
    "collapsed": false
   },
   "outputs": [
    {
     "data": {
      "text/plain": [
       "(5722, 651)"
      ]
     },
     "execution_count": 11,
     "metadata": {},
     "output_type": "execute_result"
    }
   ],
   "source": [
    "motifXsample.shape"
   ]
  },
  {
   "cell_type": "markdown",
   "metadata": {},
   "source": [
    "# look at distribution of all motif means"
   ]
  },
  {
   "cell_type": "code",
   "execution_count": 12,
   "metadata": {
    "collapsed": false
   },
   "outputs": [
    {
     "data": {
      "text/plain": [
       "array([0.004665945792797411, 0.005689032462877622, -0.003758964669738866,\n",
       "       ..., 0.018768896159754238, 0.013001861290322575,\n",
       "       0.013662053370882417], dtype=object)"
      ]
     },
     "execution_count": 12,
     "metadata": {},
     "output_type": "execute_result"
    }
   ],
   "source": [
    "np.mean(motifXsample, axis=1)"
   ]
  },
  {
   "cell_type": "code",
   "execution_count": 13,
   "metadata": {
    "collapsed": true
   },
   "outputs": [],
   "source": [
    "import matplotlib.pyplot as plt"
   ]
  },
  {
   "cell_type": "code",
   "execution_count": 14,
   "metadata": {
    "collapsed": false
   },
   "outputs": [
    {
     "data": {
      "image/png": "[encoded data removed]",
      "text/plain": [
       "<matplotlib.figure.Figure at 0x128158588>"
      ]
     },
     "metadata": {},
     "output_type": "display_data"
    }
   ],
   "source": [
    "plt.clf()\n",
    "plt.hist(np.mean(motifXsample, axis=1), bins=20)\n",
    "plt.yscale('log')\n",
    "plt.show()"
   ]
  },
  {
   "cell_type": "code",
   "execution_count": 15,
   "metadata": {
    "collapsed": false
   },
   "outputs": [
    {
     "data": {
      "image/png": "[encoded data removed]",
      "text/plain": [
       "<matplotlib.figure.Figure at 0x12b6bb208>"
      ]
     },
     "metadata": {},
     "output_type": "display_data"
    }
   ],
   "source": [
    "plt.clf()\n",
    "plt.hist(np.max(motifXsample, axis=1), bins=20)\n",
    "plt.yscale('log')\n",
    "plt.show()"
   ]
  },
  {
   "cell_type": "code",
   "execution_count": 16,
   "metadata": {
    "collapsed": false
   },
   "outputs": [
    {
     "data": {
      "image/png": "[encoded data removed]",
      "text/plain": [
       "<matplotlib.figure.Figure at 0x12bd5bda0>"
      ]
     },
     "metadata": {},
     "output_type": "display_data"
    }
   ],
   "source": [
    "plt.clf()\n",
    "plt.hist(np.min(motifXsample, axis=1), bins=20)\n",
    "plt.yscale('log')\n",
    "plt.show()"
   ]
  },
  {
   "cell_type": "code",
   "execution_count": 17,
   "metadata": {
    "collapsed": false
   },
   "outputs": [
    {
     "data": {
      "text/plain": [
       "3725022"
      ]
     },
     "execution_count": 17,
     "metadata": {},
     "output_type": "execute_result"
    }
   ],
   "source": [
    "len(motifXsample.flatten())"
   ]
  },
  {
   "cell_type": "markdown",
   "metadata": {},
   "source": [
    "# set all < 0 to 0 (can change this to be mean as well opr something)"
   ]
  },
  {
   "cell_type": "code",
   "execution_count": 18,
   "metadata": {
    "collapsed": true
   },
   "outputs": [],
   "source": [
    "motifXsample[motifXsample<0] = 0"
   ]
  },
  {
   "cell_type": "code",
   "execution_count": null,
   "metadata": {
    "collapsed": true
   },
   "outputs": [],
   "source": []
  },
  {
   "cell_type": "code",
   "execution_count": 19,
   "metadata": {
    "collapsed": false
   },
   "outputs": [
    {
     "data": {
      "text/plain": [
       "array([[False, False, False, ..., False,  True, False],\n",
       "       [False, False, False, ...,  True,  True,  True],\n",
       "       [False, False, False, ..., False, False,  True],\n",
       "       ..., \n",
       "       [False, False, False, ...,  True, False,  True],\n",
       "       [False, False, False, ..., False, False, False],\n",
       "       [False, False, False, ..., False, False, False]], dtype=bool)"
      ]
     },
     "execution_count": 19,
     "metadata": {},
     "output_type": "execute_result"
    }
   ],
   "source": [
    "(motifXsample.T > np.mean(motifXsample, axis=1)).T"
   ]
  },
  {
   "cell_type": "code",
   "execution_count": 20,
   "metadata": {
    "collapsed": false
   },
   "outputs": [
    {
     "data": {
      "text/plain": [
       "1798936"
      ]
     },
     "execution_count": 20,
     "metadata": {},
     "output_type": "execute_result"
    }
   ],
   "source": [
    "len(motifXsample[(motifXsample.T > np.median(motifXsample, axis=1)).T])"
   ]
  },
  {
   "cell_type": "code",
   "execution_count": 21,
   "metadata": {
    "collapsed": false
   },
   "outputs": [
    {
     "data": {
      "text/plain": [
       "array([0, 0, 0, ..., 0.010075399999999998, 0.0074633, 0.008209600000000001], dtype=object)"
      ]
     },
     "execution_count": 21,
     "metadata": {},
     "output_type": "execute_result"
    }
   ],
   "source": [
    "motifXsample[:,0]"
   ]
  },
  {
   "cell_type": "code",
   "execution_count": 22,
   "metadata": {
    "collapsed": false
   },
   "outputs": [
    {
     "data": {
      "text/plain": [
       "2899140"
      ]
     },
     "execution_count": 22,
     "metadata": {},
     "output_type": "execute_result"
    }
   ],
   "source": [
    "len(motifXsample.flatten()[motifXsample.flatten()>0])"
   ]
  },
  {
   "cell_type": "markdown",
   "metadata": {},
   "source": [
    "### this is how I would get the sparser version\n"
   ]
  },
  {
   "cell_type": "code",
   "execution_count": 23,
   "metadata": {
    "collapsed": true
   },
   "outputs": [],
   "source": [
    "def make_stacked_bar_plot(Ncomps, Nrelevant, BarMatrix, bargraph_out, names = [], plotClusterMode=False, barsortorder=[], clusterTopLabels=[], colormode='newSasha'):\n",
    "    if len(barsortorder)<1:\n",
    "        barsortorder = np.arange(Nrelevant)\n",
    "        print('inventing barsortorder')\n",
    "    if len(names) < 1:\n",
    "        print('inventing names')\n",
    "        names = [str(i) for i in range(Nrelevant)]\n",
    "        names = np.array(names)\n",
    "    ttt = np.arange(Nrelevant)\n",
    "    start = 0\n",
    "    end = Nrelevant\n",
    "    ground_pSample = ttt*0\n",
    "    Comp_colors = define_colorsA(Ncomps, mode=colormode)\n",
    "    plt.clf()\n",
    "    plt.figure(figsize=(150,40))\n",
    "    plt.bar(ttt[start:end], BarMatrix[0,start:end][barsortorder], color=Comp_colors[0],\n",
    "             bottom=ground_pSample[start:end], alpha=0.75)\n",
    "    ground_pSample = BarMatrix[0,start:end][barsortorder]\n",
    "    for i in range(1,Ncomps):\n",
    "        plt.bar(ttt[start:end],BarMatrix[i,start:end][barsortorder], bottom = ground_pSample, color=Comp_colors[i], alpha=0.75)\n",
    "        ground_pSample = np.sum(BarMatrix[0: i+1,start:end], axis=0)[barsortorder]\n",
    "    increase_axis_fontsize()\n",
    "    plt.ylabel('sum of signal in matrix',fontsize=70)\n",
    "    #plt.title('Full Sample',fontsize=70)\n",
    "    samplenamesize = 11\n",
    "    samplenamesize = (1/Nrelevant)**0.5 * 300\n",
    "    #thebottom = 0.15\n",
    "    thebottom = min([(1/Nrelevant)**0.3 * 1.2, 0.3])\n",
    "    if(plotClusterMode):\n",
    "        plt.xticks(ttt, ttt.astype(str), rotation='vertical', fontsize=samplenamesize)\n",
    "        if len(clusterTopLabels) > 0:\n",
    "            ax = plt.gca()\n",
    "            ax2 = ax.twiny()\n",
    "            ax2.set_xticks(ttt)\n",
    "            ax2.set_xticklabels(clusterTopLabels.astype(str), rotation=90, fontsize=samplenamesize)\n",
    "            #ax.xaxis.tick_top()\n",
    "            #plt.xticks(ttt, clusterTopLabels.astype(str), rotation='vertical', fontsize=samplenamesize)\n",
    "    else:\n",
    "        plt.xticks(ttt, names[barsortorder], rotation='vertical', fontsize=samplenamesize)\t\n",
    "    plot_margin = 5\n",
    "    plt.subplots_adjust(left=0.1, right=0.9, top=0.9, bottom=thebottom)\n",
    "    plt.savefig(bargraph_out)\n",
    "    plt.close()\t\n",
    "    \n",
    "\n",
    "\n",
    "def define_colorsA(Ncomps, mode='newSasha'):\n",
    "    if (mode=='newSasha'):\n",
    "        Comp_colors = ['#A6CEE3','#1f78b4','#b2df8a','#33a02c','#fb9a99', '#e31a1c', '#fdbf6f', '#ff7f00', '#cab2d6', '#6a3d9a', '#ffff99', '#b15928', '#ffd700', '#AAAAAA', '#C52892', '#00bbbb']\n",
    "    elif (mode=='Sasha'):\n",
    "        Comp_colors = ['red', 'tan', 'lime','blue','m','k','c', 'coral', 'indigo','darkgreen','orange','grey','gold', 'lightskyblue', 'peru', 'olive']\n",
    "    else:\n",
    "        Comp_colors = [\"#A6CEE3\", \"#438EC0\", \"#63A8A0\", \"#98D277\", \"#3BA432\", \"#B89B74\", \"#F16667\", \"#E62F27\", \"#F9A963\", \"#FE982C\", \"#ED8F47\", \"#C3AAD2\", \"#7D54A5\",\"#B9A499\", \"#EAD27A\" ,\"#B15928\"]\n",
    "        #wouter colors\n",
    "    if (Ncomps>16):\n",
    "        np.random.seed(666)\n",
    "        from matplotlib import colors as mcolors\n",
    "        colornames = list(mcolors.CSS4_COLORS.keys())\n",
    "        count = 16\n",
    "        while (count < Ncomps):\n",
    "            newcolor = colornames[np.random.randint(0,len(colornames))]\n",
    "            trialcount = 0\n",
    "            while ((newcolor in Comp_colors) and (trialcount < 100)):\n",
    "                newcolor = colornames[np.random.randint(0,len(colornames))]\n",
    "                trialcount+=1\n",
    "            Comp_colors.append(newcolor)\n",
    "            count+=1\n",
    "    return Comp_colors"
   ]
  },
  {
   "cell_type": "code",
   "execution_count": 24,
   "metadata": {
    "collapsed": false
   },
   "outputs": [
    {
     "name": "stderr",
     "output_type": "stream",
     "text": [
      "/Users/amuratov/anaconda/lib/python3.5/site-packages/matplotlib/__init__.py:1405: UserWarning: \n",
      "This call to matplotlib.use() has no effect because the backend has already\n",
      "been chosen; matplotlib.use() must be called *before* pylab, matplotlib.pyplot,\n",
      "or matplotlib.backends is imported for the first time.\n",
      "\n",
      "  warnings.warn(_use_error_msg)\n"
     ]
    }
   ],
   "source": [
    "from OONMFhelpers import *"
   ]
  },
  {
   "cell_type": "markdown",
   "metadata": {
    "collapsed": true
   },
   "source": [
    "# Now lets do the version with mean subtracted out"
   ]
  },
  {
   "cell_type": "code",
   "execution_count": 25,
   "metadata": {
    "collapsed": true
   },
   "outputs": [],
   "source": [
    "motifXsample_slim = motifXsample * (motifXsample.T > np.mean(motifXsample, axis=1)).T"
   ]
  },
  {
   "cell_type": "code",
   "execution_count": 26,
   "metadata": {
    "collapsed": false
   },
   "outputs": [
    {
     "name": "stdout",
     "output_type": "stream",
     "text": [
      "violation: 1.0\n",
      "violation: 0.36286356033860856\n",
      "violation: 0.03319727092883445\n",
      "violation: 0.010307142455030529\n",
      "violation: 0.00248367772659381\n",
      "violation: 0.0005424078688980233\n",
      "violation: 0.00012182406060251945\n",
      "violation: 3.236116089462675e-05\n",
      "violation: 8.429626838274053e-06\n",
      "violation: 2.178900480375103e-06\n",
      "violation: 5.898153509531914e-07\n",
      "violation: 1.7042875009390908e-07\n",
      "violation: 5.1055536246634555e-08\n",
      "Converged at iteration 13\n"
     ]
    }
   ],
   "source": [
    "W, H, n_iter = non_negative_factorization(motifXsample_slim, n_components=16, init='custom', random_state=1, update_H=False, H=Basis.T, tol=1e-7, verbose=1)\n"
   ]
  },
  {
   "cell_type": "code",
   "execution_count": 29,
   "metadata": {
    "collapsed": true
   },
   "outputs": [],
   "source": [
    "Wnormed = (W.T / np.sum(W, axis=1)).T"
   ]
  },
  {
   "cell_type": "code",
   "execution_count": 39,
   "metadata": {
    "collapsed": false
   },
   "outputs": [
    {
     "name": "stdout",
     "output_type": "stream",
     "text": [
      "inventing barsortorder\n",
      "inventing barsortorder\n",
      "inventing barsortorder\n",
      "inventing barsortorder\n",
      "inventing barsortorder\n",
      "inventing barsortorder\n",
      "inventing barsortorder\n",
      "inventing barsortorder\n",
      "inventing barsortorder\n",
      "inventing barsortorder\n",
      "inventing barsortorder\n",
      "inventing barsortorder\n",
      "inventing barsortorder\n",
      "inventing barsortorder\n",
      "inventing barsortorder\n",
      "inventing barsortorder\n",
      "inventing barsortorder\n",
      "inventing barsortorder\n",
      "inventing barsortorder\n",
      "inventing barsortorder\n",
      "inventing barsortorder\n",
      "inventing barsortorder\n",
      "inventing barsortorder\n",
      "inventing barsortorder\n",
      "inventing barsortorder\n",
      "inventing barsortorder\n",
      "inventing barsortorder\n",
      "inventing barsortorder\n",
      "inventing barsortorder\n",
      "inventing barsortorder\n",
      "inventing barsortorder\n",
      "inventing barsortorder\n",
      "inventing barsortorder\n",
      "inventing barsortorder\n",
      "inventing barsortorder\n",
      "inventing barsortorder\n",
      "inventing barsortorder\n",
      "inventing barsortorder\n",
      "inventing barsortorder\n",
      "inventing barsortorder\n",
      "inventing barsortorder\n",
      "inventing barsortorder\n",
      "inventing barsortorder\n",
      "inventing barsortorder\n",
      "inventing barsortorder\n",
      "inventing barsortorder\n",
      "inventing barsortorder\n",
      "inventing barsortorder\n",
      "inventing barsortorder\n",
      "inventing barsortorder\n",
      "inventing barsortorder\n",
      "inventing barsortorder\n",
      "inventing barsortorder\n",
      "inventing barsortorder\n",
      "inventing barsortorder\n",
      "inventing barsortorder\n",
      "inventing barsortorder\n",
      "doing last  22\n",
      "inventing barsortorder\n"
     ]
    }
   ],
   "source": [
    "for i in range (58):\n",
    "    nrelevant = 100\n",
    "    if ((i+1)*100 > len(Wnormed)):\n",
    "        nrelevant =  len(Wnormed) - i*100\n",
    "        print('doing last ',nrelevant)\n",
    "    make_stacked_bar_plot(16, nrelevant, Wnormed[i*100:(i+1)*100].T, 'Slim_strata'+str(i+1)+'Motifs.pdf', names = motifnames[i*100:(i+1)*100])"
   ]
  },
  {
   "cell_type": "code",
   "execution_count": 28,
   "metadata": {
    "collapsed": true
   },
   "outputs": [],
   "source": [
    "today=get_today()"
   ]
  },
  {
   "cell_type": "code",
   "execution_count": 33,
   "metadata": {
    "collapsed": true
   },
   "outputs": [],
   "source": [
    "np.save(today+'MotifXComponents_slim_tol7.npy', W)"
   ]
  },
  {
   "cell_type": "code",
   "execution_count": 32,
   "metadata": {
    "collapsed": true
   },
   "outputs": [],
   "source": [
    "np.save(today+'MotifXComponentsNormed_slim_tol7.npy', Wnormed)"
   ]
  },
  {
   "cell_type": "code",
   "execution_count": null,
   "metadata": {
    "collapsed": true
   },
   "outputs": [],
   "source": []
  }
 ],
 "metadata": {
  "anaconda-cloud": {},
  "kernelspec": {
   "display_name": "Python [conda root]",
   "language": "python",
   "name": "conda-root-py"
  },
  "language_info": {
   "codemirror_mode": {
    "name": "ipython",
    "version": 3
   },
   "file_extension": ".py",
   "mimetype": "text/x-python",
   "name": "python",
   "nbconvert_exporter": "python",
   "pygments_lexer": "ipython3",
   "version": "3.5.2"
  }
 },
 "nbformat": 4,
 "nbformat_minor": 1
}
