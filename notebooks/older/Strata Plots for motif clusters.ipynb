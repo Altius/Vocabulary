{
 "cells": [
  {
   "cell_type": "code",
   "execution_count": 2,
   "metadata": {
    "collapsed": true
   },
   "outputs": [],
   "source": [
    "import numpy as np\n",
    "import matplotlib.pyplot as plt\n",
    "import pandas as pd"
   ]
  },
  {
   "cell_type": "code",
   "execution_count": 3,
   "metadata": {
    "collapsed": false
   },
   "outputs": [
    {
     "name": "stderr",
     "output_type": "stream",
     "text": [
      "/Users/amuratov/anaconda/lib/python3.5/site-packages/matplotlib/__init__.py:1405: UserWarning: \n",
      "This call to matplotlib.use() has no effect because the backend has already\n",
      "been chosen; matplotlib.use() must be called *before* pylab, matplotlib.pyplot,\n",
      "or matplotlib.backends is imported for the first time.\n",
      "\n",
      "  warnings.warn(_use_error_msg)\n"
     ]
    }
   ],
   "source": [
    "from OONMFhelpers import * \n",
    "def make_stacked_bar_plot(Ncomps, Nrelevant, BarMatrix, bargraph_out, names = [], plotClusterMode=False, barsortorder=[], clusterTopLabels=[], colormode='newSasha'):\n",
    "    if len(barsortorder)<1:\n",
    "        barsortorder = np.arange(Nrelevant)\n",
    "        print('inventing barsortorder')\n",
    "    if len(names) < 1:\n",
    "        print('inventing names')\n",
    "        names = [str(i) for i in range(Nrelevant)]\n",
    "        names = np.array(names)\n",
    "    ttt = np.arange(Nrelevant)\n",
    "    start = 0\n",
    "    end = Nrelevant\n",
    "    ground_pSample = ttt*0\n",
    "    Comp_colors = define_colorsA(Ncomps, mode=colormode)\n",
    "    plt.clf()\n",
    "    plt.figure(figsize=(150,40))\n",
    "    plt.bar(ttt[start:end], BarMatrix[0,start:end][barsortorder], color=Comp_colors[0],\n",
    "             bottom=ground_pSample[start:end], alpha=0.75)\n",
    "    ground_pSample = BarMatrix[0,start:end][barsortorder]\n",
    "    for i in range(1,Ncomps):\n",
    "        plt.bar(ttt[start:end],BarMatrix[i,start:end][barsortorder], bottom = ground_pSample, color=Comp_colors[i], alpha=0.75)\n",
    "        ground_pSample = np.sum(BarMatrix[0: i+1,start:end], axis=0)[barsortorder]\n",
    "    increase_axis_fontsize()\n",
    "    plt.ylabel('sum of signal in matrix',fontsize=70)\n",
    "    #plt.title('Full Sample',fontsize=70)\n",
    "    samplenamesize = 11\n",
    "    samplenamesize = (1/Nrelevant)**0.5 * 300\n",
    "    #thebottom = 0.15\n",
    "    thebottom = min([(1/Nrelevant)**0.3 * 1.2, 0.3])\n",
    "    if(plotClusterMode):\n",
    "        plt.xticks(ttt, ttt.astype(str), rotation='vertical', fontsize=samplenamesize)\n",
    "        if len(clusterTopLabels) > 0:\n",
    "            ax = plt.gca()\n",
    "            ax2 = ax.twiny()\n",
    "            ax2.set_xticks(ttt)\n",
    "            ax2.set_xticklabels(clusterTopLabels.astype(str), rotation=90, fontsize=samplenamesize)\n",
    "            #ax.xaxis.tick_top()\n",
    "            #plt.xticks(ttt, clusterTopLabels.astype(str), rotation='vertical', fontsize=samplenamesize)\n",
    "    else:\n",
    "        plt.xticks(ttt, names[barsortorder], rotation='vertical', fontsize=samplenamesize)\t\n",
    "    plot_margin = 5\n",
    "    plt.subplots_adjust(left=0.1, right=0.9, top=0.9, bottom=thebottom)\n",
    "    plt.savefig(bargraph_out)\n",
    "    plt.close()\t\n",
    "    \n",
    "\n",
    "\n",
    "def define_colorsA(Ncomps, mode='newSasha'):\n",
    "    if (mode=='newSasha'):\n",
    "        Comp_colors = ['#A6CEE3','#1f78b4','#b2df8a','#33a02c','#fb9a99', '#e31a1c', '#fdbf6f', '#ff7f00', '#cab2d6', '#6a3d9a', '#ffff99', '#b15928', '#ffd700', '#AAAAAA', '#C52892', '#00bbbb']\n",
    "    elif (mode=='Sasha'):\n",
    "        Comp_colors = ['red', 'tan', 'lime','blue','m','k','c', 'coral', 'indigo','darkgreen','orange','grey','gold', 'lightskyblue', 'peru', 'olive']\n",
    "    else:\n",
    "        Comp_colors = [\"#A6CEE3\", \"#438EC0\", \"#63A8A0\", \"#98D277\", \"#3BA432\", \"#B89B74\", \"#F16667\", \"#E62F27\", \"#F9A963\", \"#FE982C\", \"#ED8F47\", \"#C3AAD2\", \"#7D54A5\",\"#B9A499\", \"#EAD27A\" ,\"#B15928\"]\n",
    "        #wouter colors\n",
    "    if (Ncomps>16):\n",
    "        np.random.seed(666)\n",
    "        from matplotlib import colors as mcolors\n",
    "        colornames = list(mcolors.CSS4_COLORS.keys())\n",
    "        count = 16\n",
    "        while (count < Ncomps):\n",
    "            newcolor = colornames[np.random.randint(0,len(colornames))]\n",
    "            trialcount = 0\n",
    "            while ((newcolor in Comp_colors) and (trialcount < 100)):\n",
    "                newcolor = colornames[np.random.randint(0,len(colornames))]\n",
    "                trialcount+=1\n",
    "            Comp_colors.append(newcolor)\n",
    "            count+=1\n",
    "    return Comp_colors"
   ]
  },
  {
   "cell_type": "code",
   "execution_count": 4,
   "metadata": {
    "collapsed": true
   },
   "outputs": [],
   "source": [
    "finname = '2018-01-16MotifClusterXComponentscisLT0ran3.npy'\n",
    "CisMotifs = np.load(finname)\n"
   ]
  },
  {
   "cell_type": "code",
   "execution_count": 5,
   "metadata": {
    "collapsed": false
   },
   "outputs": [
    {
     "data": {
      "text/plain": [
       "(806, 16)"
      ]
     },
     "execution_count": 5,
     "metadata": {},
     "output_type": "execute_result"
    }
   ],
   "source": [
    "CisMotifs.shape"
   ]
  },
  {
   "cell_type": "code",
   "execution_count": 6,
   "metadata": {
    "collapsed": false
   },
   "outputs": [
    {
     "name": "stderr",
     "output_type": "stream",
     "text": [
      "/Users/amuratov/anaconda/lib/python3.5/site-packages/ipykernel/__main__.py:1: RuntimeWarning: invalid value encountered in true_divide\n",
      "  if __name__ == '__main__':\n"
     ]
    }
   ],
   "source": [
    "CisMotifsNormed = (CisMotifs.T / np.sum(CisMotifs.T, axis=0)).T"
   ]
  },
  {
   "cell_type": "code",
   "execution_count": 7,
   "metadata": {
    "collapsed": false
   },
   "outputs": [
    {
     "data": {
      "text/plain": [
       "array([ 0.00976371,  0.07461115,  0.        ,  0.        ,  0.0379822 ,\n",
       "        0.        ,  0.02008884,  0.08235183,  0.00361873,  0.        ,\n",
       "        0.0863214 ,  0.12896705,  0.00121469,  0.29088445,  0.03335443,\n",
       "        0.2308415 ])"
      ]
     },
     "execution_count": 7,
     "metadata": {},
     "output_type": "execute_result"
    }
   ],
   "source": [
    "CisMotifsNormed[0]"
   ]
  },
  {
   "cell_type": "code",
   "execution_count": 8,
   "metadata": {
    "collapsed": false
   },
   "outputs": [
    {
     "data": {
      "text/plain": [
       "1.0"
      ]
     },
     "execution_count": 8,
     "metadata": {},
     "output_type": "execute_result"
    }
   ],
   "source": [
    "sum(CisMotifsNormed[0])"
   ]
  },
  {
   "cell_type": "code",
   "execution_count": 12,
   "metadata": {
    "collapsed": false
   },
   "outputs": [],
   "source": [
    "f = open('clusters_FIMO.1e-5.masterList.651samples.FDR0.0010.hg38.txt')\n",
    "header = f.readline().strip().split('\\t')\n",
    "Motif_names = header[4:]\n",
    "#Trans_motif_names = pd.read_csv('matrix_motif_vs_651cell_intensity_2017dec15.txt', sep='\\t').values[:,0]\n"
   ]
  },
  {
   "cell_type": "code",
   "execution_count": 13,
   "metadata": {
    "collapsed": false
   },
   "outputs": [
    {
     "data": {
      "text/plain": [
       "806"
      ]
     },
     "execution_count": 13,
     "metadata": {},
     "output_type": "execute_result"
    }
   ],
   "source": [
    "len(Motif_names)"
   ]
  },
  {
   "cell_type": "code",
   "execution_count": 15,
   "metadata": {
    "collapsed": true
   },
   "outputs": [],
   "source": [
    "Motif_names = np.array(Motif_names)"
   ]
  },
  {
   "cell_type": "code",
   "execution_count": 10,
   "metadata": {
    "collapsed": true
   },
   "outputs": [],
   "source": [
    "today= get_today()"
   ]
  },
  {
   "cell_type": "code",
   "execution_count": 16,
   "metadata": {
    "collapsed": false
   },
   "outputs": [
    {
     "name": "stdout",
     "output_type": "stream",
     "text": [
      "inventing barsortorder\n",
      "inventing barsortorder\n",
      "inventing barsortorder\n",
      "inventing barsortorder\n",
      "inventing barsortorder\n",
      "inventing barsortorder\n",
      "inventing barsortorder\n",
      "inventing barsortorder\n",
      "inventing barsortorder\n",
      "inventing barsortorder\n",
      "inventing barsortorder\n",
      "inventing barsortorder\n",
      "inventing barsortorder\n",
      "inventing barsortorder\n",
      "inventing barsortorder\n",
      "inventing barsortorder\n",
      "inventing barsortorder\n",
      "inventing barsortorder\n",
      "inventing barsortorder\n",
      "inventing barsortorder\n",
      "inventing barsortorder\n",
      "inventing barsortorder\n",
      "inventing barsortorder\n",
      "inventing barsortorder\n",
      "inventing barsortorder\n",
      "inventing barsortorder\n",
      "doing last  26\n",
      "inventing barsortorder\n"
     ]
    }
   ],
   "source": [
    "for i in range (27):\n",
    "    nrelevant = 30\n",
    "    if ((i+1)*30 > len(CisMotifsNormed)):\n",
    "        nrelevant =  len(CisMotifsNormed) - i*30\n",
    "        print('doing last ',nrelevant)\n",
    "    make_stacked_bar_plot(16, nrelevant, CisMotifsNormed[i*30:(i+1)*30].T, today+'stripped_strataLT0'+str(i+1)+'MotifClusters.pdf', names = Motif_names[i*30:(i+1)*30])"
   ]
  },
  {
   "cell_type": "code",
   "execution_count": 27,
   "metadata": {
    "collapsed": false
   },
   "outputs": [],
   "source": [
    "pd.DataFrame(CisMotifs, index=Motif_names, columns=(['C' + str(i+1) for i in range(16)])).to_csv('2018-01-16MotifClusterXComponentscisLT0ran3.csv', sep='\\t')"
   ]
  },
  {
   "cell_type": "code",
   "execution_count": null,
   "metadata": {
    "collapsed": true
   },
   "outputs": [],
   "source": []
  }
 ],
 "metadata": {
  "anaconda-cloud": {},
  "kernelspec": {
   "display_name": "Python [conda root]",
   "language": "python",
   "name": "conda-root-py"
  },
  "language_info": {
   "codemirror_mode": {
    "name": "ipython",
    "version": 3
   },
   "file_extension": ".py",
   "mimetype": "text/x-python",
   "name": "python",
   "nbconvert_exporter": "python",
   "pygments_lexer": "ipython3",
   "version": "3.5.2"
  }
 },
 "nbformat": 4,
 "nbformat_minor": 1
}
