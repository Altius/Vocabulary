{
 "cells": [
  {
   "cell_type": "markdown",
   "metadata": {},
   "source": [
    "# Demonstrating the embedding of new biosamples into the coordinate space.\n",
    "Based on 733 sample x 3.5+ million DHS presence/absence matrix"
   ]
  },
  {
   "cell_type": "markdown",
   "metadata": {},
   "source": [
    "# 1. Import libraries & load datasets"
   ]
  },
  {
   "cell_type": "code",
   "execution_count": 1,
   "metadata": {},
   "outputs": [
    {
     "name": "stdout",
     "output_type": "stream",
     "text": [
      "3.6.4\n"
     ]
    }
   ],
   "source": [
    "from platform import python_version\n",
    "print(python_version())"
   ]
  },
  {
   "cell_type": "code",
   "execution_count": 2,
   "metadata": {},
   "outputs": [],
   "source": [
    "import sys\n",
    "import numpy as np\n",
    "import pandas as pd\n",
    "import gzip\n",
    "import matplotlib.pyplot as plt\n",
    "from sklearn.decomposition import NMF, non_negative_factorization"
   ]
  },
  {
   "cell_type": "code",
   "execution_count": 3,
   "metadata": {},
   "outputs": [],
   "source": [
    "sys.path.append('..')\n",
    "import OONMFhelpers\n",
    "import OONMF"
   ]
  },
  {
   "cell_type": "markdown",
   "metadata": {},
   "source": [
    "#### Fetch the 733-biosample presence/absence Index\n",
    "This will take at least a few minutes.\n",
    "These data can be obtained from here: https://drive.google.com/open?id=1Nel7wWOWhWn40Yv7eaQFwvpMcQHBNtJ2"
   ]
  },
  {
   "cell_type": "code",
   "execution_count": 4,
   "metadata": {},
   "outputs": [
    {
     "data": {
      "text/plain": [
       "(733, 3591898)"
      ]
     },
     "execution_count": 4,
     "metadata": {},
     "output_type": "execute_result"
    }
   ],
   "source": [
    "A = pd.read_table('../data/dat_bin_FDR01_hg38.txt.gz', header=None).T\n",
    "A.shape"
   ]
  },
  {
   "cell_type": "markdown",
   "metadata": {},
   "source": [
    "#### Fetch the pancreatic (new) data, mapped to the 733-biosample Index\n",
    "This is done using an external scripts (see `../scripts/get_new_data.sh`) that calls `bedmap` to determine whether hotspot2 0.1% FDR variable-width peak calls for the new-to-be-added datasets overlap the 3.5M+ DHS Index elements.\n",
    "It then pastes these results together to form a 3591898 x N matrix, where N is the number of new-to-be-added datasets."
   ]
  },
  {
   "cell_type": "code",
   "execution_count": 5,
   "metadata": {},
   "outputs": [
    {
     "data": {
      "text/plain": [
       "(13, 3591898)"
      ]
     },
     "execution_count": 5,
     "metadata": {},
     "output_type": "execute_result"
    }
   ],
   "source": [
    "dat_panc = pd.read_table('../data/dat_pancreatic.txt.gz', header=None).T\n",
    "dat_panc.shape"
   ]
  },
  {
   "cell_type": "markdown",
   "metadata": {},
   "source": [
    "#### Combine the two datasets"
   ]
  },
  {
   "cell_type": "code",
   "execution_count": 6,
   "metadata": {},
   "outputs": [
    {
     "data": {
      "text/plain": [
       "(746, 3591898)"
      ]
     },
     "execution_count": 6,
     "metadata": {},
     "output_type": "execute_result"
    }
   ],
   "source": [
    "A_panc = np.concatenate([A, dat_panc])\n",
    "A_panc.shape"
   ]
  },
  {
   "cell_type": "markdown",
   "metadata": {},
   "source": [
    "#### Load in NMF decomposition based on 733 biosamples"
   ]
  },
  {
   "cell_type": "code",
   "execution_count": 7,
   "metadata": {},
   "outputs": [
    {
     "data": {
      "text/plain": [
       "(16, 3591898)"
      ]
     },
     "execution_count": 7,
     "metadata": {},
     "output_type": "execute_result"
    }
   ],
   "source": [
    "B = np.load(gzip.GzipFile('../data/2018-06-08NC16_NNDSVD_Mixture.npy.gz', \"r\"))\n",
    "B.shape"
   ]
  },
  {
   "cell_type": "markdown",
   "metadata": {},
   "source": [
    "# 2. Solve the model for a fixed matrix H\n",
    "H represents the DHS-wise decomposition of the original 733 biosamples)"
   ]
  },
  {
   "cell_type": "code",
   "execution_count": 8,
   "metadata": {},
   "outputs": [
    {
     "name": "stdout",
     "output_type": "stream",
     "text": [
      "violation: 1.0\n",
      "violation: 0.4929621744510417\n",
      "violation: 0.1853323330745837\n",
      "violation: 0.08331321927403668\n",
      "violation: 0.043617396007525136\n",
      "violation: 0.025852198932186866\n",
      "violation: 0.016842854453874376\n",
      "violation: 0.011298137150839724\n",
      "violation: 0.008033248578312117\n",
      "violation: 0.005779695162327012\n",
      "violation: 0.004171513997047539\n",
      "violation: 0.0030354465412899888\n",
      "violation: 0.0021863463495587158\n",
      "violation: 0.0015979261519840889\n",
      "violation: 0.0011930990429652511\n",
      "violation: 0.0008902162131922194\n",
      "violation: 0.0006741234513121173\n",
      "violation: 0.000516968860628029\n",
      "violation: 0.0004006243327516972\n",
      "violation: 0.0003120934212809746\n",
      "violation: 0.0002445470343324248\n",
      "violation: 0.0001899730978228717\n",
      "violation: 0.0001464879477680397\n",
      "violation: 0.00011381632473706886\n",
      "violation: 8.892023343986581e-05\n",
      "Converged at iteration 25\n"
     ]
    }
   ],
   "source": [
    "W, H, n_iter = non_negative_factorization(A_panc, n_components=16, init='custom', random_state=3, update_H=False, H=B, verbose=1)"
   ]
  },
  {
   "cell_type": "markdown",
   "metadata": {},
   "source": [
    "#### Save the results to disk for later use"
   ]
  },
  {
   "cell_type": "code",
   "execution_count": 9,
   "metadata": {},
   "outputs": [],
   "source": [
    "f = gzip.GzipFile('../data/2018-11-09PancSpecialNC16seed20.npy.gz', \"w\")\n",
    "np.save(f, W)\n",
    "f.close()"
   ]
  }
 ],
 "metadata": {
  "kernelspec": {
   "display_name": "Python 3",
   "language": "python",
   "name": "python3"
  },
  "language_info": {
   "codemirror_mode": {
    "name": "ipython",
    "version": 3
   },
   "file_extension": ".py",
   "mimetype": "text/x-python",
   "name": "python",
   "nbconvert_exporter": "python",
   "pygments_lexer": "ipython3",
   "version": "3.6.4"
  }
 },
 "nbformat": 4,
 "nbformat_minor": 4
}
