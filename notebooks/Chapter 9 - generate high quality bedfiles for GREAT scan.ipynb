{
 "cells": [
  {
   "cell_type": "markdown",
   "metadata": {},
   "source": [
    "# Save bedfiles needed for GREAT scan\n",
    "\n",
    "The design of our last GREAT runs was as follows:\n",
    "select all G2 and G1 DHSs that meet a particular mean signal threshold (0.5). All of these DHSs become the backghround set. This decision was made to ensure that the background would be less than 1,000,000 DHSs, for that is the upper limit for GREAT. \n",
    "\n",
    "The foreground runs we do are as follows  \n",
    "Every $G2_{i,j}$ for $i,j = 1..16$ excluding cases where $i=j$(240 foreground variants)\n",
    "and Every $G1_i$  for $i = 1..16$ (16 foreground variants)\n",
    "\n",
    "The background is the large canvas background every time.\n",
    "\n",
    "This notebook generates the files, but then you must still run GREAT. This is done in technical notebook 6-18-19 run the GREAT they hate G2 and 6-18-19 run the GREAT they hate G1\n",
    "\n"
   ]
  },
  {
   "cell_type": "code",
   "execution_count": 1,
   "metadata": {},
   "outputs": [],
   "source": [
    "import numpy as np\n",
    "import pandas as pd"
   ]
  },
  {
   "cell_type": "code",
   "execution_count": 2,
   "metadata": {},
   "outputs": [],
   "source": [
    "ML = pd.read_table('masterlist_DHSs_733samples_WM20180608_all_indexIDs.txt', header=None, names=['chr', 'start', 'end', 'id', 'ML4', 'ML5', 'ML6', 'ML7', 'ML8', 'ML9', 'ML10'], dtype = str)\n"
   ]
  },
  {
   "cell_type": "markdown",
   "metadata": {},
   "source": [
    "# trick is that GREAT only uses hg19. We address that here by selecting only hg19 DHSs"
   ]
  },
  {
   "cell_type": "code",
   "execution_count": 5,
   "metadata": {},
   "outputs": [],
   "source": [
    "hg19ML =  pd.read_table('DHS_Index_hg19.bed', header=None, names=['chr', 'start', 'end', 'id'], dtype=str)"
   ]
  },
  {
   "cell_type": "code",
   "execution_count": 6,
   "metadata": {},
   "outputs": [],
   "source": [
    "ML = ML.merge(hg19ML, how='left',on='id',suffixes=('','_hg19'))"
   ]
  },
  {
   "cell_type": "code",
   "execution_count": 7,
   "metadata": {},
   "outputs": [],
   "source": [
    "ML['mean_signal'] = ML.ML4.values.astype(float)/ML.ML5.values.astype(float)"
   ]
  },
  {
   "cell_type": "code",
   "execution_count": 8,
   "metadata": {},
   "outputs": [],
   "source": [
    "signalcut = ML['mean_signal'] > 0.5"
   ]
  },
  {
   "cell_type": "code",
   "execution_count": 9,
   "metadata": {},
   "outputs": [
    {
     "data": {
      "text/plain": [
       "1485913"
      ]
     },
     "execution_count": 9,
     "metadata": {},
     "output_type": "execute_result"
    }
   ],
   "source": [
    "len(signalcut[signalcut])"
   ]
  },
  {
   "cell_type": "markdown",
   "metadata": {},
   "source": [
    "### pre-loaded  cuts for G1 and G2"
   ]
  },
  {
   "cell_type": "code",
   "execution_count": 10,
   "metadata": {},
   "outputs": [],
   "source": [
    "G1cut = np.load('G1cut.npy')"
   ]
  },
  {
   "cell_type": "code",
   "execution_count": 11,
   "metadata": {},
   "outputs": [],
   "source": [
    "G2cut = np.load('G2cut.npy')"
   ]
  },
  {
   "cell_type": "code",
   "execution_count": 12,
   "metadata": {},
   "outputs": [
    {
     "data": {
      "text/plain": [
       "653214"
      ]
     },
     "execution_count": 12,
     "metadata": {},
     "output_type": "execute_result"
    }
   ],
   "source": [
    "len(G1cut[G1cut*signalcut.values])"
   ]
  },
  {
   "cell_type": "code",
   "execution_count": 13,
   "metadata": {},
   "outputs": [
    {
     "data": {
      "text/plain": [
       "197514"
      ]
     },
     "execution_count": 13,
     "metadata": {},
     "output_type": "execute_result"
    }
   ],
   "source": [
    "len(G2cut[G2cut*signalcut.values])"
   ]
  },
  {
   "cell_type": "code",
   "execution_count": 14,
   "metadata": {},
   "outputs": [],
   "source": [
    "Mixture = np.load('2018-06-08NC16_NNDSVD_Mixture.npy')\n",
    "NormedMixture = Mixture/np.sum(Mixture,axis=0)"
   ]
  },
  {
   "cell_type": "markdown",
   "metadata": {},
   "source": [
    "### still need to calculate every DHSs primary and secondary components"
   ]
  },
  {
   "cell_type": "code",
   "execution_count": 15,
   "metadata": {},
   "outputs": [],
   "source": [
    "maxcolor = np.argsort(NormedMixture, axis=0)[-1]\n",
    "maxcolor_vals = np.sort(NormedMixture, axis=0)[-1]\n",
    "secondmaxcolor = np.argsort(NormedMixture, axis=0)[-2]\n",
    "secondmaxcolor_vals = np.sort(NormedMixture, axis=0)[-2]"
   ]
  },
  {
   "cell_type": "code",
   "execution_count": 16,
   "metadata": {},
   "outputs": [],
   "source": [
    "inhg19 = ~pd.isna(ML['start_hg19'])"
   ]
  },
  {
   "cell_type": "markdown",
   "metadata": {},
   "source": [
    "# Pretty simple from here. Just paste all DHS indices into bed file as long as they have the right components and are in hg19\n"
   ]
  },
  {
   "cell_type": "code",
   "execution_count": null,
   "metadata": {},
   "outputs": [],
   "source": [
    "for i in range(16):\n",
    "    \n",
    "    cut = maxcolor==i\n",
    "    print(i, len(cut[(G1cut & inhg19 & signalcut).values * cut]))\n",
    "    ML[(G1cut & inhg19 & signalcut).values * cut][['chr_hg19','start_hg19','end_hg19']].to_csv('60619_C'+str(i+1)+'G1_HQ_gr8_FG.bed', header=False, index=False, sep='\\t')\n",
    "    "
   ]
  },
  {
   "cell_type": "code",
   "execution_count": null,
   "metadata": {},
   "outputs": [],
   "source": [
    "for i in range(16):\n",
    "    \n",
    "    cut = maxcolor==i\n",
    "    for j in range(16):\n",
    "        if i == j:\n",
    "            continue\n",
    "        jcut = secondmaxcolor == j\n",
    "        \n",
    "        print(i, j, len(cut[(G2cut & inhg19 & signalcut).values * cut * jcut]))\n",
    "        ML[(G2cut & inhg19 & signalcut).values * cut * jcut][['chr_hg19','start_hg19','end_hg19']].to_csv('61819_C'+str(i+1)+'C'+str(j+1)+'G2_HQ_gr8_FG.bed', header=False, index=False, sep='\\t')"
   ]
  },
  {
   "cell_type": "markdown",
   "metadata": {},
   "source": [
    "# the background can now be created by concatenating all these fiels together"
   ]
  },
  {
   "cell_type": "code",
   "execution_count": null,
   "metadata": {},
   "outputs": [],
   "source": []
  }
 ],
 "metadata": {
  "kernelspec": {
   "display_name": "Python 3",
   "language": "python",
   "name": "python3"
  },
  "language_info": {
   "codemirror_mode": {
    "name": "ipython",
    "version": 3
   },
   "file_extension": ".py",
   "mimetype": "text/x-python",
   "name": "python",
   "nbconvert_exporter": "python",
   "pygments_lexer": "ipython3",
   "version": "3.6.8"
  }
 },
 "nbformat": 4,
 "nbformat_minor": 2
}
