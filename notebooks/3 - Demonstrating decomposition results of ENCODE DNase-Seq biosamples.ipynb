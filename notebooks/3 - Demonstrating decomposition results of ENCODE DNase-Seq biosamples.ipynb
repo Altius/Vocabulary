{
 "cells": [
  {
   "cell_type": "markdown",
   "metadata": {},
   "source": [
    "# Demonstrating decomposition results of ENCODE DNase-Seq biosamples\n",
    "Based on 733 sample x 3.5+ million DHS presence/absence matrix"
   ]
  },
  {
   "cell_type": "markdown",
   "metadata": {},
   "source": [
    "# 1. Import libraries & load datasets"
   ]
  },
  {
   "cell_type": "code",
   "execution_count": 1,
   "metadata": {},
   "outputs": [
    {
     "name": "stdout",
     "output_type": "stream",
     "text": [
      "3.6.4\n"
     ]
    }
   ],
   "source": [
    "from platform import python_version\n",
    "print(python_version())"
   ]
  },
  {
   "cell_type": "code",
   "execution_count": 2,
   "metadata": {},
   "outputs": [],
   "source": [
    "import sys\n",
    "import numpy as np\n",
    "import pandas as pd\n",
    "import gzip\n",
    "import matplotlib.pyplot as plt\n",
    "from sklearn.decomposition import NMF, non_negative_factorization"
   ]
  },
  {
   "cell_type": "code",
   "execution_count": 3,
   "metadata": {},
   "outputs": [],
   "source": [
    "sys.path.append('..')\n",
    "import OONMFhelpers\n",
    "import OONMF"
   ]
  },
  {
   "cell_type": "markdown",
   "metadata": {},
   "source": [
    "#### Fetch the 733-biosample presence/absence Index\n",
    "This will take at least a few minutes.\n",
    "These data can be obtained from here: https://drive.google.com/open?id=1Nel7wWOWhWn40Yv7eaQFwvpMcQHBNtJ2"
   ]
  },
  {
   "cell_type": "code",
   "execution_count": 4,
   "metadata": {},
   "outputs": [
    {
     "data": {
      "text/plain": [
       "(733, 3591898)"
      ]
     },
     "execution_count": 4,
     "metadata": {},
     "output_type": "execute_result"
    }
   ],
   "source": [
    "A = pd.read_table('../data/dat_bin_FDR01_hg38.txt.gz', header=None).T\n",
    "A.shape"
   ]
  },
  {
   "cell_type": "markdown",
   "metadata": {},
   "source": [
    "# 2. Perform the decomposition using NMF"
   ]
  },
  {
   "cell_type": "markdown",
   "metadata": {},
   "source": [
    "#### Number of desired components (k) and a random seed"
   ]
  },
  {
   "cell_type": "code",
   "execution_count": 5,
   "metadata": {},
   "outputs": [],
   "source": [
    "Nc = 16\n",
    "seed = 20 # (not very important for NNDSVD)"
   ]
  },
  {
   "cell_type": "markdown",
   "metadata": {},
   "source": [
    "#### Perform NMF with NNDSVD. Requires lots of memory and quite a bit of time\n",
    "(apologies for the lack of quantification here, YMMV)"
   ]
  },
  {
   "cell_type": "code",
   "execution_count": 6,
   "metadata": {},
   "outputs": [
    {
     "name": "stdout",
     "output_type": "stream",
     "text": [
      "starting NMF at  20200414_15:36:15\n",
      "done with NMF at  20200414_15:47:06\n",
      "returning reconstruction error\n"
     ]
    },
    {
     "data": {
      "text/plain": [
       "5768.089728887742"
      ]
     },
     "execution_count": 6,
     "metadata": {},
     "output_type": "execute_result"
    }
   ],
   "source": [
    "a = OONMF.NMFobject(theNcomps=Nc)\n",
    "a.performNMF(data=A, randomseed=seed, theinit='nndsvd')"
   ]
  },
  {
   "cell_type": "markdown",
   "metadata": {},
   "source": [
    "#### Write the output to disk"
   ]
  },
  {
   "cell_type": "code",
   "execution_count": 7,
   "metadata": {},
   "outputs": [],
   "source": [
    "a.writeNMF(Basis_foutname= '../data/2018-06-08NC16_NNDSVD_Basis.npy', Mixture_foutname='../data/2018-06-08NC16_NNDSVD_Mixture.npy')\n",
    "#a.writeNMF_CSV(Basis_foutname= '../data/2018-06-08NC16_NNDSVD_Basis.tsv', Mixture_foutname='../data/2018-06-08NC16_NNDSVD_Mixture.tsv')"
   ]
  }
 ],
 "metadata": {
  "kernelspec": {
   "display_name": "Python 3",
   "language": "python",
   "name": "python3"
  },
  "language_info": {
   "codemirror_mode": {
    "name": "ipython",
    "version": 3
   },
   "file_extension": ".py",
   "mimetype": "text/x-python",
   "name": "python",
   "nbconvert_exporter": "python",
   "pygments_lexer": "ipython3",
   "version": "3.6.4"
  }
 },
 "nbformat": 4,
 "nbformat_minor": 4
}
