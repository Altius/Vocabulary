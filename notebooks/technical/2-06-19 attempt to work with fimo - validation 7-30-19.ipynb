{
 "cells": [
  {
   "cell_type": "code",
   "execution_count": 1,
   "metadata": {},
   "outputs": [],
   "source": [
    "import numpy as np\n",
    "import pandas as pd"
   ]
  },
  {
   "cell_type": "code",
   "execution_count": 2,
   "metadata": {},
   "outputs": [],
   "source": [
    "finname_fimo = 'matrix_classic_FIMO_1e-5_masterlist_DHSs_733samples_WM20180608_all_overlapping.hg38.txt'"
   ]
  },
  {
   "cell_type": "markdown",
   "metadata": {},
   "source": [
    "it is probably possible to do this in batches... may be necessary if this fails "
   ]
  },
  {
   "cell_type": "code",
   "execution_count": 3,
   "metadata": {},
   "outputs": [
    {
     "name": "stderr",
     "output_type": "stream",
     "text": [
      "/home/amuratov/.local/lib/python3.5/site-packages/ipykernel_launcher.py:1: FutureWarning: read_table is deprecated, use read_csv instead, passing sep='\\t'.\n",
      "  \"\"\"Entry point for launching an IPython kernel.\n"
     ]
    }
   ],
   "source": [
    "FIMO = pd.read_table(finname_fimo)"
   ]
  },
  {
   "cell_type": "code",
   "execution_count": 4,
   "metadata": {},
   "outputs": [
    {
     "data": {
      "text/plain": [
       "(3591898, 2089)"
      ]
     },
     "execution_count": 4,
     "metadata": {},
     "output_type": "execute_result"
    }
   ],
   "source": [
    "FIMO.shape"
   ]
  },
  {
   "cell_type": "code",
   "execution_count": 5,
   "metadata": {},
   "outputs": [],
   "source": [
    "FIMOcolnames = FIMO.columns.values"
   ]
  },
  {
   "cell_type": "code",
   "execution_count": 7,
   "metadata": {},
   "outputs": [
    {
     "data": {
      "text/plain": [
       "2089"
      ]
     },
     "execution_count": 7,
     "metadata": {},
     "output_type": "execute_result"
    }
   ],
   "source": [
    "len(FIMOcolnames)"
   ]
  },
  {
   "cell_type": "code",
   "execution_count": 8,
   "metadata": {},
   "outputs": [
    {
     "data": {
      "text/plain": [
       "array(['#chrom', 'min0', 'max1', 'TOTAL', 'Alx1.mouse_homeodomain_1',\n",
       "       'Alx1.mouse_homeodomain_2', 'Alx3_3418.2', 'ALX3_homeodomain_1',\n",
       "       'ALX3_homeodomain_2', 'ALX3_homeodomain_3', 'Alx4_1744.1',\n",
       "       'ALX4_homeodomain_1', 'Alx4.mouse_homeodomain_1', 'Arid3a_primary',\n",
       "       'Arid3a_secondary', 'Arid5a_primary', 'Arid5a_secondary',\n",
       "       'Ar.mouse_nuclearreceptor_1', 'ARNTL_bHLH_1',\n",
       "       'AR_nuclearreceptor_1'], dtype=object)"
      ]
     },
     "execution_count": 8,
     "metadata": {},
     "output_type": "execute_result"
    }
   ],
   "source": [
    "FIMOcolnames[0:20]"
   ]
  },
  {
   "cell_type": "markdown",
   "metadata": {},
   "source": []
  },
  {
   "cell_type": "markdown",
   "metadata": {},
   "source": [
    "took about 20 min to read\n",
    "\n",
    "#### 2089 coloumns in the FIMO scan matrix, but the first 4 are not motif clusters. So 2085 total notifs in the FIMO matrix"
   ]
  },
  {
   "cell_type": "code",
   "execution_count": 9,
   "metadata": {},
   "outputs": [
    {
     "name": "stderr",
     "output_type": "stream",
     "text": [
      "/home/amuratov/.local/lib/python3.5/site-packages/ipykernel_launcher.py:2: FutureWarning: read_table is deprecated, use read_csv instead, passing sep='\\t'.\n",
      "  \n"
     ]
    }
   ],
   "source": [
    "cluster_lookup_name = 'clusters.long.txt'\n",
    "clustDF = pd.read_table(cluster_lookup_name, names=['clust_name', 'motif_name', 'sign', 'number'])\n",
    "clustnames_ar = clustDF.clust_name.value_counts().index.values\n"
   ]
  },
  {
   "cell_type": "code",
   "execution_count": 10,
   "metadata": {},
   "outputs": [
    {
     "data": {
      "text/plain": [
       "283"
      ]
     },
     "execution_count": 10,
     "metadata": {},
     "output_type": "execute_result"
    }
   ],
   "source": [
    "len(clustnames_ar)"
   ]
  },
  {
   "cell_type": "code",
   "execution_count": 11,
   "metadata": {},
   "outputs": [
    {
     "data": {
      "text/plain": [
       "(2316, 4)"
      ]
     },
     "execution_count": 11,
     "metadata": {},
     "output_type": "execute_result"
    }
   ],
   "source": [
    "clustDF.shape"
   ]
  },
  {
   "cell_type": "markdown",
   "metadata": {},
   "source": [
    "#### 2316 motifs listed in the cluster names file"
   ]
  },
  {
   "cell_type": "code",
   "execution_count": 13,
   "metadata": {},
   "outputs": [
    {
     "data": {
      "text/plain": [
       "array(['#chrom', 'min0', 'max1', ..., 'ZSCAN4_C2H2_1', 'Zscan4_primary',\n",
       "       'Zscan4_secondary'], dtype='<U29')"
      ]
     },
     "execution_count": 13,
     "metadata": {},
     "output_type": "execute_result"
    }
   ],
   "source": [
    "FIMOcolnames.astype(str)"
   ]
  },
  {
   "cell_type": "markdown",
   "metadata": {},
   "source": [
    "## In order to match things up, we need to capitalize the names of the FIMO columns"
   ]
  },
  {
   "cell_type": "code",
   "execution_count": 29,
   "metadata": {},
   "outputs": [],
   "source": [
    "def uppercaser(list_of_strings):\n",
    "    newlist = []\n",
    "    for item in list_of_strings:\n",
    "        newlist.append(item.upper())\n",
    "    return np.array(newlist)\n"
   ]
  },
  {
   "cell_type": "code",
   "execution_count": 33,
   "metadata": {},
   "outputs": [],
   "source": [
    "FIMO_UP_colnames_ar = uppercaser(FIMOcolnames.astype(str).tolist())"
   ]
  },
  {
   "cell_type": "code",
   "execution_count": 70,
   "metadata": {},
   "outputs": [
    {
     "data": {
      "text/plain": [
       "array(['#CHROM', 'MIN0', 'MAX1', 'TOTAL', 'ALX1.MOUSE_HOMEODOMAIN_1',\n",
       "       'ALX1.MOUSE_HOMEODOMAIN_2', 'ALX3_3418.2', 'ALX3_HOMEODOMAIN_1',\n",
       "       'ALX3_HOMEODOMAIN_2', 'ALX3_HOMEODOMAIN_3', 'ALX4_1744.1',\n",
       "       'ALX4_HOMEODOMAIN_1', 'ALX4.MOUSE_HOMEODOMAIN_1', 'ARID3A_PRIMARY',\n",
       "       'ARID3A_SECONDARY', 'ARID5A_PRIMARY', 'ARID5A_SECONDARY',\n",
       "       'AR.MOUSE_NUCLEARRECEPTOR_1', 'ARNTL_BHLH_1',\n",
       "       'AR_NUCLEARRECEPTOR_1'], dtype='<U29')"
      ]
     },
     "execution_count": 70,
     "metadata": {},
     "output_type": "execute_result"
    }
   ],
   "source": [
    "FIMO_UP_colnames_ar[0:20]"
   ]
  },
  {
   "cell_type": "code",
   "execution_count": null,
   "metadata": {},
   "outputs": [],
   "source": []
  },
  {
   "cell_type": "code",
   "execution_count": 67,
   "metadata": {},
   "outputs": [
    {
     "name": "stdout",
     "output_type": "stream",
     "text": [
      "doing  c278-HD/5\n",
      "doing  c25-ETS\n",
      "doing  c75-Forkhead\n",
      "doing  c265-HD/2\n",
      "doing  c90-MYC/MAX\n",
      "doing  c269-HD/3\n",
      "doing  c64.ESRRA/2\n",
      "doing  c39-SOX\n",
      "doing  c85-NR/2\n",
      "doing  c68-CREB/ATF\n",
      "doing  c112-Ebox\n",
      "doing  c91-T-box\n",
      "doing  c184-E2F/2\n",
      "doing  c49-CCAAT/CEBP\n",
      "doing  c113-MEIS\n",
      "doing  c136-EGR/KLF/Sp1\n",
      "doing  c36-NKX\n",
      "doing  c203-AP-2/2\n",
      "doing  c84-NR\n",
      "doing  c66-AP-1\n",
      "doing  c18-POU\n",
      "doing  c57-SOX/3\n",
      "doing  c283-HD/6\n",
      "doing  c29-STAT\n",
      "doing  c82-GR\n",
      "doing  c116-GLI\n",
      "doing  c134-NF-kB\n",
      "doing  c93-MAF\n",
      "doing  c80-GATA/2\n",
      "doing  c274-HNF1/POU\n",
      "doing  c56-SOX/2\n",
      "doing  c107-POU/2\n",
      "doing  c188-RUNX/AML\n",
      "doing  c145-IRF\n",
      "doing  c117-GLI/2\n",
      "doing  c137-Sp1\n",
      "doing  c272-SOX/5\n",
      "doing  c42.CUX1\n",
      "doing  c121-SIX\n",
      "doing  c62.ESRRA\n",
      "doing  c70.MEF2A/2\n",
      "doing  c101.IRX2\n",
      "doing  c59-GATA\n",
      "doing  c151-ZNF\n",
      "doing  c28-NFAT\n",
      "doing  c222-CTF/NF-I\n",
      "doing  c55.SRF\n",
      "doing  c31-TCF/LEF\n",
      "doing  c65-NEURO/OLIG\n",
      "doing  c40.YY1\n",
      "doing  c109-Ebox/CACCTG\n",
      "doing  c162.TP53/2\n",
      "doing  c207-RFX/3\n",
      "doing  c275.LEF1\n",
      "doing  c205-RFX\n",
      "doing  c198.HSF1\n",
      "doing  c157-IRF/2\n",
      "doing  c51.MYBL1/2\n",
      "doing  c208.PAX5/2\n",
      "doing  c270-HD/4\n",
      "doing  c37.MYB\n",
      "doing  c100-NKX/2\n",
      "doing  c78.ARID5A\n",
      "doing  c158-IRF/3\n",
      "doing  c61.ESR1\n",
      "doing  c72-SOX/4\n",
      "doing  c47.RXRA::VDR\n",
      "doing  c46.EVI1\n",
      "doing  c170.FOXA2\n",
      "doing  c202-AP-2\n",
      "doing  c226-NRSF\n",
      "doing  c81.POU2F2\n",
      "doing  c180-TEAD/TEF\n",
      "doing  c279.HDX\n",
      "doing  c135-KLF/Sp4\n",
      "doing  c173.DMRT1\n",
      "doing  c193.ASCL2\n",
      "doing  c45.FOXG1\n",
      "doing  c277.LHX6\n",
      "doing  c153.GLIS2\n",
      "doing  c216.RHOX11\n",
      "doing  c26.HINFP1\n",
      "doing  c251-CTCF_Core/2\n",
      "doing  c209.PAX2\n",
      "doing  c174.GCM1/2\n",
      "doing  c125.SFPI1\n",
      "doing  c118.TBP/2\n",
      "doing  c183.ARNT::AHR\n",
      "doing  c22.GRHL1\n",
      "doing  c254-KAISO/Zic\n",
      "doing  c34.NFYA\n",
      "doing  c190.ELF3\n",
      "doing  c220-E2F/3\n",
      "doing  c213.RUNX2\n",
      "doing  c115.MZF1_1\n",
      "doing  c239.HIC1/2\n",
      "doing  c241.MTF1/2\n",
      "doing  c17.POU5F1\n",
      "doing  c187.PAX4/4\n",
      "doing  c149.FOXO1\n",
      "doing  c133.HELIOSA\n",
      "doing  c110-Ebox/CACCTn\n",
      "doing  c179.EBF1\n",
      "doing  c252.HAND1::TCFE2A\n",
      "doing  c276.BBX/2\n",
      "doing  c281.SOX14\n",
      "doing  c83.NR2E1\n",
      "doing  c48-GMEB\n",
      "doing  c19.BCL6B\n",
      "doing  c114.FOXB1\n",
      "doing  c54.HLTF\n",
      "doing  c166.RBPJK\n",
      "doing  c224.GM397/2\n",
      "doing  c102.IRX2/2\n",
      "doing  c128.ARID3A\n",
      "doing  c41.HOMEZ\n",
      "doing  c159.TCFCP2L1\n",
      "doing  c186.SREBP1\n",
      "doing  c206-RFX/2\n",
      "doing  c143-E2F\n",
      "doing  c23.SPDEF\n",
      "doing  c95.CPEB1\n",
      "doing  c201.BDP1\n",
      "doing  c282.CUTL1\n",
      "doing  c280-GATA3\n",
      "doing  c258.IRF4\n",
      "doing  c89.NRF1\n",
      "doing  c177-Zic\n",
      "doing  c197.HSFY2\n",
      "doing  c238.HIC1\n",
      "doing  c181-TEAD/TEF/2\n",
      "doing  c131.EGR1\n",
      "doing  c223.FPM315\n",
      "doing  c171.MAFB\n",
      "doing  c273-NKX/3\n",
      "doing  c221.GCM1/3\n",
      "doing  c230.RREB1\n",
      "doing  c44.GM397\n",
      "doing  c79.SIRT6\n",
      "doing  c97.ZFP410\n",
      "doing  c99.FOXC1\n",
      "doing  c242.SMAD3/2\n",
      "doing  c215.BEN\n",
      "doing  c111-SCRT1/2\n",
      "doing  c53.AP2REP\n",
      "doing  c219.ZFX\n",
      "doing  c178.ZFP423\n",
      "doing  c218.CNOT3\n",
      "doing  c120.SPZ1\n",
      "doing  c234.SPDEF/3\n",
      "doing  c106.MAFK/2\n",
      "doing  c168.GABPA\n",
      "doing  c248.DDIT3::CEBPA\n",
      "doing  c200.ZNF524\n",
      "doing  c144.AREB6\n",
      "doing  c123.OSR1\n",
      "doing  c108.EN1\n",
      "doing  c104.FOXL1\n",
      "doing  c140-KLF4\n",
      "doing  c227.BRCA1\n",
      "doing  c148.IK\n",
      "doing  c35.TITF1\n",
      "doing  c154.SOX17\n",
      "doing  c156-ZFP691\n",
      "doing  c160.CP2\n",
      "doing  c50.MYBL1\n",
      "doing  c271.OSR1/2\n",
      "doing  c147.STAF/2\n",
      "doing  c69.TBP\n",
      "doing  c129.PAX6\n",
      "doing  c211-CREB/ATF/2\n",
      "doing  c155.ARID5A/2\n",
      "doing  c189.POU3F3\n",
      "doing  c4.PAX5\n",
      "doing  c161.SMAD3\n",
      "doing  c175.CENPB\n",
      "doing  c176.PRDM4\n",
      "doing  c132.GCM1\n",
      "doing  c267.HMGA2\n",
      "doing  c7.HNF1\n",
      "doing  c21.PAX1\n",
      "doing  c92.AR\n",
      "doing  c204.NFATC1/2\n",
      "doing  c225.PUR1\n",
      "doing  c191.ISGF3G\n",
      "doing  c260.ZFP161\n",
      "doing  c141.ZFP187\n",
      "doing  c3.PR\n",
      "doing  c182.WHN\n",
      "doing  c232.ZEC\n",
      "doing  c122.LUN1\n",
      "doing  c52.AIRE\n",
      "doing  c16-CTCF_Core\n",
      "doing  c138-CTCF_Upstream\n",
      "doing  c8.PAX4/2\n",
      "doing  c257.ZBED6\n",
      "doing  c88.MEIS2\n",
      "doing  c94.HOXA13\n",
      "doing  c192.MYF6\n",
      "doing  c15.STAF\n",
      "doing  c32.GATA4\n",
      "doing  c195.SP100/2\n",
      "doing  c169.RXRA\n",
      "doing  c103.PLZF\n",
      "doing  c150.SP3\n",
      "doing  c243.PAX5/3\n",
      "doing  c263.DEAF1/2\n",
      "doing  c165.ZNF282\n",
      "doing  c86.HNF4A\n",
      "doing  c126.IRC900814\n",
      "doing  c2.RORA1\n",
      "doing  c30.ZABC1\n",
      "doing  c20.MYOGNF1\n",
      "doing  c246.EWSR1\n",
      "doing  c229.AML2\n",
      "doing  c164.ZID\n",
      "doing  c259.ZBED1\n",
      "doing  c167.PAX4/3\n",
      "doing  c24.HTF\n",
      "doing  c212.ZBTB49\n",
      "doing  c1.P53\n",
      "doing  c105.FOXP1\n",
      "doing  c163.ZNF713\n",
      "doing  c152.AIRE/2\n",
      "doing  c139.FOXP3\n",
      "doing  c27.NFATC1\n",
      "doing  c250.MTERF\n",
      "doing  c253.SMAD\n",
      "doing  c12-CTCF_UpstreamP1\n",
      "doing  c214.INSM1\n",
      "doing  c5.PAX4\n",
      "doing  c58.GMEB2\n",
      "doing  c96.TFIIA\n",
      "doing  c231.GR/2\n",
      "doing  c60.ALX4\n",
      "doing  c67.PROX1\n",
      "doing  c76.CDC5\n",
      "doing  c249.ZBTB3\n",
      "doing  c264.ZNF143\n",
      "doing  c233.NR2E3\n",
      "doing  c268.ZNF232\n",
      "doing  c196.ZBTB12\n",
      "doing  c237.CIZ\n",
      "doing  c11-HD\n",
      "doing  c199.ZBTB12/2\n",
      "doing  c261.GZF1\n",
      "doing  c14.MEF2A\n",
      "doing  c194.GMEB1\n",
      "doing  c98.ZNF784\n",
      "doing  c247.ATF5\n",
      "doing  c124.PPARG\n",
      "doing  c130.LTF\n",
      "doing  c210.PAX3\n",
      "doing  c240.MTF1\n",
      "doing  c235.IRC900814/2\n",
      "doing  c9.DEAF1\n",
      "doing  c244.FOXM1\n",
      "doing  c266.TRF1\n",
      "doing  c77.SRY\n",
      "doing  c185.ZF5\n",
      "doing  c256.ZNF306\n",
      "doing  c262.OCT1\n",
      "doing  c63.LFA1\n",
      "doing  c127.SP100\n",
      "doing  c33.HOXA7\n",
      "doing  c172.BBX\n",
      "doing  c71.MAFK\n",
      "doing  c245.AP3\n",
      "doing  c217.STAT5A\n",
      "doing  c142.SPDEF/2\n",
      "doing  c43.MRF2\n",
      "doing  c38.TBX21\n",
      "doing  c236.CEBPGAMMA\n",
      "doing  c87.TP53\n",
      "doing  c13.MEF2\n",
      "doing  c6.COMP1\n",
      "doing  c73.CDPCR3\n",
      "doing  c74.ZNF435\n",
      "doing  c119.CDX\n",
      "doing  c228.RFX/4\n",
      "doing  c146.ZBRK1\n",
      "doing  c255.BRACH\n",
      "doing  c10.COUPTF\n"
     ]
    }
   ],
   "source": [
    "cluster_table = []\n",
    "total_match_list = []\n",
    "for cluster in clustnames_ar:\n",
    "    print('doing ',cluster)\n",
    "    relevantcols_cut = clustDF.clust_name.values == cluster\n",
    "    relevant_cols = clustDF.motif_name.values[relevantcols_cut]\n",
    "    relevant_cols_match = np.intersect1d(relevant_cols, FIMO_UP_colnames_ar)\n",
    "    which_FIMOs_are_in_this_cluster = np.in1d(FIMO_UP_colnames_ar, relevant_cols_match)\n",
    "    total_match_list += FIMO_UP_colnames_ar[which_FIMOs_are_in_this_cluster].tolist()\n",
    "    cluster_table.append(FIMO[FIMO.columns[which_FIMOs_are_in_this_cluster]].sum(axis=1).values)"
   ]
  },
  {
   "cell_type": "markdown",
   "metadata": {},
   "source": [
    "### verify that all the FIMO column names matched, and they all matched uniquely"
   ]
  },
  {
   "cell_type": "code",
   "execution_count": 68,
   "metadata": {},
   "outputs": [
    {
     "data": {
      "text/plain": [
       "2085"
      ]
     },
     "execution_count": 68,
     "metadata": {},
     "output_type": "execute_result"
    }
   ],
   "source": [
    "len(total_match_list)"
   ]
  },
  {
   "cell_type": "code",
   "execution_count": 69,
   "metadata": {},
   "outputs": [
    {
     "data": {
      "text/plain": [
       "2085"
      ]
     },
     "execution_count": 69,
     "metadata": {},
     "output_type": "execute_result"
    }
   ],
   "source": [
    "len(list(set(total_match_list)))"
   ]
  },
  {
   "cell_type": "markdown",
   "metadata": {},
   "source": [
    "# Now to save our results"
   ]
  },
  {
   "cell_type": "code",
   "execution_count": 9,
   "metadata": {},
   "outputs": [],
   "source": [
    "cluster_table = np.array(cluster_table)"
   ]
  },
  {
   "cell_type": "code",
   "execution_count": 15,
   "metadata": {},
   "outputs": [],
   "source": [
    "cluster_tableDF = pd.DataFrame(cluster_table.T, columns=clustnames_ar, dtype=int)"
   ]
  },
  {
   "cell_type": "code",
   "execution_count": 16,
   "metadata": {},
   "outputs": [
    {
     "data": {
      "text/plain": [
       "(3591898, 283)"
      ]
     },
     "execution_count": 16,
     "metadata": {},
     "output_type": "execute_result"
    }
   ],
   "source": [
    "cluster_tableDF.shape"
   ]
  },
  {
   "cell_type": "code",
   "execution_count": 17,
   "metadata": {},
   "outputs": [
    {
     "data": {
      "text/html": [
       "<div>\n",
       "<table border=\"1\" class=\"dataframe\">\n",
       "  <thead>\n",
       "    <tr style=\"text-align: right;\">\n",
       "      <th></th>\n",
       "      <th>c278-HD/5</th>\n",
       "      <th>c25-ETS</th>\n",
       "      <th>c75-Forkhead</th>\n",
       "      <th>c265-HD/2</th>\n",
       "      <th>c90-MYC/MAX</th>\n",
       "      <th>c269-HD/3</th>\n",
       "      <th>c64.ESRRA/2</th>\n",
       "      <th>c39-SOX</th>\n",
       "      <th>c85-NR/2</th>\n",
       "      <th>c68-CREB/ATF</th>\n",
       "      <th>...</th>\n",
       "      <th>c167.PAX4/3</th>\n",
       "      <th>c161.SMAD3</th>\n",
       "      <th>c225.PUR1</th>\n",
       "      <th>c105.FOXP1</th>\n",
       "      <th>c245.AP3</th>\n",
       "      <th>c263.DEAF1/2</th>\n",
       "      <th>c152.AIRE/2</th>\n",
       "      <th>c260.ZFP161</th>\n",
       "      <th>c1.P53</th>\n",
       "      <th>c210.PAX3</th>\n",
       "    </tr>\n",
       "  </thead>\n",
       "  <tbody>\n",
       "    <tr>\n",
       "      <th>0</th>\n",
       "      <td>0</td>\n",
       "      <td>2</td>\n",
       "      <td>0</td>\n",
       "      <td>0</td>\n",
       "      <td>0</td>\n",
       "      <td>0</td>\n",
       "      <td>0</td>\n",
       "      <td>0</td>\n",
       "      <td>0</td>\n",
       "      <td>0</td>\n",
       "      <td>...</td>\n",
       "      <td>0</td>\n",
       "      <td>0</td>\n",
       "      <td>0</td>\n",
       "      <td>0</td>\n",
       "      <td>0</td>\n",
       "      <td>0</td>\n",
       "      <td>0</td>\n",
       "      <td>0</td>\n",
       "      <td>0</td>\n",
       "      <td>0</td>\n",
       "    </tr>\n",
       "    <tr>\n",
       "      <th>1</th>\n",
       "      <td>14</td>\n",
       "      <td>0</td>\n",
       "      <td>0</td>\n",
       "      <td>0</td>\n",
       "      <td>0</td>\n",
       "      <td>3</td>\n",
       "      <td>0</td>\n",
       "      <td>0</td>\n",
       "      <td>0</td>\n",
       "      <td>0</td>\n",
       "      <td>...</td>\n",
       "      <td>0</td>\n",
       "      <td>0</td>\n",
       "      <td>0</td>\n",
       "      <td>0</td>\n",
       "      <td>0</td>\n",
       "      <td>0</td>\n",
       "      <td>0</td>\n",
       "      <td>0</td>\n",
       "      <td>0</td>\n",
       "      <td>0</td>\n",
       "    </tr>\n",
       "    <tr>\n",
       "      <th>2</th>\n",
       "      <td>0</td>\n",
       "      <td>0</td>\n",
       "      <td>0</td>\n",
       "      <td>0</td>\n",
       "      <td>0</td>\n",
       "      <td>0</td>\n",
       "      <td>0</td>\n",
       "      <td>0</td>\n",
       "      <td>0</td>\n",
       "      <td>0</td>\n",
       "      <td>...</td>\n",
       "      <td>0</td>\n",
       "      <td>0</td>\n",
       "      <td>0</td>\n",
       "      <td>0</td>\n",
       "      <td>0</td>\n",
       "      <td>0</td>\n",
       "      <td>0</td>\n",
       "      <td>0</td>\n",
       "      <td>0</td>\n",
       "      <td>0</td>\n",
       "    </tr>\n",
       "    <tr>\n",
       "      <th>3</th>\n",
       "      <td>0</td>\n",
       "      <td>0</td>\n",
       "      <td>0</td>\n",
       "      <td>0</td>\n",
       "      <td>0</td>\n",
       "      <td>0</td>\n",
       "      <td>0</td>\n",
       "      <td>0</td>\n",
       "      <td>0</td>\n",
       "      <td>0</td>\n",
       "      <td>...</td>\n",
       "      <td>0</td>\n",
       "      <td>0</td>\n",
       "      <td>0</td>\n",
       "      <td>0</td>\n",
       "      <td>0</td>\n",
       "      <td>0</td>\n",
       "      <td>0</td>\n",
       "      <td>0</td>\n",
       "      <td>0</td>\n",
       "      <td>0</td>\n",
       "    </tr>\n",
       "    <tr>\n",
       "      <th>4</th>\n",
       "      <td>0</td>\n",
       "      <td>1</td>\n",
       "      <td>0</td>\n",
       "      <td>0</td>\n",
       "      <td>0</td>\n",
       "      <td>0</td>\n",
       "      <td>0</td>\n",
       "      <td>1</td>\n",
       "      <td>0</td>\n",
       "      <td>0</td>\n",
       "      <td>...</td>\n",
       "      <td>0</td>\n",
       "      <td>0</td>\n",
       "      <td>0</td>\n",
       "      <td>0</td>\n",
       "      <td>0</td>\n",
       "      <td>0</td>\n",
       "      <td>0</td>\n",
       "      <td>0</td>\n",
       "      <td>0</td>\n",
       "      <td>0</td>\n",
       "    </tr>\n",
       "  </tbody>\n",
       "</table>\n",
       "<p>5 rows × 283 columns</p>\n",
       "</div>"
      ],
      "text/plain": [
       "   c278-HD/5  c25-ETS  c75-Forkhead  c265-HD/2  c90-MYC/MAX  c269-HD/3  \\\n",
       "0          0        2             0          0            0          0   \n",
       "1         14        0             0          0            0          3   \n",
       "2          0        0             0          0            0          0   \n",
       "3          0        0             0          0            0          0   \n",
       "4          0        1             0          0            0          0   \n",
       "\n",
       "   c64.ESRRA/2  c39-SOX  c85-NR/2  c68-CREB/ATF    ...      c167.PAX4/3  \\\n",
       "0            0        0         0             0    ...                0   \n",
       "1            0        0         0             0    ...                0   \n",
       "2            0        0         0             0    ...                0   \n",
       "3            0        0         0             0    ...                0   \n",
       "4            0        1         0             0    ...                0   \n",
       "\n",
       "   c161.SMAD3  c225.PUR1  c105.FOXP1  c245.AP3  c263.DEAF1/2  c152.AIRE/2  \\\n",
       "0           0          0           0         0             0            0   \n",
       "1           0          0           0         0             0            0   \n",
       "2           0          0           0         0             0            0   \n",
       "3           0          0           0         0             0            0   \n",
       "4           0          0           0         0             0            0   \n",
       "\n",
       "   c260.ZFP161  c1.P53  c210.PAX3  \n",
       "0            0       0          0  \n",
       "1            0       0          0  \n",
       "2            0       0          0  \n",
       "3            0       0          0  \n",
       "4            0       0          0  \n",
       "\n",
       "[5 rows x 283 columns]"
      ]
     },
     "execution_count": 17,
     "metadata": {},
     "output_type": "execute_result"
    }
   ],
   "source": [
    "cluster_tableDF.head()"
   ]
  },
  {
   "cell_type": "code",
   "execution_count": 18,
   "metadata": {},
   "outputs": [],
   "source": [
    "cluster_tableDF.to_csv('20619_FIMOtable_clusters.txt', sep='\\t', index=False)"
   ]
  },
  {
   "cell_type": "markdown",
   "metadata": {},
   "source": [
    "for some stupid reason, the numpy is way slower"
   ]
  },
  {
   "cell_type": "code",
   "execution_count": 19,
   "metadata": {},
   "outputs": [],
   "source": [
    "np.save('20619_cluster_table.npy', cluster_tableDF.values.astype(int))"
   ]
  },
  {
   "cell_type": "code",
   "execution_count": null,
   "metadata": {},
   "outputs": [],
   "source": []
  }
 ],
 "metadata": {
  "kernelspec": {
   "display_name": "Python 3",
   "language": "python",
   "name": "python3"
  },
  "language_info": {
   "codemirror_mode": {
    "name": "ipython",
    "version": 3
   },
   "file_extension": ".py",
   "mimetype": "text/x-python",
   "name": "python",
   "nbconvert_exporter": "python",
   "pygments_lexer": "ipython3",
   "version": "3.5.3"
  }
 },
 "nbformat": 4,
 "nbformat_minor": 2
}
