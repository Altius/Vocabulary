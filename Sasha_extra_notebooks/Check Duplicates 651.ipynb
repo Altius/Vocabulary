{
 "cells": [
  {
   "cell_type": "code",
   "execution_count": 1,
   "metadata": {
    "collapsed": true
   },
   "outputs": [],
   "source": [
    "import numpy as np\n",
    "import pandas as pd\n",
    "import matplotlib.pyplot as plt"
   ]
  },
  {
   "cell_type": "code",
   "execution_count": 2,
   "metadata": {
    "collapsed": true
   },
   "outputs": [],
   "source": [
    "origfinname = '2017-11-27SampleCustomStats_thresh0.35_Ncomp16.txt'"
   ]
  },
  {
   "cell_type": "code",
   "execution_count": 1,
   "metadata": {
    "collapsed": true
   },
   "outputs": [],
   "source": [
    "dupefinname = '2018-02-12PA651CustomStats_thresh0.35.txt'"
   ]
  },
  {
   "cell_type": "code",
   "execution_count": 6,
   "metadata": {
    "collapsed": true
   },
   "outputs": [],
   "source": [
    "orig_table = pd.read_table(origfinname, header=None, sep =' ')"
   ]
  },
  {
   "cell_type": "code",
   "execution_count": 7,
   "metadata": {},
   "outputs": [
    {
     "data": {
      "text/plain": [
       "(651, 10)"
      ]
     },
     "execution_count": 7,
     "metadata": {},
     "output_type": "execute_result"
    }
   ],
   "source": [
    "orig_table.shape"
   ]
  },
  {
   "cell_type": "code",
   "execution_count": 8,
   "metadata": {},
   "outputs": [
    {
     "data": {
      "text/html": [
       "<div>\n",
       "<style scoped>\n",
       "    .dataframe tbody tr th:only-of-type {\n",
       "        vertical-align: middle;\n",
       "    }\n",
       "\n",
       "    .dataframe tbody tr th {\n",
       "        vertical-align: top;\n",
       "    }\n",
       "\n",
       "    .dataframe thead th {\n",
       "        text-align: right;\n",
       "    }\n",
       "</style>\n",
       "<table border=\"1\" class=\"dataframe\">\n",
       "  <thead>\n",
       "    <tr style=\"text-align: right;\">\n",
       "      <th></th>\n",
       "      <th>0</th>\n",
       "      <th>1</th>\n",
       "      <th>2</th>\n",
       "      <th>3</th>\n",
       "      <th>4</th>\n",
       "      <th>5</th>\n",
       "      <th>6</th>\n",
       "      <th>7</th>\n",
       "      <th>8</th>\n",
       "      <th>9</th>\n",
       "    </tr>\n",
       "  </thead>\n",
       "  <tbody>\n",
       "    <tr>\n",
       "      <th>0</th>\n",
       "      <td>0</td>\n",
       "      <td>vHMEC_DS18406</td>\n",
       "      <td>141195</td>\n",
       "      <td>51190</td>\n",
       "      <td>1989174</td>\n",
       "      <td>51185</td>\n",
       "      <td>0.733938</td>\n",
       "      <td>0.733919</td>\n",
       "      <td>0.954148</td>\n",
       "      <td>0.733929</td>\n",
       "    </tr>\n",
       "    <tr>\n",
       "      <th>1</th>\n",
       "      <td>1</td>\n",
       "      <td>Skin.Melanocytes_DS18590</td>\n",
       "      <td>72149</td>\n",
       "      <td>39372</td>\n",
       "      <td>2026484</td>\n",
       "      <td>94739</td>\n",
       "      <td>0.432320</td>\n",
       "      <td>0.646954</td>\n",
       "      <td>0.939934</td>\n",
       "      <td>0.518295</td>\n",
       "    </tr>\n",
       "    <tr>\n",
       "      <th>2</th>\n",
       "      <td>2</td>\n",
       "      <td>Skin.Keratinocytes_DS18692</td>\n",
       "      <td>137940</td>\n",
       "      <td>54639</td>\n",
       "      <td>1972237</td>\n",
       "      <td>67928</td>\n",
       "      <td>0.670041</td>\n",
       "      <td>0.716277</td>\n",
       "      <td>0.945105</td>\n",
       "      <td>0.692388</td>\n",
       "    </tr>\n",
       "    <tr>\n",
       "      <th>3</th>\n",
       "      <td>3</td>\n",
       "      <td>Pancreas_DS20753</td>\n",
       "      <td>19741</td>\n",
       "      <td>9328</td>\n",
       "      <td>2180877</td>\n",
       "      <td>22798</td>\n",
       "      <td>0.464068</td>\n",
       "      <td>0.679108</td>\n",
       "      <td>0.985611</td>\n",
       "      <td>0.551363</td>\n",
       "    </tr>\n",
       "    <tr>\n",
       "      <th>4</th>\n",
       "      <td>4</td>\n",
       "      <td>Ovary_DS20827</td>\n",
       "      <td>25726</td>\n",
       "      <td>8661</td>\n",
       "      <td>2178822</td>\n",
       "      <td>19535</td>\n",
       "      <td>0.568392</td>\n",
       "      <td>0.748132</td>\n",
       "      <td>0.987372</td>\n",
       "      <td>0.645992</td>\n",
       "    </tr>\n",
       "  </tbody>\n",
       "</table>\n",
       "</div>"
      ],
      "text/plain": [
       "   0                           1       2      3        4      5         6  \\\n",
       "0  0               vHMEC_DS18406  141195  51190  1989174  51185  0.733938   \n",
       "1  1    Skin.Melanocytes_DS18590   72149  39372  2026484  94739  0.432320   \n",
       "2  2  Skin.Keratinocytes_DS18692  137940  54639  1972237  67928  0.670041   \n",
       "3  3            Pancreas_DS20753   19741   9328  2180877  22798  0.464068   \n",
       "4  4               Ovary_DS20827   25726   8661  2178822  19535  0.568392   \n",
       "\n",
       "          7         8         9  \n",
       "0  0.733919  0.954148  0.733929  \n",
       "1  0.646954  0.939934  0.518295  \n",
       "2  0.716277  0.945105  0.692388  \n",
       "3  0.679108  0.985611  0.551363  \n",
       "4  0.748132  0.987372  0.645992  "
      ]
     },
     "execution_count": 8,
     "metadata": {},
     "output_type": "execute_result"
    }
   ],
   "source": [
    "orig_table.head()"
   ]
  },
  {
   "cell_type": "code",
   "execution_count": 9,
   "metadata": {
    "collapsed": true
   },
   "outputs": [],
   "source": [
    "dupe_table = pd.read_table(dupefinname, header=None, sep =' ')"
   ]
  },
  {
   "cell_type": "code",
   "execution_count": 10,
   "metadata": {},
   "outputs": [
    {
     "data": {
      "text/html": [
       "<div>\n",
       "<style scoped>\n",
       "    .dataframe tbody tr th:only-of-type {\n",
       "        vertical-align: middle;\n",
       "    }\n",
       "\n",
       "    .dataframe tbody tr th {\n",
       "        vertical-align: top;\n",
       "    }\n",
       "\n",
       "    .dataframe thead th {\n",
       "        text-align: right;\n",
       "    }\n",
       "</style>\n",
       "<table border=\"1\" class=\"dataframe\">\n",
       "  <thead>\n",
       "    <tr style=\"text-align: right;\">\n",
       "      <th></th>\n",
       "      <th>0</th>\n",
       "      <th>1</th>\n",
       "      <th>2</th>\n",
       "      <th>3</th>\n",
       "      <th>4</th>\n",
       "      <th>5</th>\n",
       "      <th>6</th>\n",
       "      <th>7</th>\n",
       "      <th>8</th>\n",
       "      <th>9</th>\n",
       "    </tr>\n",
       "  </thead>\n",
       "  <tbody>\n",
       "    <tr>\n",
       "      <th>0</th>\n",
       "      <td>0</td>\n",
       "      <td>vHMEC_DS18406</td>\n",
       "      <td>159149</td>\n",
       "      <td>45898</td>\n",
       "      <td>1994466</td>\n",
       "      <td>33231</td>\n",
       "      <td>0.827264</td>\n",
       "      <td>0.776159</td>\n",
       "      <td>0.964560</td>\n",
       "      <td>0.800897</td>\n",
       "    </tr>\n",
       "    <tr>\n",
       "      <th>1</th>\n",
       "      <td>1</td>\n",
       "      <td>Skin.Melanocytes_DS18590</td>\n",
       "      <td>72264</td>\n",
       "      <td>39655</td>\n",
       "      <td>2026201</td>\n",
       "      <td>94624</td>\n",
       "      <td>0.433009</td>\n",
       "      <td>0.645681</td>\n",
       "      <td>0.939859</td>\n",
       "      <td>0.518380</td>\n",
       "    </tr>\n",
       "    <tr>\n",
       "      <th>2</th>\n",
       "      <td>2</td>\n",
       "      <td>Skin.Keratinocytes_DS18692</td>\n",
       "      <td>158841</td>\n",
       "      <td>48976</td>\n",
       "      <td>1977900</td>\n",
       "      <td>47027</td>\n",
       "      <td>0.771567</td>\n",
       "      <td>0.764331</td>\n",
       "      <td>0.957002</td>\n",
       "      <td>0.767932</td>\n",
       "    </tr>\n",
       "    <tr>\n",
       "      <th>3</th>\n",
       "      <td>3</td>\n",
       "      <td>Pancreas_DS20753</td>\n",
       "      <td>19756</td>\n",
       "      <td>9036</td>\n",
       "      <td>2181169</td>\n",
       "      <td>22783</td>\n",
       "      <td>0.464421</td>\n",
       "      <td>0.686163</td>\n",
       "      <td>0.985749</td>\n",
       "      <td>0.553925</td>\n",
       "    </tr>\n",
       "    <tr>\n",
       "      <th>4</th>\n",
       "      <td>4</td>\n",
       "      <td>Ovary_DS20827</td>\n",
       "      <td>25732</td>\n",
       "      <td>8841</td>\n",
       "      <td>2178642</td>\n",
       "      <td>19529</td>\n",
       "      <td>0.568525</td>\n",
       "      <td>0.744280</td>\n",
       "      <td>0.987294</td>\n",
       "      <td>0.644638</td>\n",
       "    </tr>\n",
       "  </tbody>\n",
       "</table>\n",
       "</div>"
      ],
      "text/plain": [
       "   0                           1       2      3        4      5         6  \\\n",
       "0  0               vHMEC_DS18406  159149  45898  1994466  33231  0.827264   \n",
       "1  1    Skin.Melanocytes_DS18590   72264  39655  2026201  94624  0.433009   \n",
       "2  2  Skin.Keratinocytes_DS18692  158841  48976  1977900  47027  0.771567   \n",
       "3  3            Pancreas_DS20753   19756   9036  2181169  22783  0.464421   \n",
       "4  4               Ovary_DS20827   25732   8841  2178642  19529  0.568525   \n",
       "\n",
       "          7         8         9  \n",
       "0  0.776159  0.964560  0.800897  \n",
       "1  0.645681  0.939859  0.518380  \n",
       "2  0.764331  0.957002  0.767932  \n",
       "3  0.686163  0.985749  0.553925  \n",
       "4  0.744280  0.987294  0.644638  "
      ]
     },
     "execution_count": 10,
     "metadata": {},
     "output_type": "execute_result"
    }
   ],
   "source": [
    "dupe_table.head()"
   ]
  },
  {
   "cell_type": "code",
   "execution_count": 11,
   "metadata": {
    "collapsed": true
   },
   "outputs": [],
   "source": [
    "origF1s = orig_table[9].values"
   ]
  },
  {
   "cell_type": "code",
   "execution_count": 12,
   "metadata": {
    "collapsed": true
   },
   "outputs": [],
   "source": [
    "newF1s = dupe_table[9].values"
   ]
  },
  {
   "cell_type": "code",
   "execution_count": 13,
   "metadata": {},
   "outputs": [
    {
     "data": {
      "text/plain": [
       "901"
      ]
     },
     "execution_count": 13,
     "metadata": {},
     "output_type": "execute_result"
    }
   ],
   "source": [
    "len(newF1s)"
   ]
  },
  {
   "cell_type": "code",
   "execution_count": 14,
   "metadata": {},
   "outputs": [
    {
     "data": {
      "text/plain": [
       "651"
      ]
     },
     "execution_count": 14,
     "metadata": {},
     "output_type": "execute_result"
    }
   ],
   "source": [
    "len(origF1s)"
   ]
  },
  {
   "cell_type": "code",
   "execution_count": 15,
   "metadata": {},
   "outputs": [
    {
     "data": {
      "text/plain": [
       "0.71433104864689656"
      ]
     },
     "execution_count": 15,
     "metadata": {},
     "output_type": "execute_result"
    }
   ],
   "source": [
    "np.mean(origF1s)"
   ]
  },
  {
   "cell_type": "code",
   "execution_count": 24,
   "metadata": {},
   "outputs": [
    {
     "data": {
      "text/plain": [
       "0.73379627713725259"
      ]
     },
     "execution_count": 24,
     "metadata": {},
     "output_type": "execute_result"
    }
   ],
   "source": [
    "np.median(origF1s)"
   ]
  },
  {
   "cell_type": "code",
   "execution_count": null,
   "metadata": {
    "collapsed": true
   },
   "outputs": [],
   "source": [
    "origF1s[]"
   ]
  },
  {
   "cell_type": "code",
   "execution_count": 16,
   "metadata": {},
   "outputs": [
    {
     "data": {
      "text/plain": [
       "0.70927377601129482"
      ]
     },
     "execution_count": 16,
     "metadata": {},
     "output_type": "execute_result"
    }
   ],
   "source": [
    "np.mean(newF1s[0:651])"
   ]
  },
  {
   "cell_type": "code",
   "execution_count": 23,
   "metadata": {},
   "outputs": [
    {
     "data": {
      "text/plain": [
       "0.72728284045610447"
      ]
     },
     "execution_count": 23,
     "metadata": {},
     "output_type": "execute_result"
    }
   ],
   "source": [
    "np.median(newF1s[0:651])"
   ]
  },
  {
   "cell_type": "code",
   "execution_count": 17,
   "metadata": {},
   "outputs": [
    {
     "data": {
      "text/plain": [
       "1.0"
      ]
     },
     "execution_count": 17,
     "metadata": {},
     "output_type": "execute_result"
    }
   ],
   "source": [
    "np.mean(newF1s[651:])"
   ]
  },
  {
   "cell_type": "code",
   "execution_count": 25,
   "metadata": {},
   "outputs": [
    {
     "data": {
      "image/png": "[encoded data removed]",
      "text/plain": [
       "<matplotlib.figure.Figure at 0x1122a7e48>"
      ]
     },
     "metadata": {},
     "output_type": "display_data"
    }
   ],
   "source": [
    "plt.clf()\n",
    "plt.plot(origF1s, newF1s[0:651], 'ok')\n",
    "plt.plot([0.3,1], [0.3,1], '--k')\n",
    "plt.xlabel('original F1 scores')\n",
    "plt.ylabel('F1 scores with 250 dupes of fKidney_DS17753')\n",
    "plt.show()"
   ]
  },
  {
   "cell_type": "code",
   "execution_count": 26,
   "metadata": {
    "collapsed": true
   },
   "outputs": [],
   "source": [
    "enhrat = newF1s[0:651] / origF1s"
   ]
  },
  {
   "cell_type": "code",
   "execution_count": 27,
   "metadata": {},
   "outputs": [
    {
     "data": {
      "text/plain": [
       "array([ 1.09124631,  1.00016414,  1.10910632,  1.0046461 ,  0.99790285,\n",
       "        0.98204696,  1.00471604,  1.00013516,  1.00833331,  1.0017884 ,\n",
       "        0.99813629,  0.99736277,  1.00333938,  1.00438751,  1.00081616,\n",
       "        1.00033598,  1.00164354,  1.00012478,  1.00075423,  0.9963187 ,\n",
       "        0.91901387,  0.93236588,  0.97187597,  0.90275252,  0.88302257,\n",
       "        0.92757929,  0.89299814,  0.86509767,  0.99004132,  1.00303863,\n",
       "        0.99428065,  0.99977994,  0.99927722,  0.80559382,  1.00032562,\n",
       "        0.93957018,  0.99976003,  1.00780887,  0.99911526,  1.01683932,\n",
       "        1.0018069 ,  1.00546504,  0.99915195,  1.1264523 ,  1.00075244,\n",
       "        0.79854434,  1.00572401,  1.00296843,  1.01210682,  1.00038766,\n",
       "        1.00070925,  0.99862801,  0.99980884,  1.00399432,  1.19845884,\n",
       "        1.16592039,  1.01829831,  1.02902717,  1.04521702,  1.03284586,\n",
       "        1.00403528,  1.00191107,  0.99140957,  0.99209928,  1.07054721,\n",
       "        1.06056169,  0.97812429,  0.96877091,  0.99236219,  0.97428633,\n",
       "        1.0057157 ,  1.00115999,  1.00640371,  0.99432327,  1.01201085,\n",
       "        0.99473923,  0.98628339,  0.98674863,  0.99975648,  0.99857626,\n",
       "        0.9925872 ,  1.00141632,  0.98510421,  0.98465606,  1.0119565 ,\n",
       "        1.00043128,  0.99950757,  1.00191346,  1.00991154,  1.02332543,\n",
       "        0.99510192,  1.00539056,  0.91566165,  1.00031124,  0.99516699,\n",
       "        1.00450386,  0.980559  ,  1.02824453,  0.99022673,  0.98116152,\n",
       "        0.99830709,  0.99876208,  0.99277806,  1.00848857,  0.99485614,\n",
       "        1.01364724,  0.99041437,  0.97538569,  0.98215654,  1.00329675,\n",
       "        1.00968835,  1.00183285,  1.00328941,  0.92177556,  0.99821092,\n",
       "        1.08286675,  0.99397149,  0.99558891,  0.98827762,  0.99459979,\n",
       "        0.99873274,  0.99746039,  1.00086279,  1.00027312,  0.9908892 ,\n",
       "        0.9859354 ,  0.96866158,  0.91932632,  0.96260222,  0.9976395 ,\n",
       "        0.99823156,  1.00178571,  1.00086614,  0.99612717,  1.10913661,\n",
       "        1.12940299,  1.2156635 ,  1.21391903,  0.99971883,  1.00034136,\n",
       "        0.99943841,  0.99479133,  0.99855923,  0.99823616,  1.00019707,\n",
       "        1.00133495,  0.98221983,  0.98677243,  0.99881882,  0.99861083,\n",
       "        0.9990089 ,  0.99831205,  0.99807345,  1.0006416 ,  1.00241134,\n",
       "        1.0011556 ,  0.99950675,  0.99963144,  0.99910671,  1.00130299,\n",
       "        0.99898866,  0.99935132,  1.00126596,  0.9994552 ,  1.00179836,\n",
       "        1.00011712,  0.99715708,  0.99831102,  0.99958442,  0.99908108,\n",
       "        0.81392593,  0.96076506,  0.99772905,  0.99827397,  0.99908669,\n",
       "        1.00068122,  0.99971375,  1.00261962,  1.1661957 ,  1.19509842,\n",
       "        0.99748446,  1.00191638,  1.00306365,  1.00306274,  1.00221673,\n",
       "        0.99863273,  1.00028899,  1.00726892,  1.00293868,  1.00778684,\n",
       "        1.00001323,  1.00079205,  1.00204355,  0.99780777,  1.00187904,\n",
       "        1.00070918,  1.00083144,  0.99964494,  1.00014405,  0.99820258,\n",
       "        0.99855125,  0.99779941,  0.99469392,  0.9968366 ,  1.00518098,\n",
       "        1.00219882,  1.0021559 ,  0.99753535,  0.9981203 ,  0.99450236,\n",
       "        1.00019523,  0.99326837,  0.99907957,  0.81438406,  1.08089606,\n",
       "        1.06805329,  1.02548017,  1.00089631,  0.96019867,  1.00102235,\n",
       "        0.99825224,  1.00061049,  1.00056297,  0.99514333,  0.99476957,\n",
       "        1.00007547,  1.00107293,  0.99885205,  0.98990811,  0.99936197,\n",
       "        1.00088141,  1.00193758,  0.99808492,  0.99912539,  0.99837117,\n",
       "        1.00130966,  1.00211592,  0.99726851,  0.99841913,  0.99893796,\n",
       "        0.99995459,  1.00017265,  1.00211514,  1.00326483,  0.99785748,\n",
       "        0.99429327,  0.99971643,  0.99905571,  0.99938676,  0.97780086,\n",
       "        0.97497435,  0.99927668,  0.99827518,  1.00683332,  0.99654711,\n",
       "        1.00355405,  1.00570655,  0.99259497,  0.99822383,  1.00018497,\n",
       "        0.99578127,  0.99951102,  0.9995261 ,  1.00408753,  1.2003082 ,\n",
       "        0.99931663,  0.99932857,  0.99724691,  0.98252159,  1.02391888,\n",
       "        1.06156794,  1.0004998 ,  1.06556574,  0.99242723,  0.98715101,\n",
       "        0.99826966,  0.98377268,  1.00024376,  0.99972114,  0.997835  ,\n",
       "        0.99928852,  0.95562057,  0.97559828,  1.00040413,  1.00037568,\n",
       "        0.99985316,  1.00067917,  0.9910827 ,  1.00659369,  1.00836609,\n",
       "        1.00067868,  1.00135673,  0.95130663,  0.98999308,  1.00743273,\n",
       "        0.97709055,  0.98453258,  0.97992366,  1.04620992,  1.07826474,\n",
       "        1.03630281,  1.0243755 ,  1.00503871,  1.00531773,  0.99953151,\n",
       "        0.99924457,  0.84508848,  0.8282377 ,  0.99899939,  0.99841276,\n",
       "        1.00137636,  0.99092807,  1.03758511,  0.98239308,  1.00888391,\n",
       "        0.98227096,  0.99874504,  1.00418462,  1.00080714,  1.00245061,\n",
       "        1.00152425,  0.99983211,  0.9449605 ,  0.99607631,  0.94170298,\n",
       "        0.99880007,  0.99968683,  1.00251244,  1.00192715,  1.00122725,\n",
       "        1.04310002,  0.99522681,  0.92890883,  0.9994474 ,  0.99831072,\n",
       "        0.99780633,  0.99905796,  1.0033627 ,  1.01503572,  1.01569384,\n",
       "        1.01160748,  1.00609849,  1.00341113,  1.00435782,  0.99648827,\n",
       "        0.99127425,  1.00119672,  0.9959558 ,  0.99337099,  0.99787591,\n",
       "        1.00186471,  0.9996623 ,  0.99692343,  0.99919424,  0.99830389,\n",
       "        0.9921117 ,  0.98589504,  1.006796  ,  1.00034575,  0.99419497,\n",
       "        1.00061464,  1.00019598,  0.99362926,  0.99285051,  0.99421647,\n",
       "        0.99674568,  0.9981821 ,  0.99732165,  1.00136048,  0.94395436,\n",
       "        1.00766528,  0.94272707,  1.00626727,  1.00251991,  0.99583969,\n",
       "        1.0023676 ,  0.98389951,  0.99701206,  0.99504053,  0.99098877,\n",
       "        0.99799659,  0.99394823,  1.00016944,  0.99661572,  0.99483948,\n",
       "        0.99740897,  0.91633483,  0.81388283,  0.99629309,  0.99948724,\n",
       "        0.98844902,  1.00240135,  0.99968835,  0.99684775,  1.00154811,\n",
       "        0.99864237,  1.00446258,  1.00569444,  0.99581701,  0.99021624,\n",
       "        0.98616963,  0.99191276,  0.99936091,  0.99991808,  1.00298042,\n",
       "        0.99946675,  0.94024134,  0.98453385,  0.99856025,  0.99086079,\n",
       "        0.99752168,  0.99674187,  1.00965227,  0.99722231,  1.00093241,\n",
       "        1.00010736,  1.00063917,  0.99524982,  1.00344862,  0.96285614,\n",
       "        0.99226903,  1.0006549 ,  1.00011878,  1.00166648,  1.00250322,\n",
       "        0.94123554,  0.94639716,  0.99693151,  0.98762791,  1.00432767,\n",
       "        0.9985812 ,  1.00137735,  1.00838145,  1.00854513,  0.94977146,\n",
       "        0.88279689,  0.99534884,  1.00510556,  0.9975083 ,  0.99798362,\n",
       "        0.98286465,  0.94389186,  0.99572845,  0.99858544,  1.00333545,\n",
       "        1.00033949,  0.99737833,  1.00061121,  0.9988578 ,  0.99196981,\n",
       "        1.00083012,  1.00024691,  0.99797009,  0.99745081,  0.99692665,\n",
       "        0.99793128,  1.00280163,  1.00012972,  1.02744581,  0.98857271,\n",
       "        1.23244062,  0.98641741,  0.95260891,  1.00063256,  0.99861583,\n",
       "        0.9877439 ,  0.92246839,  0.9890447 ,  1.00080744,  0.9992543 ,\n",
       "        0.99777278,  0.9987096 ,  0.98654053,  0.99087068,  0.99972367,\n",
       "        1.00007956,  0.99987264,  1.00229912,  0.9989334 ,  0.99292573,\n",
       "        0.9979905 ,  0.99602621,  0.99666536,  0.99798316,  1.00015224,\n",
       "        0.9998894 ,  0.75560574,  0.75492957,  0.99350198,  0.99922329,\n",
       "        0.99829955,  1.01506457,  1.00034053,  0.99938098,  0.99865341,\n",
       "        0.99793649,  1.00025877,  1.00012223,  0.99999297,  1.0010861 ,\n",
       "        0.82461619,  0.79239287,  0.99979446,  0.99805214,  0.99994521,\n",
       "        0.99897031,  0.99978321,  1.02305652,  1.04101053,  1.0026116 ,\n",
       "        0.99935771,  1.09730239,  0.99160262,  1.00041682,  0.99989664,\n",
       "        0.99904162,  0.99000359,  0.99856657,  0.99736968,  1.00628602,\n",
       "        0.9974496 ,  0.99793701,  0.99493071,  1.0001323 ,  0.99630006,\n",
       "        0.98929746,  0.99918099,  0.99880526,  0.9997875 ,  1.00040294,\n",
       "        0.92993605,  0.98899656,  0.98559259,  1.00008782,  0.98881999,\n",
       "        1.1376176 ,  1.1514903 ,  1.14249108,  0.99013575,  0.99993903,\n",
       "        0.98665198,  0.97253201,  0.99484069,  1.00056494,  0.94650695,\n",
       "        0.937527  ,  1.00106911,  0.9987797 ,  1.00386607,  0.99935971,\n",
       "        1.00338408,  1.00065415,  1.00555685,  0.99119347,  0.99604778,\n",
       "        0.99447884,  0.99646965,  0.99928714,  1.00185881,  1.00162308,\n",
       "        0.99995916,  0.92729083,  0.92345169,  0.92489949,  0.91180539,\n",
       "        1.00058143,  1.00059283,  0.84523765,  0.84533809,  0.99924026,\n",
       "        0.84181403,  0.99210581,  0.99942976,  1.00150269,  1.00318063,\n",
       "        1.00704666,  1.0001722 ,  1.00072077,  0.97129514,  1.00028728,\n",
       "        0.99992507,  0.95742881,  0.94379987,  0.99714199,  0.99829045,\n",
       "        0.99855973,  1.00037333,  1.00042377,  0.99892566,  0.99961764,\n",
       "        1.00081232,  1.00010153,  1.0005282 ,  0.99982976,  1.00112282,\n",
       "        1.00078697,  1.00030378,  1.00068634,  1.00079348,  1.00143889,\n",
       "        1.00075904,  0.89727642,  0.85199014,  0.99859899,  0.99895696,\n",
       "        0.99986213,  0.99891538,  0.93090739,  0.92245874,  0.94279515,\n",
       "        0.9529516 ,  0.99798165,  0.99815524,  1.00788041,  1.00179693,\n",
       "        0.96064068,  0.93028438,  0.95411005,  0.99711243,  0.99794828,\n",
       "        0.99901953,  0.99482846,  0.99800015,  0.99838744,  1.00186089,\n",
       "        1.00056432,  0.99517149,  0.84763116,  0.99609152,  0.99395409,\n",
       "        0.99406226,  0.99959656,  1.00162566,  0.99739671,  1.00304984,\n",
       "        0.99955697,  1.0016337 ,  0.99930763,  0.95638325,  0.89388512,\n",
       "        0.89902088,  1.0021688 ,  1.00021626,  1.00134417,  0.94205453,\n",
       "        1.00078091,  1.00005937,  0.99762874,  0.92405247,  0.99991297,\n",
       "        1.00451723])"
      ]
     },
     "execution_count": 27,
     "metadata": {},
     "output_type": "execute_result"
    }
   ],
   "source": [
    "enhrat"
   ]
  },
  {
   "cell_type": "code",
   "execution_count": 34,
   "metadata": {
    "collapsed": true
   },
   "outputs": [],
   "source": [
    "cut = enhrat>1.2"
   ]
  },
  {
   "cell_type": "code",
   "execution_count": 35,
   "metadata": {
    "collapsed": true
   },
   "outputs": [],
   "source": [
    "sampnames = orig_table[1].values"
   ]
  },
  {
   "cell_type": "code",
   "execution_count": 36,
   "metadata": {},
   "outputs": [
    {
     "data": {
      "text/plain": [
       "array(['PrEC_DS12088', 'PrEC_DS12098', 'HMEC_DS13921', 'fKidney_DS17753'], dtype=object)"
      ]
     },
     "execution_count": 36,
     "metadata": {},
     "output_type": "execute_result"
    }
   ],
   "source": [
    "sampnames[cut]"
   ]
  },
  {
   "cell_type": "code",
   "execution_count": 37,
   "metadata": {
    "collapsed": true
   },
   "outputs": [],
   "source": [
    "cut = enhrat<0.8"
   ]
  },
  {
   "cell_type": "code",
   "execution_count": 38,
   "metadata": {},
   "outputs": [
    {
     "data": {
      "text/plain": [
       "array(['MCF7_DS9445', 'MCF7_DS18021', 'MCF7.ER_DS18025', 'MCF7.ER_DS18271'], dtype=object)"
      ]
     },
     "execution_count": 38,
     "metadata": {},
     "output_type": "execute_result"
    }
   ],
   "source": [
    "sampnames[cut]"
   ]
  },
  {
   "cell_type": "code",
   "execution_count": 39,
   "metadata": {},
   "outputs": [
    {
     "data": {
      "text/plain": [
       "<matplotlib.figure.Figure at 0x1122ce3c8>"
      ]
     },
     "metadata": {},
     "output_type": "display_data"
    },
    {
     "data": {
      "image/png": "[encoded data removed]",
      "text/plain": [
       "<matplotlib.figure.Figure at 0x1120a8320>"
      ]
     },
     "metadata": {},
     "output_type": "display_data"
    }
   ],
   "source": [
    "plt.clf()\n",
    "plt.figure(figsize=(10,10))\n",
    "plt.plot(origF1s, newF1s[0:651], 'ok')\n",
    "plt.plot([0.3,1], [0.3,1], '--k')\n",
    "plt.xlabel('original F1 scores')\n",
    "plt.ylabel('F1 scores with 250 dupes of fKidney_DS17753')\n",
    "plt.show()"
   ]
  },
  {
   "cell_type": "code",
   "execution_count": 44,
   "metadata": {
    "collapsed": true
   },
   "outputs": [],
   "source": [
    "cut = enhrat<0.95"
   ]
  },
  {
   "cell_type": "code",
   "execution_count": 45,
   "metadata": {},
   "outputs": [
    {
     "data": {
      "text/plain": [
       "array(['fKidney.R_DS20917', 'fKidney.R_DS21340',\n",
       "       'fKidney.renal.cortex_DS20445', 'fKidney.L_DS20920',\n",
       "       'fKidney.L_DS21344', 'fKidney.L_DS20953', 'fKidney_DS21096',\n",
       "       'fKidney_DS20786', 'fKidney_DS20988', 'MCF7_DS9445',\n",
       "       'fKidney_DS21924A', 'HT29_DS25119A', 'fBrain_DS11877',\n",
       "       'MCF7_DS12619', 'fKidney_DS24709A', 'LNCap_DS14680',\n",
       "       'LNCap_DS14684', 'fBrain_DS14803', 'fBrain_DS14815',\n",
       "       'HT29_DS38587A', 'fBrain_DS16302', 'fKidney.R_DS16441',\n",
       "       'fKidney.R_DS16801', 'fKidney.L_DS16805', 'fKidney.R_DS17144',\n",
       "       'fKidney.renal.pelvis_DS17381', 'fKidney.renal.cortex_DS17387',\n",
       "       'fKidney.renal.pelvis_DS17451', 'fKidney.renal.cortex_DS17455',\n",
       "       'fKidney.renal.cortex.L_DS17550', 'fKidney.renal.cortex_DS17804',\n",
       "       'MCF7_DS18021', 'MCF7.ER_DS18025', 'MCF7_DS18267',\n",
       "       'MCF7.ER_DS18271', 'fKidney.renal.pelvis.R_DS18663',\n",
       "       'fKidney.renal.pelvis.R_DS18961', 'fKidney.renal.pelvis.L_DS18964',\n",
       "       'fKidney.renal.pelvis.R_DS19235', 'fKidney.renal.pelvis.L_DS19238',\n",
       "       'fKidney.renal.cortex.R_DS19254', 'fKidney.renal.cortex.L_DS19257',\n",
       "       'fKidney_DS24714A', 'fKidney_DS24801A', 'fKidney_DS24814A',\n",
       "       'fKidney.renal.cortex_DS19388', 'T.47D_DS19790', 'T.47D_DS19794',\n",
       "       'fKidney.renal.cortex_DS20018', 'fKidney.renal.pelvis_DS20022',\n",
       "       'fKidney.renal.cortex_DS20024', 'fBrain_DS20226',\n",
       "       'fKidney.renal.pelvis_DS20448', 'fKidney.renal.cortex_DS20568',\n",
       "       'fKidney.renal.pelvis_DS20570', 'fBrain_DS20780',\n",
       "       'fKidney.R_DS20951'], dtype=object)"
      ]
     },
     "execution_count": 45,
     "metadata": {},
     "output_type": "execute_result"
    }
   ],
   "source": [
    "sampnames[cut]"
   ]
  },
  {
   "cell_type": "code",
   "execution_count": 46,
   "metadata": {},
   "outputs": [
    {
     "data": {
      "text/plain": [
       "57"
      ]
     },
     "execution_count": 46,
     "metadata": {},
     "output_type": "execute_result"
    }
   ],
   "source": [
    "len(cut[cut])"
   ]
  },
  {
   "cell_type": "code",
   "execution_count": 47,
   "metadata": {
    "collapsed": true
   },
   "outputs": [],
   "source": [
    "cut = enhrat>1.05"
   ]
  },
  {
   "cell_type": "code",
   "execution_count": 48,
   "metadata": {},
   "outputs": [
    {
     "data": {
      "text/plain": [
       "array(['vHMEC_DS18406', 'Skin.Keratinocytes_DS18692', 'HMEC_DS8680',\n",
       "       'SAEC_DS10514', 'SAEC_DS10518', 'MCF10a.ER.SRC_DS22985',\n",
       "       'MCF10a.ER.SRC_DS22991', 'NHEK_DS11474', 'NHBE.RA_DS11959',\n",
       "       'NHBE.RA_DS11969', 'PrEC_DS12088', 'PrEC_DS12098', 'HEEpiC_DS12763',\n",
       "       'HEEpiC_DS12768', 'renal.cell.carcinoma_DS26693A',\n",
       "       'renal.cell.carcinoma_DS26692B', 'HMEC_DS13921', 'RPTEC_DS14065',\n",
       "       'kidney.tubular_DS27824', 'renal.cell.carcinoma_DS37973',\n",
       "       'fKidney_DS17753', 'vHMEC_DS18438', 'Skin.Keratinocytes_DS18695',\n",
       "       'Skin.Keratinocytes_DS18714', 'Skin.Keratinocytes_DS18718'], dtype=object)"
      ]
     },
     "execution_count": 48,
     "metadata": {},
     "output_type": "execute_result"
    }
   ],
   "source": [
    "sampnames[cut]"
   ]
  },
  {
   "cell_type": "code",
   "execution_count": 49,
   "metadata": {},
   "outputs": [
    {
     "data": {
      "text/plain": [
       "25"
      ]
     },
     "execution_count": 49,
     "metadata": {},
     "output_type": "execute_result"
    }
   ],
   "source": [
    "len(cut[cut])"
   ]
  },
  {
   "cell_type": "code",
   "execution_count": 56,
   "metadata": {},
   "outputs": [
    {
     "data": {
      "text/plain": [
       "<matplotlib.figure.Figure at 0x112bae2b0>"
      ]
     },
     "metadata": {},
     "output_type": "display_data"
    },
    {
     "data": {
      "image/png": "[encoded data removed]",
      "text/plain": [
       "<matplotlib.figure.Figure at 0x112bed2b0>"
      ]
     },
     "metadata": {},
     "output_type": "display_data"
    }
   ],
   "source": [
    "plt.clf()\n",
    "plt.figure(figsize=(10,10))\n",
    "plt.hist(newF1s[0:651], bins=30, range=(0,1), alpha=0.5)\n",
    "plt.hist(origF1s[0:651], bins=30, range=(0,1), alpha=0.5)\n",
    "plt.xlabel('F1 score')\n",
    "plt.ylabel('N samples')\n",
    "plt.legend(['with dupes', 'without dupes'])\n",
    "plt.show()"
   ]
  },
  {
   "cell_type": "code",
   "execution_count": null,
   "metadata": {
    "collapsed": true
   },
   "outputs": [],
   "source": []
  }
 ],
 "metadata": {
  "anaconda-cloud": {},
  "kernelspec": {
   "display_name": "Python 3",
   "language": "python",
   "name": "python3"
  },
  "language_info": {
   "codemirror_mode": {
    "name": "ipython",
    "version": 3
   },
   "file_extension": ".py",
   "mimetype": "text/x-python",
   "name": "python",
   "nbconvert_exporter": "python",
   "pygments_lexer": "ipython3",
   "version": "3.6.8"
  }
 },
 "nbformat": 4,
 "nbformat_minor": 1
}
